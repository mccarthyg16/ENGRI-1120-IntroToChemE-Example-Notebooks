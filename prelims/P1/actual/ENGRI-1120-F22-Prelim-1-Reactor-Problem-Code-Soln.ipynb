{
 "cells": [
  {
   "cell_type": "markdown",
   "id": "5f950242-8a90-4801-8611-f0eba2c65773",
   "metadata": {},
   "source": [
    "<figure>\n",
    "<img src=\"latex/figs/Fig-Schematic-Reactor-Problem.pdf\" style=\"width:80%\">\n",
    "</figure>"
   ]
  },
  {
   "cell_type": "code",
   "execution_count": 1,
   "id": "86c8b8b9-50ed-4802-98d0-b43f4db5d213",
   "metadata": {},
   "outputs": [
    {
     "name": "stderr",
     "output_type": "stream",
     "text": [
      "\u001b[32m\u001b[1m  Activating\u001b[22m\u001b[39m project at `~/Desktop/julia_work/ENGRI-1120-Prelim-1-F22`\n",
      "\u001b[32m\u001b[1m  No Changes\u001b[22m\u001b[39m to `~/Desktop/julia_work/ENGRI-1120-Prelim-1-F22/Project.toml`\n",
      "\u001b[32m\u001b[1m  No Changes\u001b[22m\u001b[39m to `~/Desktop/julia_work/ENGRI-1120-Prelim-1-F22/Manifest.toml`\n"
     ]
    }
   ],
   "source": [
    "import Pkg; Pkg.activate(\".\"); Pkg.resolve(); Pkg.instantiate();"
   ]
  },
  {
   "cell_type": "code",
   "execution_count": 2,
   "id": "a3eea7f3-3c2a-4fe3-9e3c-048e1b91b95c",
   "metadata": {},
   "outputs": [],
   "source": [
    "using PrettyTables"
   ]
  },
  {
   "cell_type": "markdown",
   "id": "778217a8-341c-4118-98eb-8993a1393e41",
   "metadata": {},
   "source": [
    "## REACTOR PROBLEM CALCULATIONS"
   ]
  },
  {
   "cell_type": "code",
   "execution_count": 3,
   "id": "d9f5163b-ea25-4b8f-a095-066430b83a4a",
   "metadata": {},
   "outputs": [],
   "source": [
    "# system dimension\n",
    "# ℳ = {A, B, P}\n",
    "M = 3; # how many chemical species do we have?\n",
    "R = 1; # how many reactions do we have\n",
    "num_S = 5; # how many streams do we have?"
   ]
  },
  {
   "cell_type": "markdown",
   "id": "867705b5-ceba-4970-91dc-a381fff8597f",
   "metadata": {},
   "source": [
    "### Mole balance around reactor unit"
   ]
  },
  {
   "cell_type": "code",
   "execution_count": 4,
   "id": "6a334330-fd62-4513-9156-e268107c22e1",
   "metadata": {},
   "outputs": [],
   "source": [
    "# Stoichiometic matrix -\n",
    "S = [\n",
    "    -2.0 ; # 1 A\n",
    "    -1.0 ; # 2 B\n",
    "    1.0  ; # 3 P\n",
    "];"
   ]
  },
  {
   "cell_type": "code",
   "execution_count": 5,
   "id": "89306745-b167-4178-a168-8f239ae0f404",
   "metadata": {},
   "outputs": [],
   "source": [
    "# setup inputs streams -\n",
    "ṅ_1 = [\n",
    "    95.0;  # 1 A units: mmol/hr\n",
    "    0.0;   # 2 B units: mmol/hr\n",
    "    0.0;   # 3 P units: mmol/hr\n",
    "];\n",
    "\n",
    "ṅ_2 = [\n",
    "    5.0  ;  # 1 A units: mmol/hr\n",
    "    40.0 ;  # 2 B units: mmol/hr\n",
    "    0.0  ;  # 3 P units: mmol/hr\n",
    "];"
   ]
  },
  {
   "cell_type": "code",
   "execution_count": 6,
   "id": "c3e382b2-b049-4ee0-b714-14d66bac7e28",
   "metadata": {},
   "outputs": [
    {
     "data": {
      "text/plain": [
       "3-element Vector{Float64}:\n",
       " 1.0\n",
       " 0.0\n",
       " 0.0"
      ]
     },
     "execution_count": 6,
     "metadata": {},
     "output_type": "execute_result"
    }
   ],
   "source": [
    "x_1 = (1/sum(ṅ_1))*ṅ_1"
   ]
  },
  {
   "cell_type": "code",
   "execution_count": 7,
   "id": "2bcd3d34-c30f-4595-9e08-4fd14313c245",
   "metadata": {},
   "outputs": [
    {
     "data": {
      "text/plain": [
       "3-element Vector{Float64}:\n",
       " 0.11111111111111112\n",
       " 0.888888888888889\n",
       " 0.0"
      ]
     },
     "execution_count": 7,
     "metadata": {},
     "output_type": "execute_result"
    }
   ],
   "source": [
    "x_2 = (1/sum(ṅ_2))*ṅ_2"
   ]
  },
  {
   "cell_type": "code",
   "execution_count": 8,
   "id": "3b6f7ce5-5abd-4cba-a8b3-e90022bd5f15",
   "metadata": {},
   "outputs": [],
   "source": [
    "# compute the maximum possible open extent \n",
    "tmp_array = Array{Float64,1}()\n",
    "for i ∈ 1:2\n",
    "    tmp_value = (-1/S[i,1])*(ṅ_1[i]+ṅ_2[2])\n",
    "    push!(tmp_array, tmp_value)\n",
    "end"
   ]
  },
  {
   "cell_type": "code",
   "execution_count": 9,
   "id": "d3685c0f-7f2c-49e4-928b-97420fa72f69",
   "metadata": {},
   "outputs": [
    {
     "data": {
      "text/plain": [
       "40.0"
      ]
     },
     "execution_count": 9,
     "metadata": {},
     "output_type": "execute_result"
    }
   ],
   "source": [
    "ϵ̇_max = minimum(tmp_array) # units: mmol/hr"
   ]
  },
  {
   "cell_type": "code",
   "execution_count": 10,
   "id": "dc64ff1e-e370-4d1d-8c1a-69bee8236b95",
   "metadata": {},
   "outputs": [
    {
     "data": {
      "text/plain": [
       "26.8"
      ]
     },
     "execution_count": 10,
     "metadata": {},
     "output_type": "execute_result"
    }
   ],
   "source": [
    "# set the fraction of the max the reaction goes -\n",
    "α = 0.67;\n",
    "ϵ̇₁ = α*ϵ̇_max"
   ]
  },
  {
   "cell_type": "code",
   "execution_count": 11,
   "id": "69ad952b-0721-4fe7-bc0e-0d29eac906eb",
   "metadata": {},
   "outputs": [
    {
     "data": {
      "text/plain": [
       "3-element Vector{Float64}:\n",
       " 46.4\n",
       " 13.2\n",
       " 26.8"
      ]
     },
     "execution_count": 11,
     "metadata": {},
     "output_type": "execute_result"
    }
   ],
   "source": [
    "# compute the composition of stream 3 -\n",
    "ṅ_3 = ṅ_1 .+ ṅ_2 .+ S*ϵ̇₁"
   ]
  },
  {
   "cell_type": "markdown",
   "id": "865c75e7-5dd9-4909-9dcc-afa3c2f5e101",
   "metadata": {},
   "source": [
    "### Mole balance around the filtration unit"
   ]
  },
  {
   "cell_type": "code",
   "execution_count": 12,
   "id": "d5a19ce2-1f58-4cd0-a52d-81e7b65ab1eb",
   "metadata": {},
   "outputs": [
    {
     "data": {
      "text/plain": [
       "86.39999999999999"
      ]
     },
     "execution_count": 12,
     "metadata": {},
     "output_type": "execute_result"
    }
   ],
   "source": [
    "ṅ_3_total = sum(ṅ_3)"
   ]
  },
  {
   "cell_type": "code",
   "execution_count": 13,
   "id": "fb7d9403-f869-4625-a92e-2ead0e8b5f67",
   "metadata": {},
   "outputs": [
    {
     "data": {
      "text/plain": [
       "3-element Vector{Float64}:\n",
       " 0.5370370370370371\n",
       " 0.1527777777777778\n",
       " 0.31018518518518523"
      ]
     },
     "execution_count": 13,
     "metadata": {},
     "output_type": "execute_result"
    }
   ],
   "source": [
    "x_3 = (ṅ_3)*(1/ṅ_3_total)"
   ]
  },
  {
   "cell_type": "code",
   "execution_count": 14,
   "id": "68900208-4ad7-421c-8d1e-741758534c6b",
   "metadata": {},
   "outputs": [
    {
     "data": {
      "text/plain": [
       "3-element Vector{Float64}:\n",
       "  0.46399999999999997\n",
       "  0.132\n",
       " 26.264"
      ]
     },
     "execution_count": 14,
     "metadata": {},
     "output_type": "execute_result"
    }
   ],
   "source": [
    "θ = [0.01, 0.01, 0.98]; # let's make up ṅ_4\n",
    "ṅ_4 = θ.*ṅ_3"
   ]
  },
  {
   "cell_type": "code",
   "execution_count": 15,
   "id": "736daa9b-a80e-48b8-986f-6b1fa6460c82",
   "metadata": {},
   "outputs": [
    {
     "data": {
      "text/plain": [
       "3-element Vector{Float64}:\n",
       " 45.936\n",
       " 13.068\n",
       "  0.5360000000000014"
      ]
     },
     "execution_count": 15,
     "metadata": {},
     "output_type": "execute_result"
    }
   ],
   "source": [
    "ṅ_5 = ṅ_3 - ṅ_4"
   ]
  },
  {
   "cell_type": "code",
   "execution_count": 16,
   "id": "7c2c285e-c0ae-425e-874c-1316f56d0f5e",
   "metadata": {},
   "outputs": [
    {
     "data": {
      "text/plain": [
       "3-element Vector{Float64}:\n",
       " 0.017274758004467608\n",
       " 0.004914370811615785\n",
       " 0.9778108711839165"
      ]
     },
     "execution_count": 16,
     "metadata": {},
     "output_type": "execute_result"
    }
   ],
   "source": [
    "x_4 = (1/sum(ṅ_4))*ṅ_4"
   ]
  },
  {
   "cell_type": "code",
   "execution_count": 17,
   "id": "779b0d33-748a-4072-886d-10680e221ec4",
   "metadata": {},
   "outputs": [
    {
     "data": {
      "text/plain": [
       "3-element Vector{Float64}:\n",
       " 0.7715149479341619\n",
       " 0.21948270070540812\n",
       " 0.009002351360429985"
      ]
     },
     "execution_count": 17,
     "metadata": {},
     "output_type": "execute_result"
    }
   ],
   "source": [
    "x_5 = (1/sum(ṅ_5))*ṅ_5"
   ]
  },
  {
   "cell_type": "markdown",
   "id": "516c0939-6580-4394-ba64-fecb9668fd5c",
   "metadata": {},
   "source": [
    "#### check the totals"
   ]
  },
  {
   "cell_type": "code",
   "execution_count": 18,
   "id": "7cdd5938-5b58-4f2d-b30b-5fabbe4fb78a",
   "metadata": {},
   "outputs": [
    {
     "data": {
      "text/plain": [
       "-7.105427357601002e-15"
      ]
     },
     "execution_count": 18,
     "metadata": {},
     "output_type": "execute_result"
    }
   ],
   "source": [
    "ṅ_3_total = sum(ṅ_3)\n",
    "ṅ_4_total = sum(ṅ_4)\n",
    "ṅ_5_total = sum(ṅ_5)\n",
    "δ = ṅ_3_total - ṅ_4_total - ṅ_5_total"
   ]
  },
  {
   "cell_type": "markdown",
   "id": "17a9d5c6-1ce6-49f0-b2fa-e3f0264d82a4",
   "metadata": {},
   "source": [
    "## REACTOR PROBLEM SOLUTIONS"
   ]
  },
  {
   "cell_type": "markdown",
   "id": "c927f787-e689-4f72-8a46-c4f4225c3a8a",
   "metadata": {},
   "source": [
    "### a) Compute the missing values in the table"
   ]
  },
  {
   "cell_type": "code",
   "execution_count": 19,
   "id": "7014a9bf-93f1-422d-b3c6-20a8bb67b02d",
   "metadata": {},
   "outputs": [
    {
     "name": "stdout",
     "output_type": "stream",
     "text": [
      "┌──────────┬──────────┬────────────┬────────────┬────────────┬────────────────┐\n",
      "│\u001b[1m stream s \u001b[0m│\u001b[1m ṅₛ total \u001b[0m│\u001b[1m mol frac A \u001b[0m│\u001b[1m mol frac B \u001b[0m│\u001b[1m mol frac P \u001b[0m│\u001b[1m mol frac total \u001b[0m│\n",
      "│\u001b[90m          \u001b[0m│\u001b[90m mol/time \u001b[0m│\u001b[90m            \u001b[0m│\u001b[90m            \u001b[0m│\u001b[90m            \u001b[0m│\u001b[90m                \u001b[0m│\n",
      "├──────────┼──────────┼────────────┼────────────┼────────────┼────────────────┤\n",
      "│        1 │     95.0 │        1.0 │        0.0 │        0.0 │            1.0 │\n",
      "│        2 │     45.0 │       0.11 │       0.89 │        0.0 │            1.0 │\n",
      "│        3 │     86.4 │       0.54 │       0.15 │       0.31 │            1.0 │\n",
      "│        4 │    26.86 │       0.02 │        0.0 │       0.98 │            1.0 │\n",
      "│        5 │    59.54 │       0.77 │       0.22 │       0.01 │            1.0 │\n",
      "└──────────┴──────────┴────────────┴────────────┴────────────┴────────────────┘\n"
     ]
    }
   ],
   "source": [
    "# initialize -\n",
    "stream_table_data = Array{Any,2}(undef, num_S, 6);\n",
    "\n",
    "for s ∈ 1:(num_S)\n",
    "    \n",
    "    # col 1 - stream index \n",
    "    stream_table_data[s,1] = s\n",
    "    \n",
    "    # col2 - total mol\n",
    "    if (s == 1)\n",
    "        stream_table_data[s,2] = round(sum(ṅ_1), digits=2)\n",
    "    elseif (s == 2)\n",
    "        stream_table_data[s,2] = round(sum(ṅ_2), digits=2)\n",
    "    elseif (s == 3)\n",
    "        stream_table_data[s,2] = round(sum(ṅ_3), digits=2)\n",
    "    elseif (s == 4)\n",
    "        stream_table_data[s,2] = round(sum(ṅ_4), digits=2)\n",
    "    else\n",
    "        stream_table_data[s,2] = round(sum(ṅ_5), digits=2)\n",
    "    end\n",
    "    \n",
    "    # col 3 mol fraction - A\n",
    "    if (s == 1)\n",
    "        stream_table_data[s,3] = round(((1/sum(ṅ_1))*(ṅ_1))[1], digits=2)\n",
    "    elseif (s == 2)\n",
    "        stream_table_data[s,3] = round(((1/sum(ṅ_2))*(ṅ_2))[1], digits=2)\n",
    "    elseif (s == 3)\n",
    "        stream_table_data[s,3] = round(((1/sum(ṅ_3))*(ṅ_3))[1], digits=2)\n",
    "    elseif (s == 4)\n",
    "        stream_table_data[s,3] = round(((1/sum(ṅ_4))*(ṅ_4))[1], digits=2)\n",
    "    else\n",
    "        stream_table_data[s,3] = round(((1/sum(ṅ_5))*(ṅ_5))[1], digits=2)\n",
    "    end\n",
    "    \n",
    "    # col 3 mol fraction - B\n",
    "    if (s == 1)\n",
    "        stream_table_data[s,4] = round(((1/sum(ṅ_1))*(ṅ_1))[2], digits=2)\n",
    "    elseif (s == 2)\n",
    "        stream_table_data[s,4] = round(((1/sum(ṅ_2))*(ṅ_2))[2], digits=2)\n",
    "    elseif (s == 3)\n",
    "        stream_table_data[s,4] = round(((1/sum(ṅ_3))*(ṅ_3))[2], digits=2)\n",
    "    elseif (s == 4)\n",
    "        stream_table_data[s,4] = round(((1/sum(ṅ_4))*(ṅ_4))[2], digits=2)\n",
    "    else\n",
    "        stream_table_data[s,4] = round(((1/sum(ṅ_5))*(ṅ_5))[2], digits=2)\n",
    "    end\n",
    "    \n",
    "    # col 3 mol fraction - P\n",
    "    if (s == 1)\n",
    "        stream_table_data[s,5] = round(((1/sum(ṅ_1))*(ṅ_1))[3], digits=2)\n",
    "    elseif (s == 2)\n",
    "        stream_table_data[s,5] = round(((1/sum(ṅ_2))*(ṅ_2))[3], digits=2)\n",
    "    elseif (s == 3)\n",
    "        stream_table_data[s,5] = round(((1/sum(ṅ_3))*(ṅ_3))[3], digits=2)\n",
    "    elseif (s == 4)\n",
    "        stream_table_data[s,5] = round(((1/sum(ṅ_4))*(ṅ_4))[3], digits=2)\n",
    "    else\n",
    "        stream_table_data[s,5] = round(((1/sum(ṅ_5))*(ṅ_5))[3], digits=2)\n",
    "    end\n",
    "end\n",
    "\n",
    "# last col -\n",
    "stream_table_data[1,6] = sum(x_1)\n",
    "stream_table_data[2,6] = sum(x_2)\n",
    "stream_table_data[3,6] = sum(x_3)\n",
    "stream_table_data[4,6] = sum(x_4)\n",
    "stream_table_data[5,6] = sum(x_5)\n",
    "\n",
    "# header -\n",
    "stream_table_header = ([\"stream s\",\"ṅₛ total\", \"mol frac A\", \"mol frac B\", \"mol frac P\", \"mol frac total\"], \n",
    "    [\"\",\"mol/time\",\"\",\"\",\"\",\"\"])\n",
    "\n",
    "# show table -\n",
    "pretty_table(stream_table_data; header=stream_table_header)"
   ]
  },
  {
   "cell_type": "markdown",
   "id": "8504cc5d-95fd-48b5-87ea-6ee585837a25",
   "metadata": {},
   "source": [
    "### b) Derive an expression for fractional conversion\n",
    "The fractional conversion $f_{i}$ is the amount of reactant compound $i$ consumed by the reaction normalized by the input (or starting) amount of compound $i$. For this reactor, we have two inputs and a single output. Thus, the fraction conversion $f_{i}$ is given by:\n",
    "\n",
    "$$f_{i} = \\frac{\\dot{n}_{1,i}+\\dot{n}_{2,i} - \\dot{n}_{3,i}}{\\dot{n}_{1,i}+\\dot{n}_{2,i}}\\qquad{i=1,2}$$\n",
    "\n",
    "where compound $A = 1$ and $B=2$. Alternatively, we can write the numerator in terms of the open extent of reaction, which gives a fractional conversion of the form:\n",
    "\n",
    "$$f_{i} = - \\frac{\\sigma_{i1}\\dot{\\epsilon}_{1}}{\\dot{n}_{1,i}+\\dot{n}_{2,i}}\\qquad{i=1,2}$$"
   ]
  },
  {
   "cell_type": "markdown",
   "id": "40564609-cd00-4089-b0ba-13b5bd340bc6",
   "metadata": {},
   "source": [
    "### c) Compute the fractional conversion of A and B"
   ]
  },
  {
   "cell_type": "code",
   "execution_count": 20,
   "id": "42aa80a5-47f7-4bf5-a029-4b96d479c149",
   "metadata": {},
   "outputs": [
    {
     "data": {
      "text/plain": [
       "0.536"
      ]
     },
     "execution_count": 20,
     "metadata": {},
     "output_type": "execute_result"
    }
   ],
   "source": [
    "# Fractional conversion of A -\n",
    "f₁ = (ṅ_1[1] + ṅ_2[1] - ṅ_3[1])/(ṅ_1[1] + ṅ_2[1])"
   ]
  },
  {
   "cell_type": "code",
   "execution_count": 21,
   "id": "aa854c79-02b9-49ec-9e7b-dc1ab49a41bc",
   "metadata": {},
   "outputs": [
    {
     "data": {
      "text/plain": [
       "0.67"
      ]
     },
     "execution_count": 21,
     "metadata": {},
     "output_type": "execute_result"
    }
   ],
   "source": [
    "# Fractional conversion of B -\n",
    "f₂ = (ṅ_1[2] + ṅ_2[2] - ṅ_3[2])/(ṅ_1[2] + ṅ_2[2])"
   ]
  },
  {
   "cell_type": "markdown",
   "id": "35a9812d-6bd0-448a-a3f1-50f8272482de",
   "metadata": {},
   "source": [
    "##### check fractional conversion"
   ]
  },
  {
   "cell_type": "code",
   "execution_count": 22,
   "id": "86e9181c-dd53-441d-bb35-e53e6c8d7b71",
   "metadata": {},
   "outputs": [
    {
     "data": {
      "text/plain": [
       "0.536"
      ]
     },
     "execution_count": 22,
     "metadata": {},
     "output_type": "execute_result"
    }
   ],
   "source": [
    "# check: f₁ -\n",
    "f₁_check = -(S[1,1]*ϵ̇₁)/(ṅ_1[1] + ṅ_2[1])"
   ]
  },
  {
   "cell_type": "code",
   "execution_count": 23,
   "id": "156e66e2-dabe-4314-9607-40012f9e3f5b",
   "metadata": {},
   "outputs": [
    {
     "data": {
      "text/plain": [
       "0.67"
      ]
     },
     "execution_count": 23,
     "metadata": {},
     "output_type": "execute_result"
    }
   ],
   "source": [
    "# check: f₂ -\n",
    "f₂_check = -(S[2,1]*ϵ̇₁)/(ṅ_1[2] + ṅ_2[2])"
   ]
  },
  {
   "cell_type": "code",
   "execution_count": null,
   "id": "682a7991-e35f-42da-b7d8-18c7db17f31d",
   "metadata": {},
   "outputs": [],
   "source": []
  }
 ],
 "metadata": {
  "kernelspec": {
   "display_name": "Julia 1.8.0",
   "language": "julia",
   "name": "julia-1.8"
  },
  "language_info": {
   "file_extension": ".jl",
   "mimetype": "application/julia",
   "name": "julia",
   "version": "1.8.2"
  }
 },
 "nbformat": 4,
 "nbformat_minor": 5
}
