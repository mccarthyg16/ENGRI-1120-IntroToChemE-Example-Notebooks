{
 "cells": [
  {
   "cell_type": "markdown",
   "id": "7acd2c6d-a3a4-4c28-a138-521a95c1fb92",
   "metadata": {},
   "source": [
    "<figure>\n",
    "<img src=\"latex/figs/Fig-Mod-Rankine-ENGRI-1120-F22.pdf\" style=\"width:80%\">\n",
    "</figure>"
   ]
  },
  {
   "cell_type": "code",
   "execution_count": 1,
   "id": "b4f87a89-9bcc-46fa-b77e-bd185627fadf",
   "metadata": {},
   "outputs": [
    {
     "name": "stderr",
     "output_type": "stream",
     "text": [
      "\u001b[32m\u001b[1m  Activating\u001b[22m\u001b[39m project at `~/Desktop/julia_work/ENGRI-1120-Prelim-1-F22`\n",
      "\u001b[32m\u001b[1m  No Changes\u001b[22m\u001b[39m to `~/Desktop/julia_work/ENGRI-1120-Prelim-1-F22/Project.toml`\n",
      "\u001b[32m\u001b[1m  No Changes\u001b[22m\u001b[39m to `~/Desktop/julia_work/ENGRI-1120-Prelim-1-F22/Manifest.toml`\n"
     ]
    }
   ],
   "source": [
    "import Pkg; Pkg.activate(\".\"); Pkg.resolve(); Pkg.instantiate();"
   ]
  },
  {
   "cell_type": "code",
   "execution_count": 2,
   "id": "ffda80f9-1741-4e23-beb5-668f89b51eba",
   "metadata": {},
   "outputs": [],
   "source": [
    "using PrettyTables"
   ]
  },
  {
   "cell_type": "markdown",
   "id": "d0ee8a10-bb5c-4d21-bf90-51fdd6127eca",
   "metadata": {},
   "source": [
    "### a) Compute the missing values in the table"
   ]
  },
  {
   "cell_type": "code",
   "execution_count": 3,
   "id": "a0e39ca0-e439-4747-b35d-2681462614d9",
   "metadata": {},
   "outputs": [],
   "source": [
    "# O₁ -\n",
    "# From PH-diagram (or superheated table) -\n",
    "H₁ = 446.1 # units: kJ/kg\n",
    "S₁ = 1.75 # units: kJ/kg-K\n",
    "T₁ = 80.0 # units C (given)\n",
    "P₁ = 2.0; # units MPa (given)"
   ]
  },
  {
   "cell_type": "code",
   "execution_count": 4,
   "id": "7db8eaf6-d45d-4c2f-9eed-e10c78372996",
   "metadata": {},
   "outputs": [
    {
     "data": {
      "text/plain": [
       "0.9693003560773749"
      ]
     },
     "execution_count": 4,
     "metadata": {},
     "output_type": "execute_result"
    }
   ],
   "source": [
    "# compute θ₂ -\n",
    "# @ O₂ T = -50C P = 29.41 kPa\n",
    "S₂ = 1.75 # units: kJ/kg-K\n",
    "Sₗ = 0.7428\n",
    "Sᵥ = 1.7819\n",
    "θ₂ = (S₂ - Sₗ)/(Sᵥ - Sₗ)"
   ]
  },
  {
   "cell_type": "code",
   "execution_count": 5,
   "id": "dc543229-f0e4-4ac6-8627-ca877afca0ef",
   "metadata": {},
   "outputs": [
    {
     "data": {
      "text/plain": [
       "360.8807525743432"
      ]
     },
     "execution_count": 5,
     "metadata": {},
     "output_type": "execute_result"
    }
   ],
   "source": [
    "# O₂ -\n",
    "T₂ = -50.0 # units C (from table or PH diagram)\n",
    "P₂ = 29.41*(1/1000) # units MPa (given)\n",
    "\n",
    "# compute H₂ -\n",
    "# @ O₂ T = -50C P = 29.41 kPa\n",
    "Hₗ = 136.1  # units: kJ/kg\n",
    "Hᵥ = 368.0 # units: kJ/kg\n",
    "H₂ = θ₂*Hᵥ+(1-θ₂)*Hₗ"
   ]
  },
  {
   "cell_type": "code",
   "execution_count": 6,
   "id": "ae4691c1-7ae1-49b4-84d7-e7f6bf02ba66",
   "metadata": {},
   "outputs": [
    {
     "data": {
      "text/plain": [
       "0.7428"
      ]
     },
     "execution_count": 6,
     "metadata": {},
     "output_type": "execute_result"
    }
   ],
   "source": [
    "# O₃ -\n",
    "T₃ = -50.0 # units C (phase change, constant T)\n",
    "P₃ = 29.41*(1/1000) # units MPa\n",
    "θ₃ = 0.0 # all liquid after Condenser -\n",
    "\n",
    "# Compute H₃ -\n",
    "# H₃ is a satuared liquid with the S₃ = S₄ = Sₗ\n",
    "H₃ = Hₗ\n",
    "S₃ = 0.7428 # same at O₄ pump is isentropic units: kJ/kg-K"
   ]
  },
  {
   "cell_type": "code",
   "execution_count": 7,
   "id": "b010908d-98ac-4bd4-b9b3-fe413d29632f",
   "metadata": {},
   "outputs": [
    {
     "data": {
      "text/plain": [
       "0.7428"
      ]
     },
     "execution_count": 7,
     "metadata": {},
     "output_type": "execute_result"
    }
   ],
   "source": [
    "# O₄ -\n",
    "T₄ = T₃ # by assumption iii\n",
    "P₄ = P₁ # constant P in boiler\n",
    "\n",
    "# Compute H₄ -\n",
    "# Problem assumption iii -\n",
    "H₄ = H₃\n",
    "S₄ = 0.7428 # Given in the problem units: kJ/kg-K"
   ]
  },
  {
   "cell_type": "code",
   "execution_count": 8,
   "id": "1561a918-16bf-435f-9cd1-179346348c6f",
   "metadata": {},
   "outputs": [
    {
     "name": "stdout",
     "output_type": "stream",
     "text": [
      "┌────┬───────┬─────────┬───────────┬─────────────┬────────┐\n",
      "│\u001b[1m Oᵢ \u001b[0m│\u001b[1m T (C) \u001b[0m│\u001b[1m P (MPa) \u001b[0m│\u001b[1m H (kJ/kg) \u001b[0m│\u001b[1m S (kJ/kg-K) \u001b[0m│\u001b[1m     θᵢ \u001b[0m│\n",
      "├────┼───────┼─────────┼───────────┼─────────────┼────────┤\n",
      "│  1 │  80.0 │     2.0 │     446.1 │        1.75 │    1.0 │\n",
      "│  2 │ -50.0 │ 0.02941 │   360.881 │        1.75 │ 0.9693 │\n",
      "│  3 │ -50.0 │ 0.02941 │     136.1 │      0.7428 │    0.0 │\n",
      "│  4 │ -50.0 │     2.0 │     136.1 │      0.7428 │    0.0 │\n",
      "└────┴───────┴─────────┴───────────┴─────────────┴────────┘\n"
     ]
    }
   ],
   "source": [
    "# initialize -\n",
    "number_of_op_points = 4\n",
    "number_of_states = 6\n",
    "state_table_data = Array{Any,2}(undef, number_of_op_points, number_of_states);\n",
    "\n",
    "# setup some arrays -\n",
    "H_array = [H₁, H₂, H₃, H₄];\n",
    "S_array = [S₁, S₂, S₃, S₄];\n",
    "T_array = [T₁, T₂, T₃, T₄];\n",
    "P_array = [P₁, P₂, P₃, P₄];\n",
    "θ_array = [1.0, θ₂, θ₃, 0.0];\n",
    "\n",
    "# main loop -\n",
    "for i ∈ 1:number_of_op_points\n",
    "    \n",
    "    for s ∈ 1:number_of_states\n",
    "        \n",
    "        if s == 1\n",
    "            state_table_data[i,1] = i\n",
    "        elseif s == 2\n",
    "            state_table_data[i,2] = T_array[i]\n",
    "        elseif s == 3\n",
    "            state_table_data[i,3] = P_array[i]\n",
    "        elseif s == 4\n",
    "            state_table_data[i,4] = H_array[i]\n",
    "        elseif s == 5\n",
    "            state_table_data[i,5] = S_array[i]\n",
    "        elseif s == 6\n",
    "            state_table_data[i,6] = θ_array[i]\n",
    "        end\n",
    "    end\n",
    "end\n",
    "\n",
    "# setup header -\n",
    "state_table_header = ([\"Oᵢ\",\"T (C)\",\"P (MPa)\",\"H (kJ/kg)\", \"S (kJ/kg-K)\", \"θᵢ\"]);\n",
    "\n",
    "# make the table -\n",
    "pretty_table(state_table_data; header=state_table_header)"
   ]
  },
  {
   "cell_type": "markdown",
   "id": "930b1cc2-f580-49d2-8086-e69e836025ec",
   "metadata": {},
   "source": [
    "### b) Compute heat and work values"
   ]
  },
  {
   "cell_type": "code",
   "execution_count": 18,
   "id": "81feeeb8-4b76-40dc-962b-5bd91f3e1af2",
   "metadata": {},
   "outputs": [
    {
     "data": {
      "text/plain": [
       "0.85"
      ]
     },
     "execution_count": 18,
     "metadata": {},
     "output_type": "execute_result"
    }
   ],
   "source": [
    "# set stuff given in problem\n",
    "ṁ = 2.25  # units kg/s\n",
    "ηₜ = 0.85  # turbine efficiency "
   ]
  },
  {
   "cell_type": "code",
   "execution_count": 11,
   "id": "33b92f5d-9792-4836-8798-c671b8c3744e",
   "metadata": {},
   "outputs": [
    {
     "data": {
      "text/plain": [
       "4-element Vector{Float64}:\n",
       " -191.7433067077278\n",
       " -505.75669329227225\n",
       "    0.0\n",
       "  697.5"
      ]
     },
     "execution_count": 11,
     "metadata": {},
     "output_type": "execute_result"
    }
   ],
   "source": [
    "# build connectivity array -\n",
    "C = [\n",
    "    1 -1 0 0 ; # 1 turbine\n",
    "    0 1 -1 0 ; # 2 condenser\n",
    "    0 0 1 -1 ; # 3 pump\n",
    "    -1 0 0 1 ; # 4 boiler\n",
    "];\n",
    "\n",
    "# compute the right-hand side of the energy balance -\n",
    "b = -ṁ*C*H_array"
   ]
  },
  {
   "cell_type": "markdown",
   "id": "9453c106-3da8-4f02-8dc6-b80e72ce4f88",
   "metadata": {},
   "source": [
    "##### check:"
   ]
  },
  {
   "cell_type": "code",
   "execution_count": 12,
   "id": "0d331adf-ea83-404b-bffa-201e52806f8f",
   "metadata": {},
   "outputs": [
    {
     "data": {
      "text/plain": [
       "0.0"
      ]
     },
     "execution_count": 12,
     "metadata": {},
     "output_type": "execute_result"
    }
   ],
   "source": [
    "sum(b)"
   ]
  },
  {
   "cell_type": "code",
   "execution_count": 17,
   "id": "3ce22d8e-1c49-4eb1-9bda-335227b3c7fc",
   "metadata": {},
   "outputs": [],
   "source": [
    "# setup Q̇_array -\n",
    "# units: turbine (1), condenser (2), pump (3), boiler (4)\n",
    "Q̇_array = [\n",
    "    0.0  # 1 turbine\n",
    "    b[2] # 2 condenser\n",
    "    0.0  # 3 pump\n",
    "    b[4] # 4 boiler\n",
    "];"
   ]
  },
  {
   "cell_type": "code",
   "execution_count": 16,
   "id": "c8992cbe-4e75-4409-9c9b-71a75d307f6d",
   "metadata": {},
   "outputs": [],
   "source": [
    "# setup Ẇ_array -\n",
    "# units: turbine (1), condenser (2), pump (3), boiler (4)\n",
    "Ẇ_array = [\n",
    "    b[1]  # 1 turbine\n",
    "    0.0   # 2 condenser\n",
    "    b[3]  # 3 pump\n",
    "    0.0   # 4 boiler\n",
    "];"
   ]
  },
  {
   "cell_type": "code",
   "execution_count": 27,
   "id": "9d4889ab-48c1-4097-b14f-263ec628e614",
   "metadata": {},
   "outputs": [
    {
     "name": "stdout",
     "output_type": "stream",
     "text": [
      "┌────────┬───────────┬───────────────────┬────────────────────┐\n",
      "│\u001b[1m Path i \u001b[0m│\u001b[1m Q̇ᵢ (kJ/s) \u001b[0m│\u001b[1m (ideal) Ẇᵢ (kJ/s) \u001b[0m│\u001b[1m (actual) Ẇᵢ (kJ/s) \u001b[0m│\n",
      "├────────┼───────────┼───────────────────┼────────────────────┤\n",
      "│      1 │       0.0 │          -191.743 │           -162.982 │\n",
      "│      2 │  -505.757 │               0.0 │                0.0 │\n",
      "│      3 │       0.0 │               0.0 │                0.0 │\n",
      "│      4 │     697.5 │               0.0 │                0.0 │\n",
      "│  total │   191.743 │          -191.743 │           -162.982 │\n",
      "└────────┴───────────┴───────────────────┴────────────────────┘\n"
     ]
    }
   ],
   "source": [
    "# build the heat and work table -\n",
    "number_of_paths = 5 # includes the total row\n",
    "number_of_cols = 4\n",
    "heat_work_table_data = Array{Any,2}(undef, number_of_paths, number_of_cols)\n",
    "\n",
    "# main loop -\n",
    "for i ∈ 1:(number_of_paths - 1)\n",
    "    \n",
    "    for j ∈ 1:number_of_cols\n",
    "        \n",
    "        if j == 1\n",
    "           heat_work_table_data[i,1] = i\n",
    "        elseif j == 2\n",
    "            heat_work_table_data[i,2] = Q̇_array[i]\n",
    "        elseif j == 3\n",
    "            heat_work_table_data[i,3] = Ẇ_array[i]\n",
    "        elseif j == 4\n",
    "            heat_work_table_data[i,4] = ηₜ*Ẇ_array[i]\n",
    "        end\n",
    "    end\n",
    "end\n",
    "\n",
    "# add total row -\n",
    "heat_work_table_data[5,1] = \"total\"\n",
    "heat_work_table_data[5,2] = sum(Q̇_array)\n",
    "heat_work_table_data[5,3] = sum(Ẇ_array)\n",
    "heat_work_table_data[5,4] = ηₜ*sum(Ẇ_array)\n",
    "\n",
    "# header -\n",
    "heat_work_table_header = ([\"Path i\", \"Q̇ᵢ (kJ/s)\", \"(ideal) Ẇᵢ (kJ/s)\", \"(actual) Ẇᵢ (kJ/s)\"]);\n",
    "\n",
    "# table -\n",
    "pretty_table(heat_work_table_data; header=heat_work_table_header)"
   ]
  },
  {
   "cell_type": "markdown",
   "id": "d72cae5b-93af-4b15-8052-5312130d59fb",
   "metadata": {},
   "source": [
    "### c) Compute ideal Rankine cycle efficiency"
   ]
  },
  {
   "cell_type": "code",
   "execution_count": 29,
   "id": "d30d533a-c8c3-40f2-85c1-3f9ad6416817",
   "metadata": {},
   "outputs": [
    {
     "data": {
      "text/plain": [
       "0.27490079814728"
      ]
     },
     "execution_count": 29,
     "metadata": {},
     "output_type": "execute_result"
    }
   ],
   "source": [
    "η = -Ẇ_array[1]/Q̇_array[4]"
   ]
  },
  {
   "cell_type": "markdown",
   "id": "8091b459-ca20-4827-b3c6-26513d7a9823",
   "metadata": {},
   "source": [
    "### d) Compute ideal Rankine cycle efficiency with heat recycle"
   ]
  },
  {
   "cell_type": "code",
   "execution_count": 31,
   "id": "f3d15b94-c29a-422d-83f0-64ece8dd77ec",
   "metadata": {},
   "outputs": [
    {
     "data": {
      "text/plain": [
       "166.89970878644985"
      ]
     },
     "execution_count": 31,
     "metadata": {},
     "output_type": "execute_result"
    }
   ],
   "source": [
    "α = 0.33;\n",
    "Q̇_R = abs(α*Q̇_array[2]) # rate of heat that we are going to recyle units: kJ/s"
   ]
  },
  {
   "cell_type": "code",
   "execution_count": 32,
   "id": "17be838e-8e00-4d44-8d83-522126b3b17a",
   "metadata": {},
   "outputs": [
    {
     "data": {
      "text/plain": [
       "0.3613705267088839"
      ]
     },
     "execution_count": 32,
     "metadata": {},
     "output_type": "execute_result"
    }
   ],
   "source": [
    "η_R = - Ẇ_array[1]/(Q̇_array[4] - Q̇_R)"
   ]
  },
  {
   "cell_type": "markdown",
   "id": "6fc5f08a-d1fe-40d8-b5f6-a6584bea5658",
   "metadata": {},
   "source": [
    "The efficiency goes up. We are getting the same amount of work out, but it costs less heat, hence an increase in the efficiency"
   ]
  },
  {
   "cell_type": "code",
   "execution_count": null,
   "id": "24355648-24ec-4c0e-8f0d-7d09db2023c2",
   "metadata": {},
   "outputs": [],
   "source": []
  }
 ],
 "metadata": {
  "kernelspec": {
   "display_name": "Julia 1.8.0",
   "language": "julia",
   "name": "julia-1.8"
  },
  "language_info": {
   "file_extension": ".jl",
   "mimetype": "application/julia",
   "name": "julia",
   "version": "1.8.2"
  }
 },
 "nbformat": 4,
 "nbformat_minor": 5
}
