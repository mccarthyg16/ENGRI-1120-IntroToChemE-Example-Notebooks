{
 "cells": [
  {
   "cell_type": "markdown",
   "id": "f0e1825d-3701-4d13-9080-412587545f6f",
   "metadata": {},
   "source": [
    "## ENGRI 1120 Pxy Flash Problem Solution"
   ]
  },
  {
   "cell_type": "markdown",
   "id": "7cb07eb0-9f60-4e33-be7c-71350eee4eed",
   "metadata": {},
   "source": [
    "<img src=\"./latex/figs/VLE-Ideal-Pxy-P2-F19.pdf\" style=\"width:50%\">"
   ]
  },
  {
   "cell_type": "markdown",
   "id": "52cf8698-695a-4650-8fa1-eb76881caecc",
   "metadata": {},
   "source": [
    "Cornell Inc. was hired to design a flash separation process for a binary ($\\mathcal{M}$ = 2) mixture of CHF$_{\\mathrm{3}}$(1)/C$_{\\mathrm{2}}$F$_{\\mathrm{6}}$(2). The engineering team performed initial design calculations using Raoult's law for z$_{1}$ = 0.42. Let the saturation pressure of component $i$ be described by the Antoine equation:\n",
    "\n",
    "$$\n",
    "\\begin{equation}\n",
    "  \\log_{10}\\left(P_{i}^{sat}~[\\mathrm{bar}]\\right) = A - \\frac{B}{C+T[K]}\n",
    "\\end{equation}\n",
    "$$\n",
    "\n",
    "where the Antoine parameters are given in the problem.\n",
    "\n",
    "__Assumptions__: (i) the Flash drum operates at steady-state;\n",
    "(ii) vapor-liquid equilibrium occurs everywhere inside the drum at some (T,P);\n",
    "(iii) treat both the vapor and liquid phases as ideal;\n",
    "(iv) the Flash drum is well-mixed;\n",
    "(v) a single liquid feed (stream 1) enters, and a vapor (stream 2) and liquid (stream 3) exit the drum;\n",
    "(vi) R = 8.314$\\times$10$^{-2}$ L bar K$^{-1}$ mol$^{-1}$.\n",
    "\n",
    "\n",
    "* a) What temperature T (K) is the Flash drum operating at? (place your estimated T in the state Table.\n",
    "* b) Graphically  estimate the mising values in the state table assuming the Flash drum operates at P = 10.5 bar with a input feed rate of $\\dot{F}$ = 10 mol/t and $z_{1}$ = 0.42.\n",
    "* c) Analytically check the graphical estimates of $\\dot{L}$ and $\\dot{V}$ using the pressure summation expression. If this expression is _significantly_ different than 1 (greater than $\\pm$ 10\\% difference), please re-estimate your values (show your work)."
   ]
  },
  {
   "cell_type": "markdown",
   "id": "52b0c1a0-cee5-497a-9892-dbcea3afa87a",
   "metadata": {},
   "source": [
    "### Solution"
   ]
  },
  {
   "cell_type": "code",
   "execution_count": 2,
   "id": "9199d519-5fb1-4ddf-9c66-4c4dcda7390a",
   "metadata": {},
   "outputs": [
    {
     "name": "stderr",
     "output_type": "stream",
     "text": [
      "\u001b[32m\u001b[1m  Activating\u001b[22m\u001b[39m project at `~/Desktop/julia_work/ENGRI-1120-IntroToChemE-Example-Notebooks/prelims/P2/practice`\n",
      "\u001b[32m\u001b[1m  No Changes\u001b[22m\u001b[39m to `~/Desktop/julia_work/ENGRI-1120-IntroToChemE-Example-Notebooks/prelims/P2/practice/Project.toml`\n",
      "\u001b[32m\u001b[1m  No Changes\u001b[22m\u001b[39m to `~/Desktop/julia_work/ENGRI-1120-IntroToChemE-Example-Notebooks/prelims/P2/practice/Manifest.toml`\n"
     ]
    }
   ],
   "source": [
    "import Pkg; Pkg.activate(\".\"); Pkg.resolve(); Pkg.instantiate();"
   ]
  },
  {
   "cell_type": "code",
   "execution_count": 3,
   "id": "7273139b-f860-46b3-93b2-977cfb6beb3b",
   "metadata": {},
   "outputs": [],
   "source": [
    "using LinearAlgebra"
   ]
  },
  {
   "cell_type": "markdown",
   "id": "1f4e2f2d-db13-4bb6-acda-0e984c98b2c1",
   "metadata": {},
   "source": [
    "### a) Estimate the Temperature\n",
    "\n",
    "#### Strategy\n",
    "We can re-arrange Antoine's equation for the temperature $T$:\n",
    "\n",
    "$$T = \\frac{B}{A - X} - C$$\n",
    "\n",
    "where $X = \\log_{10}P_{1}^{sat}$. However, we have a pure system, say all component 1, then:\n",
    "\n",
    "$$P = P_{1}^{sat}$$.\n",
    "\n",
    "Thus, we can estimate $P_{1}^{sat}$ from the Pxy, and then solve for $T$."
   ]
  },
  {
   "cell_type": "code",
   "execution_count": 9,
   "id": "2d28ae41-36c3-41be-ad10-b9ae8a111f90",
   "metadata": {},
   "outputs": [
    {
     "data": {
      "text/plain": [
       "15.95"
      ]
     },
     "execution_count": 9,
     "metadata": {},
     "output_type": "execute_result"
    }
   ],
   "source": [
    "# Use the pressure at the x₁ = 1 end-point to estimate the P_1 -\n",
    "P1_sat = 15.95 # units: bar"
   ]
  },
  {
   "cell_type": "code",
   "execution_count": 10,
   "id": "4355fe6d-2a8a-4320-8e2b-04ad90d1cc05",
   "metadata": {},
   "outputs": [
    {
     "name": "stdout",
     "output_type": "stream",
     "text": [
      "The temperature is approx T = 243.15169325682612 K\n"
     ]
    }
   ],
   "source": [
    "# look parameters from the problem -\n",
    "A₁ = 4.45\n",
    "B₁ = 718.1\n",
    "C₁ = -22.01\n",
    "\n",
    "# Estimate T -\n",
    "X = log10(P1_sat);\n",
    "T = (B₁)/(A₁ - X) - C₁\n",
    "\n",
    "# print -\n",
    "println(\"The temperature is approx T = $(T) K\")"
   ]
  },
  {
   "cell_type": "code",
   "execution_count": 12,
   "id": "073d92a4-7a63-4c27-a998-399f323a9e59",
   "metadata": {},
   "outputs": [
    {
     "data": {
      "text/plain": [
       "15.949999999999994"
      ]
     },
     "execution_count": 12,
     "metadata": {},
     "output_type": "execute_result"
    }
   ],
   "source": [
    "# check:\n",
    "F = (A₁ - (B₁)/(C₁ + T))\n",
    "10^F"
   ]
  },
  {
   "cell_type": "markdown",
   "id": "ee65547d-52be-4a2b-adea-8648195c3342",
   "metadata": {},
   "source": [
    "### b) Estimate the composition from the Pxy diagram"
   ]
  },
  {
   "cell_type": "code",
   "execution_count": 47,
   "id": "53e670b3-3b69-499e-bb7a-9fbe287c8367",
   "metadata": {},
   "outputs": [],
   "source": [
    "# from the fig -\n",
    "x₁ = 0.33;\n",
    "y₁ = 0.52;\n",
    "z₁ = 0.42;\n",
    "z₂ = 1 - z₁;"
   ]
  },
  {
   "cell_type": "code",
   "execution_count": 17,
   "id": "b056ecd4-e622-4fff-ad71-a775a97c447d",
   "metadata": {},
   "outputs": [],
   "source": [
    "### Lever rule -\n",
    "# Fill me in"
   ]
  },
  {
   "cell_type": "code",
   "execution_count": 48,
   "id": "a46933da-08aa-47c7-a93b-e988040e372e",
   "metadata": {},
   "outputs": [
    {
     "data": {
      "text/plain": [
       "2-element Vector{Float64}:\n",
       " 0.5263157894736841\n",
       " 0.4736842105263157"
      ]
     },
     "execution_count": 48,
     "metadata": {},
     "output_type": "execute_result"
    }
   ],
   "source": [
    "### check: Linear algebra soln - \n",
    "A = [\n",
    "    x₁ y₁ ;\n",
    "    1 1;\n",
    "];\n",
    "\n",
    "b = [\n",
    "    z₁ ;\n",
    "    1 ;\n",
    "];\n",
    "\n",
    "# Estimate -\n",
    "x = inv(A)*b"
   ]
  },
  {
   "cell_type": "markdown",
   "id": "8e99ffe6-4f19-4bf5-8186-a856a9919ab0",
   "metadata": {},
   "source": [
    "### c) Pressure summation check:"
   ]
  },
  {
   "cell_type": "code",
   "execution_count": 52,
   "id": "a1c70cc0-2da2-4be9-8928-77f076f15237",
   "metadata": {},
   "outputs": [
    {
     "name": "stdout",
     "output_type": "stream",
     "text": [
      "Check: 0.9992611913044156\n"
     ]
    }
   ],
   "source": [
    "# Set some values -\n",
    "P₁_sat = 15.95; # units: bar\n",
    "P₂_sat = 7.75; # units: bar\n",
    "P = 10.5; # units: bar\n",
    "L̂ = x[1];\n",
    "V̂ = x[2];\n",
    "P = 10.5;\n",
    "\n",
    "# compute the terms -\n",
    "term_1 = (P₁_sat/P)*(V̂)+L̂;\n",
    "term_2 = (P₂_sat/P)*(V̂)+L̂;\n",
    "\n",
    "# summation\n",
    "check = (z₁)/(term_1) + z₂/(term_2);\n",
    "\n",
    "# print -\n",
    "println(\"Check: $(check)\")"
   ]
  }
 ],
 "metadata": {
  "kernelspec": {
   "display_name": "Julia 1.8.0",
   "language": "julia",
   "name": "julia-1.8"
  },
  "language_info": {
   "file_extension": ".jl",
   "mimetype": "application/julia",
   "name": "julia",
   "version": "1.8.2"
  }
 },
 "nbformat": 4,
 "nbformat_minor": 5
}
