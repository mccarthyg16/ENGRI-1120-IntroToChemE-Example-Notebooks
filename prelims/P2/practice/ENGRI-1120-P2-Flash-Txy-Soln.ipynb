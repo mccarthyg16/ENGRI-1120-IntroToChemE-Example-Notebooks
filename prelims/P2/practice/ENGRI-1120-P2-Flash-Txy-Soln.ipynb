{
 "cells": [
  {
   "cell_type": "markdown",
   "id": "c6f357ab-f843-43dc-bdec-f3fd0ea91d2c",
   "metadata": {},
   "source": [
    "## ENGRI 1120 Pxy Flash Problem Solution"
   ]
  },
  {
   "cell_type": "markdown",
   "id": "ad962060-f449-4bc5-9723-3edd84b3bca9",
   "metadata": {},
   "source": [
    "<img src=\"./latex/figs/Fig-Txy-acetone-water-ideal-P101_325-kPa.pdf\" style=\"width:50%\">"
   ]
  },
  {
   "cell_type": "markdown",
   "id": "c9f1d9ab-1566-42ac-9609-c3db2cdc734f",
   "metadata": {},
   "source": [
    "Cornell Inc. was hired to design a flash separation process for a binary ($\\mathcal{M}$ = 2) mixture of Acetone(1)/Water(2).\n",
    "The engineering team performed initial design calculations assuming an ideal liquid and vapor phase for z$_{1}$ = 0.50.  Let the saturation pressure of component $i$ be described by the Antoine equation:\n",
    "\n",
    "$$\n",
    "\\begin{equation}\n",
    "  \\ln\\left(P_{i}^{sat}\\right) = A - \\frac{B}{C+T}\n",
    "\\end{equation}\n",
    "$$\n",
    "\n",
    "where $P_{i}^{sat}$ has units of kPa and the temperature $T$ has units of $^{\\circ}C$. The Antoine parameters are given by in the problem.\n",
    "\n",
    "__Assumptions__: (i) the Flash drum operates at steady-state;\n",
    "(ii) vapor-liquid equilibrium occurs everywhere inside the drum at some (T,P);\n",
    "(iii) treat both the vapor and liquid phases as ideal;\n",
    "(iv) the Flash drum is well-mixed;\n",
    "(v) a single liquid feed (stream 1) enters, and a vapor (stream 2) and liquid (stream 3) exit the drum;\n",
    "(vi) R = 8.314 L kPa K$^{-1}$ mol$^{-1}$.\n",
    "\n",
    "\n",
    "* a) What pressure is the Flash drum operating at? (place your estimated pressure value in the state Table.\n",
    "* b) Estimate the missing values in the State table assuming the Flash drum operates at at T = 80$^{\\circ}$C with a input feed rate of $\\dot{F}$ = 10 mol/t and $z_{1}$ = 0.50."
   ]
  },
  {
   "cell_type": "markdown",
   "id": "4ce43c2d-7a1d-46fe-99fa-6b7018ef394a",
   "metadata": {},
   "source": [
    "### Solution"
   ]
  },
  {
   "cell_type": "code",
   "execution_count": 17,
   "id": "80736a49-5b31-4379-9169-56888b759b84",
   "metadata": {},
   "outputs": [],
   "source": [
    "# parameters \n",
    "A₁ = 14.31;\n",
    "B₁ = 2756.22;\n",
    "C₁ = 228.06;\n",
    "\n",
    "A₂ = 16.39;\n",
    "B₂ = 3885.7;\n",
    "C₂ = 230.17;\n",
    "\n",
    "T = 80.0; # units: C (given in the problem)\n",
    "Ḟ = 10.0; # units: mol/time\n",
    "\n",
    "# input composition -\n",
    "z₁ = 0.50;"
   ]
  },
  {
   "cell_type": "code",
   "execution_count": 1,
   "id": "7cd1ec56-a048-46ee-aef5-1b6c5ec0c94c",
   "metadata": {},
   "outputs": [
    {
     "name": "stderr",
     "output_type": "stream",
     "text": [
      "\u001b[32m\u001b[1m  Activating\u001b[22m\u001b[39m project at `~/Desktop/julia_work/ENGRI-1120-IntroToChemE-Example-Notebooks/prelims/P2/practice`\n",
      "\u001b[32m\u001b[1m  No Changes\u001b[22m\u001b[39m to `~/Desktop/julia_work/ENGRI-1120-IntroToChemE-Example-Notebooks/prelims/P2/practice/Project.toml`\n",
      "\u001b[32m\u001b[1m  No Changes\u001b[22m\u001b[39m to `~/Desktop/julia_work/ENGRI-1120-IntroToChemE-Example-Notebooks/prelims/P2/practice/Manifest.toml`\n"
     ]
    }
   ],
   "source": [
    "import Pkg; Pkg.activate(\".\"); Pkg.resolve(); Pkg.instantiate();"
   ]
  },
  {
   "cell_type": "markdown",
   "id": "3f7edc06-3992-4e66-b16a-3d59e876c0f8",
   "metadata": {},
   "source": [
    "### a) Compute the pressure"
   ]
  },
  {
   "cell_type": "code",
   "execution_count": 11,
   "id": "5451185a-b1ab-44c0-9e83-2fb8a32df3f7",
   "metadata": {},
   "outputs": [
    {
     "name": "stdout",
     "output_type": "stream",
     "text": [
      "Estimated pressure: P = 101.45632658711185 kPa\n"
     ]
    }
   ],
   "source": [
    "# Compute the saturation pressures -\n",
    "P₁_sat = exp(A₁ - B₁/(C₁ + T));\n",
    "P₂_sat = exp(A₂ - B₂/(C₂ + T));\n",
    "\n",
    "# Guess the composition from the Txy diagram -\n",
    "x₁ = 0.325;\n",
    "x₂ = 1 - x₁;\n",
    "\n",
    "# Use the pressure expression -\n",
    "P = x₁*P₁_sat + x₂*P₂_sat;\n",
    "\n",
    "# print -\n",
    "println(\"Estimated pressure: P = $(P) kPa\")"
   ]
  },
  {
   "cell_type": "markdown",
   "id": "b14c3657-2b46-442d-a992-3aeb9f9bce3d",
   "metadata": {},
   "source": [
    "### b) Compute the values in the state table"
   ]
  },
  {
   "cell_type": "code",
   "execution_count": 13,
   "id": "7ed51bff-8901-4d6d-9d0e-6398268510c1",
   "metadata": {},
   "outputs": [],
   "source": [
    "# from the Txy diagram, estimate the vapor composition (red line) at T = 80C\n",
    "y₁ = 0.70;\n",
    "y₂ = 1 - y₁;"
   ]
  },
  {
   "cell_type": "code",
   "execution_count": 19,
   "id": "2318b492-5653-4998-9bff-3993d46bb69c",
   "metadata": {},
   "outputs": [],
   "source": [
    "# estimate the L̂ and V̂ values -\n",
    "A = [\n",
    "    x₁ y₁ ;\n",
    "    1 1;\n",
    "];\n",
    "\n",
    "b = [\n",
    "    z₁ ;\n",
    "    1 ;\n",
    "];\n",
    "\n",
    "# Estimate -\n",
    "x = inv(A)*b;\n",
    "L̂ = x[1];\n",
    "V̂ = x[2];"
   ]
  },
  {
   "cell_type": "code",
   "execution_count": 20,
   "id": "2bf07684-d309-4492-bc43-3d138c1981fa",
   "metadata": {},
   "outputs": [
    {
     "name": "stdout",
     "output_type": "stream",
     "text": [
      "Liquid flow rate L̇ = 5.333333333333332 mol/t\n"
     ]
    }
   ],
   "source": [
    "L̇ = Ḟ*L̂;\n",
    "println(\"Liquid flow rate L̇ = $(L̇) mol/t\");"
   ]
  },
  {
   "cell_type": "code",
   "execution_count": 22,
   "id": "cbe3f6a9-0997-49e2-bed8-b33e1cf71f3d",
   "metadata": {},
   "outputs": [
    {
     "name": "stdout",
     "output_type": "stream",
     "text": [
      "Vapor flow rate V̇ = 4.666666666666667 mol/t\n"
     ]
    }
   ],
   "source": [
    "V̇ = Ḟ*V̂;\n",
    "println(\"Vapor flow rate V̇ = $(V̇) mol/t\");"
   ]
  },
  {
   "cell_type": "code",
   "execution_count": null,
   "id": "98a98973-c859-4a36-abe4-23a605b93bc2",
   "metadata": {},
   "outputs": [],
   "source": []
  }
 ],
 "metadata": {
  "kernelspec": {
   "display_name": "Julia 1.8.0",
   "language": "julia",
   "name": "julia-1.8"
  },
  "language_info": {
   "file_extension": ".jl",
   "mimetype": "application/julia",
   "name": "julia",
   "version": "1.8.2"
  }
 },
 "nbformat": 4,
 "nbformat_minor": 5
}
