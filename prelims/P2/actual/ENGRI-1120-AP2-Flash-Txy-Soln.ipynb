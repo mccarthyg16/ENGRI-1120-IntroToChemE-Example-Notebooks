{
 "cells": [
  {
   "cell_type": "markdown",
   "id": "c6f357ab-f843-43dc-bdec-f3fd0ea91d2c",
   "metadata": {},
   "source": [
    "## ENGRI 1120 Txy Flash Problem Solution"
   ]
  },
  {
   "cell_type": "markdown",
   "id": "ad962060-f449-4bc5-9723-3edd84b3bca9",
   "metadata": {},
   "source": [
    "<img src=\"./latex/figs/Fig-Txy-acetone-water-ideal-P101_325-kPa-AP2.pdf\" style=\"width:50%\">"
   ]
  },
  {
   "cell_type": "markdown",
   "id": "c9f1d9ab-1566-42ac-9609-c3db2cdc734f",
   "metadata": {},
   "source": [
    "Cornell Inc. was hired to design a flash separation process for a binary ($\\mathcal{M}$ = 2) mixture of Acetone(1)/Water(2).\n",
    "The engineering team performed initial design calculations assuming an ideal liquid and vapor phase. \n",
    "Let the saturation pressure of component $i$ be described by the Antoine equation:\n",
    "\n",
    "$$\n",
    "\\begin{equation}\n",
    "  \\ln\\left(P_{i}^{sat}\\right) = A - \\frac{B}{C+T}\n",
    "\\end{equation}\n",
    "$$\n",
    "\n",
    "where $P_{i}^{sat}$ has units of kPa and the temperature $T$ has units of $^{\\circ}C$. The Antoine parameters are given by in the problem.\n",
    "\n",
    "__Assumptions__: (i) the Flash drum operates at steady-state;\n",
    "(ii) vapor-liquid equilibrium occurs everywhere inside the drum at some (T,P);\n",
    "(iii) treat both the vapor and liquid phases as ideal;\n",
    "(iv) the Flash drum is well-mixed;\n",
    "(v) a single liquid feed (stream 1) enters, and a vapor (stream 2) and liquid (stream 3) exit the drum;\n",
    "(vi) R = 8.314 L kPa K$^{-1}$ mol$^{-1}$.\n",
    "\n",
    "\n",
    "* a) What pressure is the Flash drum operating at? (place your estimated pressure value in the state Table.\n",
    "* b) Estimate the missing values in the State table assuming the Flash drum operates at at T = 74$^{\\circ}$C with a input feed rate of $\\dot{F}$ = 8 mol/t and $z_{1}$ = 0.55."
   ]
  },
  {
   "cell_type": "markdown",
   "id": "4ce43c2d-7a1d-46fe-99fa-6b7018ef394a",
   "metadata": {},
   "source": [
    "### Solution"
   ]
  },
  {
   "cell_type": "code",
   "execution_count": 1,
   "id": "80736a49-5b31-4379-9169-56888b759b84",
   "metadata": {},
   "outputs": [],
   "source": [
    "# parameters \n",
    "A₁ = 14.31;\n",
    "B₁ = 2756.22;\n",
    "C₁ = 228.06;\n",
    "\n",
    "A₂ = 16.39;\n",
    "B₂ = 3885.7;\n",
    "C₂ = 230.17;\n",
    "\n",
    "T = 74.0; # units: C (given in the problem)\n",
    "Ḟ = 8.0; # units: mol/time\n",
    "\n",
    "# input composition -\n",
    "z₁ = 0.55;"
   ]
  },
  {
   "cell_type": "code",
   "execution_count": 2,
   "id": "7cd1ec56-a048-46ee-aef5-1b6c5ec0c94c",
   "metadata": {},
   "outputs": [
    {
     "name": "stderr",
     "output_type": "stream",
     "text": [
      "\u001b[32m\u001b[1m  Activating\u001b[22m\u001b[39m project at `~/Desktop/julia_work/ENGRI-1120-IntroToChemE-Example-Notebooks/prelims/P2/actual`\n",
      "\u001b[32m\u001b[1m  No Changes\u001b[22m\u001b[39m to `~/Desktop/julia_work/ENGRI-1120-IntroToChemE-Example-Notebooks/prelims/P2/actual/Project.toml`\n",
      "\u001b[32m\u001b[1m  No Changes\u001b[22m\u001b[39m to `~/Desktop/julia_work/ENGRI-1120-IntroToChemE-Example-Notebooks/prelims/P2/actual/Manifest.toml`\n"
     ]
    }
   ],
   "source": [
    "import Pkg; Pkg.activate(\".\"); Pkg.resolve(); Pkg.instantiate();"
   ]
  },
  {
   "cell_type": "code",
   "execution_count": 3,
   "id": "6a8598f2-51df-476b-903b-e31afdd99bb7",
   "metadata": {},
   "outputs": [],
   "source": [
    "using PrettyTables"
   ]
  },
  {
   "cell_type": "markdown",
   "id": "3f7edc06-3992-4e66-b16a-3d59e876c0f8",
   "metadata": {},
   "source": [
    "### a) Compute the pressure"
   ]
  },
  {
   "cell_type": "code",
   "execution_count": 4,
   "id": "5451185a-b1ab-44c0-9e83-2fb8a32df3f7",
   "metadata": {},
   "outputs": [
    {
     "name": "stdout",
     "output_type": "stream",
     "text": [
      "Estimated pressure: P = 100.8167334202701 kPa\n"
     ]
    }
   ],
   "source": [
    "# Compute the saturation pressures -\n",
    "P₁_sat = exp(A₁ - B₁/(C₁ + T));\n",
    "P₂_sat = exp(A₂ - B₂/(C₂ + T));\n",
    "\n",
    "# Guess the composition from the Txy diagram -\n",
    "x₁ = 0.45;\n",
    "x₂ = 1 - x₁;\n",
    "\n",
    "# what is the liquid compostion for non-ideal case -\n",
    "x₁_non_ideal = 0.06\n",
    "x₂_non_ideal = 1 - x₁_non_ideal;\n",
    "\n",
    "# Use the pressure expression -\n",
    "P = x₁*P₁_sat + x₂*P₂_sat;\n",
    "\n",
    "# print -\n",
    "println(\"Estimated pressure: P = $(P) kPa\")"
   ]
  },
  {
   "cell_type": "code",
   "execution_count": 5,
   "id": "b535db6e-a3f0-4a7b-9d3f-d1c9ee438128",
   "metadata": {},
   "outputs": [
    {
     "data": {
      "text/plain": [
       "-0.5016201132296134"
      ]
     },
     "execution_count": 5,
     "metadata": {},
     "output_type": "execute_result"
    }
   ],
   "source": [
    "(P - 101.325)/(101.325)*100"
   ]
  },
  {
   "cell_type": "markdown",
   "id": "b14c3657-2b46-442d-a992-3aeb9f9bce3d",
   "metadata": {},
   "source": [
    "### b) Compute the values in the ideal state table"
   ]
  },
  {
   "cell_type": "code",
   "execution_count": 6,
   "id": "7ed51bff-8901-4d6d-9d0e-6398268510c1",
   "metadata": {},
   "outputs": [],
   "source": [
    "# from the Txy diagram, estimate the vapor composition (red line) at T = 70C\n",
    "y₁ = 0.86;\n",
    "y₂ = 1 - y₁;"
   ]
  },
  {
   "cell_type": "code",
   "execution_count": 7,
   "id": "b675213c-c107-433f-bd60-48d5176005fe",
   "metadata": {},
   "outputs": [],
   "source": [
    "# non-ideal from the Txy diagram, estimate the vapor composition (red line) at T = 70C\n",
    "y₁_non_ideal = 0.67;\n",
    "y₂_non_ideal = 1 - y₁_non_ideal;"
   ]
  },
  {
   "cell_type": "code",
   "execution_count": 8,
   "id": "2318b492-5653-4998-9bff-3993d46bb69c",
   "metadata": {},
   "outputs": [],
   "source": [
    "# estimate the L̂ and V̂ values -\n",
    "A = [\n",
    "    x₁ y₁ ;\n",
    "    1 1;\n",
    "];\n",
    "\n",
    "b = [\n",
    "    z₁ ;\n",
    "    1 ;\n",
    "];\n",
    "\n",
    "# Estimate -\n",
    "x = inv(A)*b;\n",
    "L̂ = x[1];\n",
    "V̂ = x[2];"
   ]
  },
  {
   "cell_type": "code",
   "execution_count": 9,
   "id": "2bf07684-d309-4492-bc43-3d138c1981fa",
   "metadata": {},
   "outputs": [
    {
     "name": "stdout",
     "output_type": "stream",
     "text": [
      "Liquid flow rate ideal case L̇ = 6.048780487804878 mol/t\n"
     ]
    }
   ],
   "source": [
    "L̇ = Ḟ*L̂;\n",
    "println(\"Liquid flow rate ideal case L̇ = $(L̇) mol/t\");"
   ]
  },
  {
   "cell_type": "code",
   "execution_count": 10,
   "id": "cbe3f6a9-0997-49e2-bed8-b33e1cf71f3d",
   "metadata": {},
   "outputs": [
    {
     "name": "stdout",
     "output_type": "stream",
     "text": [
      "Vapor flow rate ideal case V̇ = 1.951219512195122 mol/t\n"
     ]
    }
   ],
   "source": [
    "V̇ = Ḟ*V̂;\n",
    "println(\"Vapor flow rate ideal case V̇ = $(V̇) mol/t\");"
   ]
  },
  {
   "cell_type": "markdown",
   "id": "645146be-4868-4a13-8e34-35ea790678a8",
   "metadata": {},
   "source": [
    "### Compute the values in the non-ideal state table"
   ]
  },
  {
   "cell_type": "code",
   "execution_count": 11,
   "id": "ec868d7d-6b60-424a-9c7a-789ef7e2d389",
   "metadata": {},
   "outputs": [],
   "source": [
    "# estimate the L̂ and V̂ values -\n",
    "A = [\n",
    "    x₁_non_ideal y₁_non_ideal ;\n",
    "    1 1;\n",
    "];\n",
    "\n",
    "b = [\n",
    "    z₁ ;\n",
    "    1 ;\n",
    "];\n",
    "\n",
    "# Estimate -\n",
    "x_non_ideal = inv(A)*b;\n",
    "L̂_non_ideal = x_non_ideal[1];\n",
    "V̂_non_ideal = x_non_ideal[2];"
   ]
  },
  {
   "cell_type": "code",
   "execution_count": 12,
   "id": "83a96bb4-3cb2-45e5-b9be-8b8f13b52efe",
   "metadata": {},
   "outputs": [
    {
     "name": "stdout",
     "output_type": "stream",
     "text": [
      "Liquid flow rate non ideal case L̇ = 1.5737704918032778 mol/t\n"
     ]
    }
   ],
   "source": [
    "L̇_non_ideal = Ḟ*L̂_non_ideal;\n",
    "println(\"Liquid flow rate non ideal case L̇ = $(L̇_non_ideal) mol/t\");"
   ]
  },
  {
   "cell_type": "code",
   "execution_count": 13,
   "id": "47527c19-566b-4c07-9ec5-9c9864c572e0",
   "metadata": {},
   "outputs": [
    {
     "name": "stdout",
     "output_type": "stream",
     "text": [
      "Vapor flow rate non ideal case V̇ = 6.426229508196721 mol/t\n"
     ]
    }
   ],
   "source": [
    "V̇_non_ideal = Ḟ*V̂_non_ideal;\n",
    "println(\"Vapor flow rate non ideal case V̇ = $(V̇_non_ideal) mol/t\");"
   ]
  },
  {
   "cell_type": "code",
   "execution_count": 14,
   "id": "98a98973-c859-4a36-abe4-23a605b93bc2",
   "metadata": {},
   "outputs": [
    {
     "data": {
      "text/plain": [
       "0.0"
      ]
     },
     "execution_count": 14,
     "metadata": {},
     "output_type": "execute_result"
    }
   ],
   "source": [
    "# Check:\n",
    "ϵ = L̇*x₁ + V̇*y₁ - Ḟ*z₁"
   ]
  },
  {
   "cell_type": "markdown",
   "id": "c00c1234-8090-40ad-9251-332f798ffe4b",
   "metadata": {},
   "source": [
    "### Txy ideal flash problem Table"
   ]
  },
  {
   "cell_type": "code",
   "execution_count": 15,
   "id": "b5cd3b99-24d6-4890-b0a5-2e8e08b70069",
   "metadata": {},
   "outputs": [
    {
     "name": "stdout",
     "output_type": "stream",
     "text": [
      "┌────────┬───────┬─────────┬──────────────┬──────────┬──────────┬───────┐\n",
      "│\u001b[1m Stream \u001b[0m│\u001b[1m State \u001b[0m│\u001b[1m P (kPa) \u001b[0m│\u001b[1m ṅₛ,T (mol/t) \u001b[0m│\u001b[1m x₁ or y₁ \u001b[0m│\u001b[1m x₂ or y₂ \u001b[0m│\u001b[1m T (C) \u001b[0m│\n",
      "├────────┼───────┼─────────┼──────────────┼──────────┼──────────┼───────┤\n",
      "│      1 │     L │     N/A │           10 │     0.64 │     0.36 │   N/A │\n",
      "│      2 │     V │ 100.817 │      1.95122 │     0.86 │     0.14 │  70.0 │\n",
      "│      3 │     L │ 100.817 │      6.04878 │     0.45 │     0.55 │    70 │\n",
      "└────────┴───────┴─────────┴──────────────┴──────────┴──────────┴───────┘\n"
     ]
    }
   ],
   "source": [
    "# setup table -\n",
    "\n",
    "flash_problem_ideal_table_array = Array{Any,2}(undef, 3, 7);\n",
    "\n",
    "# row 1 -\n",
    "flash_problem_ideal_table_array[1,1] = \"1\";\n",
    "flash_problem_ideal_table_array[1,2] = \"L\";\n",
    "flash_problem_ideal_table_array[1,3] = \"N/A\";\n",
    "flash_problem_ideal_table_array[1,4] = \"10\";\n",
    "flash_problem_ideal_table_array[1,5] = 0.64;\n",
    "flash_problem_ideal_table_array[1,6] = 0.36;\n",
    "flash_problem_ideal_table_array[1,7] = \"N/A\";\n",
    "\n",
    "# row 2 -\n",
    "flash_problem_ideal_table_array[2,1] = \"2\";\n",
    "flash_problem_ideal_table_array[2,2] = \"V\";\n",
    "flash_problem_ideal_table_array[2,3] = P;\n",
    "flash_problem_ideal_table_array[2,4] = V̇\n",
    "flash_problem_ideal_table_array[2,5] = y₁\n",
    "flash_problem_ideal_table_array[2,6] = (1-y₁);\n",
    "flash_problem_ideal_table_array[2,7] = 70.0;\n",
    "\n",
    "# row 2 -\n",
    "flash_problem_ideal_table_array[3,1] = \"3\";\n",
    "flash_problem_ideal_table_array[3,2] = \"L\";\n",
    "flash_problem_ideal_table_array[3,3] = P;\n",
    "flash_problem_ideal_table_array[3,4] = L̇\n",
    "flash_problem_ideal_table_array[3,5] = x₁\n",
    "flash_problem_ideal_table_array[3,6] = (1-x₁);\n",
    "flash_problem_ideal_table_array[3,7] = 70;\n",
    "\n",
    "# header -\n",
    "ideal_table_header_data = ([\"Stream\", \"State\", \"P (kPa)\", \"ṅₛ,T (mol/t)\", \"x₁ or y₁\", \"x₂ or y₂\", \"T (C)\"]);\n",
    "\n",
    "# show table \n",
    "pretty_table(flash_problem_ideal_table_array; header = ideal_table_header_data);"
   ]
  },
  {
   "cell_type": "markdown",
   "id": "068fcfa7-7979-47d5-830d-61fd5930720d",
   "metadata": {},
   "source": [
    "### Txy non-ideal flash problem table"
   ]
  },
  {
   "cell_type": "code",
   "execution_count": 16,
   "id": "167be19b-c4e9-4c50-bec8-67a7a7737cab",
   "metadata": {},
   "outputs": [
    {
     "name": "stdout",
     "output_type": "stream",
     "text": [
      "┌────────┬───────┬──────────────┬──────────┬──────────┬───────┐\n",
      "│\u001b[1m Stream \u001b[0m│\u001b[1m State \u001b[0m│\u001b[1m ṅₛ,T (mol/t) \u001b[0m│\u001b[1m x₁ or y₁ \u001b[0m│\u001b[1m x₂ or y₂ \u001b[0m│\u001b[1m T (C) \u001b[0m│\n",
      "├────────┼───────┼──────────────┼──────────┼──────────┼───────┤\n",
      "│      1 │     L │           10 │     0.64 │     0.36 │   N/A │\n",
      "│      2 │     V │      6.42623 │     0.67 │     0.33 │  70.0 │\n",
      "│      3 │     L │      1.57377 │     0.06 │     0.94 │  70.0 │\n",
      "└────────┴───────┴──────────────┴──────────┴──────────┴───────┘\n"
     ]
    }
   ],
   "source": [
    "# setup table -\n",
    "flash_problem_non_ideal_table_array = Array{Any,2}(undef, 3, 6);\n",
    "\n",
    "# row 1 -\n",
    "flash_problem_non_ideal_table_array[1,1] = \"1\";\n",
    "flash_problem_non_ideal_table_array[1,2] = \"L\";\n",
    "flash_problem_non_ideal_table_array[1,3] = \"10\";\n",
    "flash_problem_non_ideal_table_array[1,4] = 0.64;\n",
    "flash_problem_non_ideal_table_array[1,5] = 0.36;\n",
    "flash_problem_non_ideal_table_array[1,6] = \"N/A\";\n",
    "\n",
    "# row 2 -\n",
    "flash_problem_non_ideal_table_array[2,1] = \"2\";\n",
    "flash_problem_non_ideal_table_array[2,2] = \"V\";\n",
    "flash_problem_non_ideal_table_array[2,3] = V̇_non_ideal\n",
    "flash_problem_non_ideal_table_array[2,4] = y₁_non_ideal\n",
    "flash_problem_non_ideal_table_array[2,5] = (1-y₁_non_ideal);\n",
    "flash_problem_non_ideal_table_array[2,6] = 70.0;\n",
    "\n",
    "# row 2 -\n",
    "flash_problem_non_ideal_table_array[3,1] = \"3\";\n",
    "flash_problem_non_ideal_table_array[3,2] = \"L\";\n",
    "flash_problem_non_ideal_table_array[3,3] = L̇_non_ideal\n",
    "flash_problem_non_ideal_table_array[3,4] = x₁_non_ideal\n",
    "flash_problem_non_ideal_table_array[3,5] = (1-x₁_non_ideal);\n",
    "flash_problem_non_ideal_table_array[3,6] = 70.0;\n",
    "\n",
    "# header -\n",
    "non_ideal_table_header_data = ([\"Stream\", \"State\", \"ṅₛ,T (mol/t)\", \"x₁ or y₁\", \"x₂ or y₂\", \"T (C)\"]);\n",
    "\n",
    "# show table \n",
    "pretty_table(flash_problem_non_ideal_table_array; header = non_ideal_table_header_data);"
   ]
  },
  {
   "cell_type": "code",
   "execution_count": null,
   "id": "4b020f96-f247-4e6e-af4c-a423f37d2bb9",
   "metadata": {},
   "outputs": [],
   "source": []
  }
 ],
 "metadata": {
  "kernelspec": {
   "display_name": "Julia 1.8.0",
   "language": "julia",
   "name": "julia-1.8"
  },
  "language_info": {
   "file_extension": ".jl",
   "mimetype": "application/julia",
   "name": "julia",
   "version": "1.8.2"
  }
 },
 "nbformat": 4,
 "nbformat_minor": 5
}
