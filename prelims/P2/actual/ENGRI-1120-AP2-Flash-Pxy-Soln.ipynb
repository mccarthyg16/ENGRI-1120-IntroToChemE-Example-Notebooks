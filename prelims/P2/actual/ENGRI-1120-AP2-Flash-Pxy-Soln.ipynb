{
 "cells": [
  {
   "cell_type": "markdown",
   "id": "f0e1825d-3701-4d13-9080-412587545f6f",
   "metadata": {},
   "source": [
    "## ENGRI 1120 Pxy Flash Problem Solution"
   ]
  },
  {
   "cell_type": "markdown",
   "id": "7cb07eb0-9f60-4e33-be7c-71350eee4eed",
   "metadata": {},
   "source": [
    "<img src=\"./latex/figs/Fig-Pxy-acetone-water-85C-AP2.pdf\" style=\"width:50%\">"
   ]
  },
  {
   "cell_type": "markdown",
   "id": "52cf8698-695a-4650-8fa1-eb76881caecc",
   "metadata": {},
   "source": [
    "Cornell Inc. was hired to design a flash separation process for a binary ($\\mathcal{M}$ = 2) mixture of Actone(1)/Water(2).  The engineering team has been asked to do initial design calculations using an ideal Pxy diagram. \n",
    "\n",
    "Let the saturation pressure of component $i$ be described by the Antoine equation:\n",
    "$$\n",
    "\\begin{equation}\n",
    "\\ln\\left(P_{i}^{sat}\\right) = A_{i} - \\frac{B_{i}}{C_{i}+T}\n",
    "\\end{equation}\n",
    "$$\n",
    "where $P_{i}^{sat}$ has units of kPa and the temperature $T$ has units of $^{\\circ}C$. The Antoine parameters are given in the problem.\n",
    "\n",
    "__Assumptions__: (i) the Flash drum operates at steady-state;\n",
    "(ii) vapor-liquid equilibrium occurs everywhere inside the drum at some (T,P);\n",
    "(iii) treat both the vapor and liquid phases as ideal;\n",
    "(iv) the Flash drum is well-mixed;\n",
    "(v) a single liquid feed (stream 1) enters, and a vapor (stream 2) and liquid (stream 3) exit the drum;\n",
    "(vi) R = 8.314$\\times$10$^{-2}$ L bar K$^{-1}$ mol$^{-1}$.\n",
    "\n",
    "\n",
    "* a) What temperature T (K) is the Flash drum operating at? (place your estimated T in the Pxy state table).\n",
    "* b) Estimate the mising values in the Pxy state table assuming the Flash drum operates at P = 150 kPa with an input feed rate of $\\dot{F}$ = 10 mol/t and $z_{1}$ = 0.64.\n",
    "* c) Check: thinking about the bext way to do this."
   ]
  },
  {
   "cell_type": "markdown",
   "id": "52b0c1a0-cee5-497a-9892-dbcea3afa87a",
   "metadata": {},
   "source": [
    "### Solution"
   ]
  },
  {
   "cell_type": "code",
   "execution_count": 1,
   "id": "9199d519-5fb1-4ddf-9c66-4c4dcda7390a",
   "metadata": {},
   "outputs": [
    {
     "name": "stderr",
     "output_type": "stream",
     "text": [
      "\u001b[32m\u001b[1m  Activating\u001b[22m\u001b[39m project at `~/Desktop/julia_work/ENGRI-1120-Prelim-2-F22/actual_upload`\n",
      "\u001b[32m\u001b[1m  No Changes\u001b[22m\u001b[39m to `~/Desktop/julia_work/ENGRI-1120-Prelim-2-F22/actual_upload/Project.toml`\n",
      "\u001b[32m\u001b[1m  No Changes\u001b[22m\u001b[39m to `~/Desktop/julia_work/ENGRI-1120-Prelim-2-F22/actual_upload/Manifest.toml`\n"
     ]
    }
   ],
   "source": [
    "import Pkg; Pkg.activate(\".\"); Pkg.resolve(); Pkg.instantiate();"
   ]
  },
  {
   "cell_type": "code",
   "execution_count": 2,
   "id": "7273139b-f860-46b3-93b2-977cfb6beb3b",
   "metadata": {},
   "outputs": [],
   "source": [
    "using LinearAlgebra\n",
    "using PrettyTables"
   ]
  },
  {
   "cell_type": "markdown",
   "id": "1f4e2f2d-db13-4bb6-acda-0e984c98b2c1",
   "metadata": {},
   "source": [
    "### a) Estimate the Temperature\n",
    "\n",
    "#### Strategy\n",
    "We can re-arrange Antoine's equation for the temperature $T$:\n",
    "\n",
    "$$T = \\frac{B}{A - X} - C$$\n",
    "\n",
    "where $X = \\log_{10}P_{1}^{sat}$. However, we have a pure system, say all component 1, then:\n",
    "\n",
    "$$P = P_{1}^{sat}$$.\n",
    "\n",
    "Thus, we can estimate $P_{1}^{sat}$ from the Pxy, and then solve for $T$."
   ]
  },
  {
   "cell_type": "code",
   "execution_count": 3,
   "id": "2d28ae41-36c3-41be-ad10-b9ae8a111f90",
   "metadata": {},
   "outputs": [
    {
     "data": {
      "text/plain": [
       "248"
      ]
     },
     "execution_count": 3,
     "metadata": {},
     "output_type": "execute_result"
    }
   ],
   "source": [
    "# Use the pressure at the x₁ = 1 end-point to estimate the P_1 -\n",
    "P1_sat = 248 # units: kPa"
   ]
  },
  {
   "cell_type": "code",
   "execution_count": 4,
   "id": "4355fe6d-2a8a-4320-8e2b-04ad90d1cc05",
   "metadata": {},
   "outputs": [
    {
     "name": "stdout",
     "output_type": "stream",
     "text": [
      "The temperature is approx T = 85.26890059844368 C\n"
     ]
    }
   ],
   "source": [
    "# look parameters from the problem -\n",
    "A₁ = 14.31;\n",
    "B₁ = 2756.22;\n",
    "C₁ = 228.06;\n",
    "\n",
    "# Estimate T -\n",
    "X = log(P1_sat);\n",
    "T = (B₁)/(A₁ - X) - C₁\n",
    "\n",
    "# print -\n",
    "println(\"The temperature is approx T = $(T) C\")"
   ]
  },
  {
   "cell_type": "code",
   "execution_count": 5,
   "id": "073d92a4-7a63-4c27-a998-399f323a9e59",
   "metadata": {},
   "outputs": [
    {
     "data": {
      "text/plain": [
       "247.99999999999986"
      ]
     },
     "execution_count": 5,
     "metadata": {},
     "output_type": "execute_result"
    }
   ],
   "source": [
    "# check:\n",
    "F = (A₁ - (B₁)/(C₁ + T))\n",
    "exp(F)"
   ]
  },
  {
   "cell_type": "markdown",
   "id": "ee65547d-52be-4a2b-adea-8648195c3342",
   "metadata": {},
   "source": [
    "### b) Estimate the composition from the Pxy diagram"
   ]
  },
  {
   "cell_type": "code",
   "execution_count": 6,
   "id": "53e670b3-3b69-499e-bb7a-9fbe287c8367",
   "metadata": {},
   "outputs": [],
   "source": [
    "# from the fig -\n",
    "x₁ = 0.49;\n",
    "y₁ = 0.80;\n",
    "z₁ = 0.64; # from the problem\n",
    "z₂ = 1 - z₁;"
   ]
  },
  {
   "cell_type": "code",
   "execution_count": 7,
   "id": "a46933da-08aa-47c7-a93b-e988040e372e",
   "metadata": {},
   "outputs": [
    {
     "data": {
      "text/plain": [
       "2-element Vector{Float64}:\n",
       " 0.5161290322580645\n",
       " 0.4838709677419353"
      ]
     },
     "execution_count": 7,
     "metadata": {},
     "output_type": "execute_result"
    }
   ],
   "source": [
    "### check: Linear algebra soln - \n",
    "Ḟ = 10.0; # units: mol/L\n",
    "A = [\n",
    "    x₁ y₁ ;\n",
    "    1 1;\n",
    "];\n",
    "\n",
    "b = [\n",
    "    z₁ ;\n",
    "    1 ;\n",
    "];\n",
    "\n",
    "# Estimate -\n",
    "x = inv(A)*b"
   ]
  },
  {
   "cell_type": "code",
   "execution_count": 8,
   "id": "4b40fbe0-0b09-486b-a8b7-ff85ef963957",
   "metadata": {},
   "outputs": [
    {
     "name": "stdout",
     "output_type": "stream",
     "text": [
      "L̇ = 5.161290322580645 mol/t\n"
     ]
    }
   ],
   "source": [
    "L̇ = x[1]*Ḟ\n",
    "println(\"L̇ = $(L̇) mol/t\");"
   ]
  },
  {
   "cell_type": "code",
   "execution_count": 9,
   "id": "88bda57c-46d0-46c4-886c-8cda16482a95",
   "metadata": {},
   "outputs": [
    {
     "name": "stdout",
     "output_type": "stream",
     "text": [
      "V̇ = 4.838709677419352 mol/t\n"
     ]
    }
   ],
   "source": [
    "V̇ = x[2]*Ḟ\n",
    "println(\"V̇ = $(V̇) mol/t\");"
   ]
  },
  {
   "cell_type": "markdown",
   "id": "8e99ffe6-4f19-4bf5-8186-a856a9919ab0",
   "metadata": {},
   "source": [
    "### c) Pressure summation check:"
   ]
  },
  {
   "cell_type": "code",
   "execution_count": 13,
   "id": "a1c70cc0-2da2-4be9-8928-77f076f15237",
   "metadata": {},
   "outputs": [
    {
     "name": "stdout",
     "output_type": "stream",
     "text": [
      "Pressure check: ϵ₁ = 0.02666666666666136 and ϵ₂ = 0.03999999999999204\n"
     ]
    }
   ],
   "source": [
    "# Set some values -\n",
    "P₁_sat = 250; # units: kPa\n",
    "P₂_sat = 54; # units: kPa\n",
    "P = 150.0; # units: kPa\n",
    "L̂ = x[1];\n",
    "V̂ = x[2];\n",
    "\n",
    "# compute the terms -\n",
    "term_1 = (P₁_sat/P)*(V̂)+L̂;\n",
    "term_2 = (P₂_sat/P)*(V̂)+L̂;\n",
    "\n",
    "# summation\n",
    "check = x₁*P₁_sat + (1-x₁)*P₂_sat\n",
    "ϵ₁ = abs(((check - P)/P))*100\n",
    "\n",
    "# in case they didn't divide -\n",
    "ϵ₂ = abs(check - P)\n",
    "\n",
    "# print -\n",
    "println(\"Pressure check: ϵ₁ = $(ϵ₁) and ϵ₂ = $(ϵ₂)\")"
   ]
  },
  {
   "cell_type": "markdown",
   "id": "91473a22-947d-491d-bf69-1f5efea9bf11",
   "metadata": {},
   "source": [
    "### Pxy flash problem Table"
   ]
  },
  {
   "cell_type": "code",
   "execution_count": 11,
   "id": "d0dd987f-b8b1-48f6-a099-d5cd97dcf751",
   "metadata": {},
   "outputs": [
    {
     "name": "stdout",
     "output_type": "stream",
     "text": [
      "┌────────┬───────┬─────────┬──────────────┬──────────┬──────────┬─────────┐\n",
      "│\u001b[1m Stream \u001b[0m│\u001b[1m State \u001b[0m│\u001b[1m   T (C) \u001b[0m│\u001b[1m ṅₛ,T (mol/t) \u001b[0m│\u001b[1m x₁ or y₁ \u001b[0m│\u001b[1m x₂ or y₂ \u001b[0m│\u001b[1m P (kPa) \u001b[0m│\n",
      "├────────┼───────┼─────────┼──────────────┼──────────┼──────────┼─────────┤\n",
      "│      1 │     L │     N/A │           10 │     0.64 │     0.36 │     N/A │\n",
      "│      2 │     V │ 85.2689 │      4.83871 │      0.8 │      0.2 │     150 │\n",
      "│      3 │     L │ 85.2689 │      5.16129 │     0.49 │     0.51 │     150 │\n",
      "└────────┴───────┴─────────┴──────────────┴──────────┴──────────┴─────────┘\n"
     ]
    }
   ],
   "source": [
    "# setup table -\n",
    "\n",
    "flash_problem_table_array = Array{Any,2}(undef, 3, 7);\n",
    "\n",
    "# row 1 -\n",
    "flash_problem_table_array[1,1] = \"1\";\n",
    "flash_problem_table_array[1,2] = \"L\";\n",
    "flash_problem_table_array[1,3] = \"N/A\";\n",
    "flash_problem_table_array[1,4] = \"10\";\n",
    "flash_problem_table_array[1,5] = 0.64;\n",
    "flash_problem_table_array[1,6] = 0.36;\n",
    "flash_problem_table_array[1,7] = \"N/A\";\n",
    "\n",
    "# row 2 -\n",
    "flash_problem_table_array[2,1] = \"2\";\n",
    "flash_problem_table_array[2,2] = \"V\";\n",
    "flash_problem_table_array[2,3] = T;\n",
    "flash_problem_table_array[2,4] = V̇\n",
    "flash_problem_table_array[2,5] = y₁\n",
    "flash_problem_table_array[2,6] = (1-y₁);\n",
    "flash_problem_table_array[2,7] = 150;\n",
    "\n",
    "# row 2 -\n",
    "flash_problem_table_array[3,1] = \"3\";\n",
    "flash_problem_table_array[3,2] = \"L\";\n",
    "flash_problem_table_array[3,3] = T;\n",
    "flash_problem_table_array[3,4] = L̇\n",
    "flash_problem_table_array[3,5] = x₁\n",
    "flash_problem_table_array[3,6] = (1-x₁);\n",
    "flash_problem_table_array[3,7] = 150;\n",
    "\n",
    "# header -\n",
    "table_header_data = ([\"Stream\", \"State\", \"T (C)\", \"ṅₛ,T (mol/t)\", \"x₁ or y₁\", \"x₂ or y₂\", \"P (kPa)\"]);\n",
    "\n",
    "# show table \n",
    "pretty_table(flash_problem_table_array; header = table_header_data);"
   ]
  },
  {
   "cell_type": "code",
   "execution_count": null,
   "id": "e921e2ec-47f6-4517-b0e8-164437052024",
   "metadata": {},
   "outputs": [],
   "source": []
  }
 ],
 "metadata": {
  "kernelspec": {
   "display_name": "Julia 1.8.0",
   "language": "julia",
   "name": "julia-1.8"
  },
  "language_info": {
   "file_extension": ".jl",
   "mimetype": "application/julia",
   "name": "julia",
   "version": "1.8.2"
  }
 },
 "nbformat": 4,
 "nbformat_minor": 5
}
