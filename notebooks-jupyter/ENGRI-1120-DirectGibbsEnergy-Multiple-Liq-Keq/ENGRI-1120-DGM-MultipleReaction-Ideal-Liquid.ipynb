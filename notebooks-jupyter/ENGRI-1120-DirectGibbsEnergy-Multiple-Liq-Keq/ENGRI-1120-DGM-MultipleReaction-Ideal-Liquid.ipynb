{
 "cells": [
  {
   "cell_type": "markdown",
   "id": "26c5ba06-5143-4ea2-a32c-5dc0127177bb",
   "metadata": {},
   "source": [
    "## ENGRI 1120: Direct Calculation of the Total Gibbs Energy for Multiple Reactions"
   ]
  },
  {
   "cell_type": "markdown",
   "id": "dc17a7d9-f4a3-45ab-83da-71c67e3e1c8d",
   "metadata": {},
   "source": [
    "### Introduction"
   ]
  },
  {
   "cell_type": "markdown",
   "id": "a2d46056-14fc-4c08-b033-a40acea6b9b7",
   "metadata": {},
   "source": [
    "To solve this problem, we first need to setup the problem that we are trying to solve. The problem asks us to use the Direct Gibbs Energy Minimization (DGEM) approach. For multiple reactions, the Gibbs expression:\n",
    "\n",
    "$$\\hat{G} = \\sum_{i\\in\\mathcal{M}}\\bar{G}_{i}n_{i}$$\n",
    "\n",
    "becomes:\n",
    "\n",
    "$$\\frac{1}{RT}\\left(\\hat{G}-\\sum_{i\\in\\mathcal{M}}n_{i}^{\\circ}G_{i}^{\\circ}\\right) = \\sum_{j\\in\\mathcal{R}}\\epsilon_{j}\\left(\\frac{\\Delta{G}_{j}^{\\circ}}{RT}\\right) + \\sum_{i\\in\\mathcal{M}}n_{i}\\ln\\hat{a}_{i}$$\n",
    "\n",
    "where the number of mol for species _i_ is given by:\n",
    "\n",
    "$$n_{i} = n_{i}^{\\circ} + \\sum_{r\\in\\mathcal{R}}\\sigma_{ir}\\epsilon_{r}$$. \n",
    "\n",
    "The quantity $\\Delta{G}^{\\circ}_{j}$ denotes the Gibbs energy of reaction for reaction _j_ (units: kJ/mmol), and $\\hat{a}_{i}$ denotes the ratio of fugacity for component _i_, which (after the assumption of an ideal solution) becomes: \n",
    "\n",
    "$$\\ln\\hat{a}_{i} = \\ln{x_{i}}$$ \n",
    "\n",
    "where $x_{i}$ denotes the mol fraction of component _i_. To estimate the equilibrium extent _vector_ we minimize Gibbs energy expression, subject to constraints. Our decision variables (what we are looking for) are the extents of reaction $\\epsilon_{i},i=1,\\dots,\\mathcal{R}$. In this case the constraints are bounds on each extent $\\epsilon_{i}\\in\\left[0,\\star\\right],\\forall{i}$ and $n_{i}\\geq{0},\\forall{i}$.\n",
    "\n",
    "#### Problem\n",
    "Calculate the equilibrium extent of reaction and the equilibrium concentrations for the first five steps of glycolysis occuring in an  _E. coli_ MG-1655 cell free extract using Direct Gibbs Energy Minimization (DGEM).\n",
    "\n",
    "The pathway we are exploring can be found [here](https://www.genome.jp/kegg-bin/show_pathway?eco00010).\n",
    "\n",
    "__Assumption__\n",
    "* The cell free extract has a constant V = 30.0μL\n",
    "* The cell free extract acts like an _ideal_ liqud solution\n",
    "* The cell free reaction is at a constant T, P\n",
    "* The _default_ metabolic settings used by [eQuilibrator](https://equilibrator.weizmann.ac.il) are valid for this system"
   ]
  },
  {
   "cell_type": "markdown",
   "id": "119eb445-3d1c-4fcf-945f-79fe1e60e2f1",
   "metadata": {},
   "source": [
    "### Example setup"
   ]
  },
  {
   "cell_type": "code",
   "execution_count": 1,
   "id": "dab38f2c-3a29-4c09-ba4a-2a177cdc69bd",
   "metadata": {},
   "outputs": [
    {
     "name": "stderr",
     "output_type": "stream",
     "text": [
      "\u001b[32m\u001b[1m  Activating\u001b[22m\u001b[39m project at `~/Desktop/julia_work/ENGRI-1120-IntroToChemE-Example-Notebooks/notebooks-jupyter/ENGRI-1120-DirectGibbsEnergy-Multiple-Liq-Keq`\n",
      "\u001b[32m\u001b[1m  No Changes\u001b[22m\u001b[39m to `~/Desktop/julia_work/ENGRI-1120-IntroToChemE-Example-Notebooks/notebooks-jupyter/ENGRI-1120-DirectGibbsEnergy-Multiple-Liq-Keq/Project.toml`\n",
      "\u001b[32m\u001b[1m  No Changes\u001b[22m\u001b[39m to `~/Desktop/julia_work/ENGRI-1120-IntroToChemE-Example-Notebooks/notebooks-jupyter/ENGRI-1120-DirectGibbsEnergy-Multiple-Liq-Keq/Manifest.toml`\n"
     ]
    }
   ],
   "source": [
    "import Pkg; Pkg.activate(\".\"); Pkg.resolve(); Pkg.instantiate();"
   ]
  },
  {
   "cell_type": "code",
   "execution_count": 2,
   "id": "c2867399-7c10-4abe-8215-1a47befa7615",
   "metadata": {},
   "outputs": [],
   "source": [
    "# load req packages -\n",
    "using Optim\n",
    "using PrettyTables"
   ]
  },
  {
   "cell_type": "code",
   "execution_count": 3,
   "id": "110d57a3-7682-4d48-a7ed-78718379afb7",
   "metadata": {},
   "outputs": [],
   "source": [
    "include(\"ENGRI-1120-Example-CodeLib.jl\");"
   ]
  },
  {
   "cell_type": "markdown",
   "id": "c56fe1ee-bde6-4f07-8194-f6c562912917",
   "metadata": {},
   "source": [
    "#### Constants"
   ]
  },
  {
   "cell_type": "code",
   "execution_count": 4,
   "id": "4543c749-aefd-4b2a-9a42-ef1e6cef1b72",
   "metadata": {},
   "outputs": [],
   "source": [
    "# conversion factor -\n",
    "ΔG_sf = 1e9; # convert to mol to *mol\n",
    "\n",
    "# set constants -\n",
    "T = 37.0 + 273.15; # units: K\n",
    "V = 30*(1/1e6); # units: L\n",
    "R = 8.314*(1/1000)*(1/ΔG_sf); # units: kJ/nmol-K\n",
    "\n",
    "# case flags -\n",
    "simulate_with_sink_flag = false;"
   ]
  },
  {
   "cell_type": "markdown",
   "id": "0b2f6a1f-f280-4713-a183-6f151bb0f8a5",
   "metadata": {},
   "source": [
    "#### a) Setup the problem data"
   ]
  },
  {
   "cell_type": "code",
   "execution_count": 5,
   "id": "a950197f-58dd-4b1e-96fc-4f666a5cd041",
   "metadata": {},
   "outputs": [
    {
     "data": {
      "text/plain": [
       "8×5 Matrix{Float64}:\n",
       " -1.0   0.0   0.0   0.0   0.0\n",
       "  1.0  -1.0   0.0   0.0   0.0\n",
       " -1.0   0.0  -1.0   0.0   0.0\n",
       "  1.0   0.0   1.0   0.0   0.0\n",
       "  0.0   1.0  -1.0   0.0   0.0\n",
       "  0.0   0.0   1.0  -1.0   0.0\n",
       "  0.0   0.0   0.0   1.0   1.0\n",
       "  0.0   0.0   0.0   1.0  -1.0"
      ]
     },
     "execution_count": 5,
     "metadata": {},
     "output_type": "execute_result"
    }
   ],
   "source": [
    "# setup problem parameters -\n",
    "parameters_dict = Dict{String,Any}()\n",
    "\n",
    "# conversion factor -\n",
    "ΔG_sf = 1e9; # convert to mol to *mol\n",
    "\n",
    "if (simulate_with_sink_flag == true)\n",
    "    \n",
    "    # we have an extra fake \"sink\" species -\n",
    "    \n",
    "    # what is my system dimensions?\n",
    "    ℳ = 9 # number of metabolites\n",
    "    ℛ = 6 # number of reactions\n",
    "\n",
    "    # ΔG_formation data -\n",
    "    G_formation_array = zeros(ℳ) \n",
    "    G_formation_array[1] = -409.4 \t\t# 1 gluc kJ/mol\n",
    "    G_formation_array[2] = -1304.7 \t\t# 2 gluc-6-p kJ/mol\n",
    "    G_formation_array[3] = -2280.7 \t\t# 3 atp kJ/mol\n",
    "    G_formation_array[4] = -1405.9 \t\t# 4 adp kJ/mol\n",
    "    G_formation_array[5] = -1302.1 \t\t# 5 fruc-6-p kJ/mol\n",
    "    G_formation_array[6] = -2193.6 \t\t# 6 fruc-1,6-bis-p kJ/mol\n",
    "    G_formation_array[7] = -1097.2 \t\t# 7 dhap kJ/mol\n",
    "    G_formation_array[8] = -1091.5 \t\t# 8 ga3p kJ/mol\n",
    "    G_formation_array[9] = -5000.0 \t    # 9 sink\n",
    "    parameters_dict[\"G_formation_array\"] = (1/ΔG_sf)*G_formation_array # units: kJ/*mol\n",
    "\n",
    "    # what are my initial condtions?\n",
    "    n_initial_array = 1.0*ones(ℳ)\n",
    "    n_initial_array[1] = 35.9*(V)*(1e9/1e3) \t\t# 1 gluc nmol\n",
    "    n_initial_array[3] = 2000.0 \t\t\t\t\t# 3 atp nmol\n",
    "    parameters_dict[\"n_initial_array\"] = n_initial_array\n",
    "\n",
    "    # setup stoichiometric array -\n",
    "    S = [\n",
    "\n",
    "        # ϵ₁ ϵ₂  ϵ₃  ϵ₄  ϵ₅  ϵ₆\n",
    "        -1.0 0.0 0.0 0.0 0.0 0.0 \t; # 1 gluc\n",
    "        1.0 -1.0 0.0 0.0 0.0 0.0\t; # 2 gluc-6-p\n",
    "        -1.0 0.0 -1.0 0.0 0.0 0.0 \t; # 3 atp\n",
    "        1.0 0.0 1.0 0.0 0.0 0.0     ; # 4 adp\n",
    "        0.0 1.0 -1.0 0.0 0.0 0.0 \t; # 5 fruc-6-p\n",
    "        0.0 0.0 1.0 -1.0 0.0 0.0 \t; # 6 fruc-1,6-bis-p\n",
    "        0.0 0.0 0.0 1.0 1.0 0.0\t\t; # 7 dhap\n",
    "        0.0 0.0 0.0 1.0 -1.0 -1.0\t; # 8 ga3p\n",
    "        0.0 0.0 0.0 0.0 0.0 1.0 \t; # 9 sink\n",
    "    ];\n",
    "    parameters_dict[\"S\"] = S;\n",
    "    \n",
    "else\n",
    "    \n",
    "    # what is my system dimensions?\n",
    "    ℳ = 8 # number of metabolites\n",
    "    ℛ = 5 # number of reactions\n",
    "\n",
    "    # ΔG_formation data -\n",
    "    G_formation_array = zeros(ℳ) \n",
    "    G_formation_array[1] = -409.4 \t\t# 1 gluc kJ/mol\n",
    "    G_formation_array[2] = -1304.7 \t\t# 2 gluc-6-p kJ/mol\n",
    "    G_formation_array[3] = -2280.7 \t\t# 3 atp kJ/mol\n",
    "    G_formation_array[4] = -1405.9 \t\t# 4 adp kJ/mol\n",
    "    G_formation_array[5] = -1302.1 \t\t# 5 fruc-6-p kJ/mol\n",
    "    G_formation_array[6] = -2193.6 \t\t# 6 fruc-1,6-bis-p kJ/mol\n",
    "    G_formation_array[7] = -1097.2 \t\t# 7 dhap kJ/mol\n",
    "    G_formation_array[8] = -1091.5 \t\t# 8 ga3p kJ/mol\n",
    "    parameters_dict[\"G_formation_array\"] = (1/ΔG_sf)*G_formation_array # units: kJ/*mol\n",
    "\n",
    "    # what are my initial condtions?\n",
    "    n_initial_array = 1.0*ones(ℳ)\n",
    "    n_initial_array[1] = 35.9*(V)*(1e9/1e3) \t\t# 1 gluc nmol\n",
    "    n_initial_array[3] = 2000.0 \t\t\t\t\t# 3 atp nmol\n",
    "    parameters_dict[\"n_initial_array\"] = n_initial_array;\n",
    "\n",
    "    # setup stoichiometric array -\n",
    "    S = [\n",
    "\n",
    "        # ϵ₁ ϵ₂  ϵ₃  ϵ₄  ϵ₅ \n",
    "        -1.0 0.0 0.0 0.0 0.0 \t; # 1 gluc\n",
    "        1.0 -1.0 0.0 0.0 0.0 \t; # 2 gluc-6-p\n",
    "        -1.0 0.0 -1.0 0.0 0.0 \t; # 3 atp\n",
    "        1.0 0.0 1.0 0.0 0.0 \t; # 4 adp\n",
    "        0.0 1.0 -1.0 0.0 0.0 \t; # 5 fruc-6-p\n",
    "        0.0 0.0 1.0 -1.0 0.0 \t; # 6 fruc-1,6-bis-p\n",
    "        0.0 0.0 0.0 1.0 1.0\t\t; # 7 dhap\n",
    "        0.0 0.0 0.0 1.0 -1.0\t; # 8 ga3p\n",
    "    ];\n",
    "    \n",
    "    parameters_dict[\"S\"] = S;   \n",
    "end"
   ]
  },
  {
   "cell_type": "markdown",
   "id": "82fdf3c2-d69a-4d44-8cc7-c5e967b2a703",
   "metadata": {},
   "source": [
    "#### b) Optimization\n",
    "Let's use the [Optim.jl](https://github.com/JuliaNLSolvers/Optim.jl) package to estimate the extent vector as a _constrained_ optimization problem "
   ]
  },
  {
   "cell_type": "code",
   "execution_count": 6,
   "id": "76721e15-d39e-4212-83a1-2a9a58ee590d",
   "metadata": {},
   "outputs": [
    {
     "data": {
      "text/plain": [
       " * Status: success (objective increased between iterations)\n",
       "\n",
       " * Candidate solution\n",
       "    Final objective value:     -1.785180e+04\n",
       "\n",
       " * Found with\n",
       "    Algorithm:     Fminbox with BFGS\n",
       "\n",
       " * Convergence measures\n",
       "    |x - x'|               = 1.56e+03 ≰ 0.0e+00\n",
       "    |x - x'|/|x'|          = 8.24e-01 ≰ 0.0e+00\n",
       "    |f(x) - f(x')|         = 0.00e+00 ≤ 0.0e+00\n",
       "    |f(x) - f(x')|/|f(x')| = 0.00e+00 ≤ 0.0e+00\n",
       "    |g(x)|                 = 8.12e-09 ≤ 1.0e-08\n",
       "\n",
       " * Work counters\n",
       "    Seconds run:   0  (vs limit Inf)\n",
       "    Iterations:    1\n",
       "    f(x) calls:    853\n",
       "    ∇f(x) calls:   853\n"
      ]
     },
     "execution_count": 6,
     "metadata": {},
     "output_type": "execute_result"
    }
   ],
   "source": [
    "# setup bounds -\n",
    "L = zeros(ℛ)\n",
    "U = maximum(n_initial_array)*ones(ℛ)\n",
    "\n",
    "\n",
    "# Use the answer from Method 2 as a starting point \n",
    "xinitial = zeros(ℛ) .+ 0.001;\n",
    "xinitial[1] = 0.5*maximum(U)\n",
    "\n",
    "# setup the objective function -\n",
    "OF(p) = objective_function(p, parameters_dict)\n",
    "\n",
    "# call the optimizer -\n",
    "opt_result = optimize(OF,L, U, xinitial, Fminbox(BFGS()))"
   ]
  },
  {
   "cell_type": "markdown",
   "id": "e4710932-2239-4de4-8151-16e61a690c60",
   "metadata": {},
   "source": [
    "#### Build an extent of reaction table"
   ]
  },
  {
   "cell_type": "code",
   "execution_count": 7,
   "id": "8609d0d6-b82d-43d8-a931-3a7cc1b90c42",
   "metadata": {
    "jupyter": {
     "source_hidden": true
    },
    "tags": []
   },
   "outputs": [
    {
     "name": "stdout",
     "output_type": "stream",
     "text": [
      "┌─────────────────────────┬───────────┬─────────┬──────────┐\n",
      "│\u001b[1m                Reaction \u001b[0m│\u001b[1m    ΔG_rxn \u001b[0m│\u001b[1m       ϵ \u001b[0m│\u001b[1m ϵ_scaled \u001b[0m│\n",
      "│\u001b[90m                         \u001b[0m│\u001b[90m kJ/nmol-K \u001b[0m│\u001b[90m    nmol \u001b[0m│\u001b[90m       AU \u001b[0m│\n",
      "├─────────────────────────┼───────────┼─────────┼──────────┤\n",
      "│   glc + atp = g6p + adp │     -20.5 │  1072.4 │ 0.347842 │\n",
      "│               g6p = f6p │       2.6 │  952.37 │  0.30891 │\n",
      "│ f6p + atp = f16bp + adp │     -16.7 │ 909.215 │ 0.294912 │\n",
      "│     f16bp = dhap + ga3p │       4.9 │ 644.181 │ 0.208946 │\n",
      "│             ga3p = dhap │      -5.7 │  517.68 │ 0.167914 │\n",
      "└─────────────────────────┴───────────┴─────────┴──────────┘\n"
     ]
    }
   ],
   "source": [
    "ϵ = Optim.minimizer(opt_result)\n",
    "\n",
    "# compute the dG_reaction -\n",
    "G_formation_array = parameters_dict[\"G_formation_array\"]\n",
    "ΔG_rxn = transpose(S)*G_formation_array\n",
    "\n",
    "# build a list of species -\n",
    "if (simulate_with_sink_flag == true)\n",
    "    # we need this for later -\n",
    "    reaction_string_array = [\n",
    "        \"glc + atp = g6p + adp\" \t;\n",
    "        \"g6p = f6p\" \t\t\t\t;\n",
    "        \"f6p + atp = f16bp + adp\" \t;\n",
    "        \"f16bp = dhap + ga3p\" \t\t;\n",
    "        \"ga3p = dhap\" \t\t\t\t;\n",
    "        \"sink\"\t\t\t\t\t\t;\n",
    "    ];\n",
    "else\n",
    "    reaction_string_array = [\n",
    "        \"glc + atp = g6p + adp\" \t;\n",
    "        \"g6p = f6p\" \t\t\t\t;\n",
    "        \"f6p + atp = f16bp + adp\" \t;\n",
    "        \"f16bp = dhap + ga3p\" \t\t;\n",
    "        \"ga3p = dhap\" \t\t\t\t;\n",
    "    ];\n",
    "end\n",
    "\n",
    "# make the data table array -\n",
    "data_table_array = Array{Any,2}(undef,ℛ,4)\n",
    "for reaction_index = 1:ℛ\n",
    "    data_table_array[reaction_index,1] = reaction_string_array[reaction_index]\n",
    "    data_table_array[reaction_index,2] = ΔG_rxn[reaction_index]*(ΔG_sf)\n",
    "    data_table_array[reaction_index,3] = ϵ[reaction_index]\n",
    "    data_table_array[reaction_index,4] = ϵ[reaction_index]*(1/sum(n_initial_array))\n",
    "end\n",
    "\n",
    "# setup pretty table -\n",
    "# header row -\n",
    "path_table_header_row = ([\"Reaction\",\"ΔG_rxn\",\"ϵ\", \"ϵ_scaled\"],[\"\",\"kJ/nmol-K\",\"nmol\", \"AU\"]);\n",
    "\n",
    "# write the table -\n",
    "pretty_table(data_table_array; header=path_table_header_row)"
   ]
  },
  {
   "cell_type": "markdown",
   "id": "6056a5ad-c017-41ba-9c66-79a7a67d82ad",
   "metadata": {},
   "source": [
    "#### Build a concentration table"
   ]
  },
  {
   "cell_type": "code",
   "execution_count": 8,
   "id": "dbf5ef44-566e-4cb2-92e8-fa11d8d16c7b",
   "metadata": {
    "jupyter": {
     "source_hidden": true
    },
    "tags": []
   },
   "outputs": [
    {
     "name": "stdout",
     "output_type": "stream",
     "text": [
      "┌─────────┬────────┬─────────┬───────────┬──────────┐\n",
      "│\u001b[1m Species \u001b[0m│\u001b[1m    n_i \u001b[0m│\u001b[1m     n_f \u001b[0m│\u001b[1m       C_i \u001b[0m│\u001b[1m      C_f \u001b[0m│\n",
      "│\u001b[90m         \u001b[0m│\u001b[90m   nmol \u001b[0m│\u001b[90m    nmol \u001b[0m│\u001b[90m        mM \u001b[0m│\u001b[90m       mM \u001b[0m│\n",
      "├─────────┼────────┼─────────┼───────────┼──────────┤\n",
      "│ glucose │ 1077.0 │ 4.60179 │      35.9 │ 0.153393 │\n",
      "│     g6p │    1.0 │ 121.028 │ 0.0333333 │  4.03427 │\n",
      "│     atp │ 2000.0 │ 18.3873 │   66.6667 │ 0.612909 │\n",
      "│     adp │    1.0 │ 1982.61 │ 0.0333333 │  66.0871 │\n",
      "│     f6p │    1.0 │ 44.1556 │ 0.0333333 │  1.47185 │\n",
      "│   f16bp │    1.0 │ 266.033 │ 0.0333333 │  8.86778 │\n",
      "│    dhap │    1.0 │ 1162.86 │ 0.0333333 │   38.762 │\n",
      "│    ga3p │    1.0 │ 127.501 │ 0.0333333 │  4.25004 │\n",
      "└─────────┴────────┴─────────┴───────────┴──────────┘\n"
     ]
    }
   ],
   "source": [
    "ϵ = Optim.minimizer(opt_result)\n",
    "S = parameters_dict[\"S\"]\n",
    "n_initial_array = parameters_dict[\"n_initial_array\"]\n",
    "n = n_initial_array + S*ϵ\n",
    "\n",
    "# setp table_data_array -\n",
    "table_data_array = Array{Any,2}(undef,ℳ,5)\n",
    "\n",
    "# build a list of species -\n",
    "if (simulate_with_sink_flag == true)\n",
    "    species_array = [\"glucose\",\"g6p\",\"atp\",\"adp\",\"f6p\",\"f16bp\",\"dhap\",\"ga3p\", \"sink\"]\n",
    "else\n",
    "    species_array = [\"glucose\",\"g6p\",\"atp\",\"adp\",\"f6p\",\"f16bp\",\"dhap\",\"ga3p\"]\n",
    "end\n",
    "\n",
    "# fill up the data table -\n",
    "for species_index = 1:ℳ\n",
    "    table_data_array[species_index,1] = species_array[species_index]\n",
    "    table_data_array[species_index,2] = n_initial_array[species_index]\n",
    "    table_data_array[species_index,3] = n[species_index]\n",
    "    table_data_array[species_index,4] = (1/V)*n_initial_array[species_index]*(1e3)*(1/ΔG_sf) # converts to mM\n",
    "    table_data_array[species_index,5] = (1/V)*n[species_index]*(1e3)*(1/ΔG_sf) # converts to mM\n",
    "end\n",
    "\n",
    "# setup pretty table -\n",
    "# header row -\n",
    "path_table_header_row = ([\"Species\",\"n_i\",\"n_f\", \"C_i\", \"C_f\"],[\"\",\"nmol\",\"nmol\", \"mM\", \"mM\"]);\n",
    "\n",
    "# write the table -\n",
    "pretty_table(table_data_array; header=path_table_header_row)"
   ]
  }
 ],
 "metadata": {
  "kernelspec": {
   "display_name": "Julia 1.8.0",
   "language": "julia",
   "name": "julia-1.8"
  },
  "language_info": {
   "file_extension": ".jl",
   "mimetype": "application/julia",
   "name": "julia",
   "version": "1.8.2"
  }
 },
 "nbformat": 4,
 "nbformat_minor": 5
}
