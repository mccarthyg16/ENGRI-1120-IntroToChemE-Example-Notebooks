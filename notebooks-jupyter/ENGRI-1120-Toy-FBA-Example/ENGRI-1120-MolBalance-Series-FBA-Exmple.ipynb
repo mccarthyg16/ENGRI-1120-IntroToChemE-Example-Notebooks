{
 "cells": [
  {
   "cell_type": "markdown",
   "id": "75f3a204-c02a-4f1a-b7fe-9811bb08100b",
   "metadata": {},
   "source": [
    "## ENGRI 1120 Mole Balance Flux Balance Analysis for Chips in Series"
   ]
  },
  {
   "cell_type": "markdown",
   "id": "155311ba-244e-4126-9b45-b795e0fbbe51",
   "metadata": {},
   "source": [
    "<center>\n",
    "    <img src=\"figs/Fig-Chips-in-Series.pdf\" style=\"align:right; width:70%\">\n",
    "</center>"
   ]
  },
  {
   "cell_type": "markdown",
   "id": "b5af4746-21a9-4e4d-9b8b-2987e9450135",
   "metadata": {},
   "source": [
    "### Introduction\n",
    "Suppose the liquid-phase enzyme-catalyzed production of product $P$ and bi-product $C$ is run on a well-mixed microfluidic chip with two input channels and a single output channel. The enzymes that carry out the chemistry are stable and tethered to the chip. \n",
    "\n",
    "Multiple chips are placed in series where the output stream of chip $j-1$ is fed into one of the input channels of chip $j$. \n",
    "\n",
    "Compute the optimal extents of reaction and the output channel composition using flux balance analysis for the chips in series configuration \n",
    "\n",
    "__Assumptions__:\n",
    "* The chip is well-mixed and operates at steady-state\n",
    "* The reaction volume of the chip is $V=100\\mu{L}$.\n",
    "* The chip is isothermal and isobaric and operates at the optimal temperature for the enzymes on the chip"
   ]
  },
  {
   "cell_type": "markdown",
   "id": "1551d24a-b440-4eb9-9e7e-71cc18fc15bf",
   "metadata": {},
   "source": [
    "### Example setup"
   ]
  },
  {
   "cell_type": "code",
   "execution_count": 1,
   "id": "94740580-b1c1-44d2-852c-3a41e304b219",
   "metadata": {},
   "outputs": [
    {
     "name": "stderr",
     "output_type": "stream",
     "text": [
      "\u001b[32m\u001b[1m  Activating\u001b[22m\u001b[39m project at `~/Desktop/julia_work/ENGRI-1120-IntroToChemE-Example-Notebooks/notebooks-jupyter/ENGRI-1120-Toy-FBA-Example`\n",
      "\u001b[32m\u001b[1m  No Changes\u001b[22m\u001b[39m to `~/Desktop/julia_work/ENGRI-1120-IntroToChemE-Example-Notebooks/notebooks-jupyter/ENGRI-1120-Toy-FBA-Example/Project.toml`\n",
      "\u001b[32m\u001b[1m  No Changes\u001b[22m\u001b[39m to `~/Desktop/julia_work/ENGRI-1120-IntroToChemE-Example-Notebooks/notebooks-jupyter/ENGRI-1120-Toy-FBA-Example/Manifest.toml`\n"
     ]
    }
   ],
   "source": [
    "import Pkg; Pkg.activate(\".\"); Pkg.resolve(); Pkg.instantiate();"
   ]
  },
  {
   "cell_type": "code",
   "execution_count": 2,
   "id": "79ce53e1-faca-4632-9b1f-807e05fac23d",
   "metadata": {},
   "outputs": [],
   "source": [
    "# load reqd packages and set paths -\n",
    "using PrettyTables\n",
    "using GLPK\n",
    "\n",
    "# setup paths -\n",
    "const _ROOT = pwd();"
   ]
  },
  {
   "cell_type": "markdown",
   "id": "f9745f36-9639-4735-b2d2-006782c0f9bd",
   "metadata": {},
   "source": [
    "#### Load the example code library\n",
    "The call to the `include` function loads the `ENGRI-1120-Example-CodeLib.jl` library into the notebook; the library contains functions that we can use during the example. In particular, it contains the function:\n",
    "\n",
    "* The `compute_optimal_extent(stoichiometric_matrix::Array{Float64,2}, default_bounds_array::Array{Float64,2},\n",
    "    species_bounds_array::Array{Float64,2}, objective_coefficient_array::Array{Float64,1}; min_flag::Bool = true, θ::Float64 = 0.1) -> Tuple` function calls the [GLPK](https://www.gnu.org/software/glpk/) linear program solver. The `results` tuple contains several things, but the important ones are `calculated_flux_array`, `objective_value`, and the status/exit flags `status_flag` and `exit_flag` (which let us know if the solver successfully found a solution."
   ]
  },
  {
   "cell_type": "code",
   "execution_count": 3,
   "id": "c1f24b70-1bc8-4ea4-867a-afec63e61e04",
   "metadata": {},
   "outputs": [],
   "source": [
    "include(\"ENGRI-1120-Example-CodeLib.jl\");"
   ]
  },
  {
   "cell_type": "markdown",
   "id": "5eb0948e-6250-47a8-b3c7-8018e620c8e2",
   "metadata": {},
   "source": [
    "### a) Build the stoichiometric matrix $S$"
   ]
  },
  {
   "cell_type": "code",
   "execution_count": 4,
   "id": "859b3cf6-0244-41e6-bced-3ce7e61b5861",
   "metadata": {},
   "outputs": [],
   "source": [
    "# Setup a collection of reaction strings -\n",
    "reaction_array = Array{String,1}()\n",
    "\n",
    "# encode the reactions -\n",
    "# internal reactions -\n",
    "push!(reaction_array,\"v₁,A₁+x,B+y,false\")\n",
    "push!(reaction_array,\"v₂,B,P,false\")\n",
    "push!(reaction_array,\"v₃,A₂+y,C+x,false\")\n",
    "\n",
    "# compute the stoichiometric matrix -\n",
    "# the optional expand arguement = should we split reversible reactions? (default: false)\n",
    "(S, species_name_array, reaction_name_array) = build_stoichiometric_matrix(reaction_array; \n",
    "    expand=false);"
   ]
  },
  {
   "cell_type": "code",
   "execution_count": 5,
   "id": "762155b3-689b-4c25-8cbe-32e31c0916c6",
   "metadata": {},
   "outputs": [],
   "source": [
    "(ℳ, ℛ) = size(S);"
   ]
  },
  {
   "cell_type": "markdown",
   "id": "3bc4afd2-6413-4ba7-83df-080959ba31fb",
   "metadata": {},
   "source": [
    "### b) Solve the FBA problem for the first chip"
   ]
  },
  {
   "cell_type": "code",
   "execution_count": 6,
   "id": "34d933bb-597f-47d8-852e-2bc17dcfb554",
   "metadata": {},
   "outputs": [
    {
     "name": "stdout",
     "output_type": "stream",
     "text": [
      "Exit flag: 0 and status flag: 5\n"
     ]
    }
   ],
   "source": [
    "# setup the bounds array -\n",
    "flux_bounds_array = zeros(ℛ,2);\n",
    "flux_bounds_array[:,2] .= 100.0; # set a default value for the *upper* bound on the flux\n",
    "\n",
    "# setup the species bounds array -\n",
    "# we know from out theory, that that the lower bound is -1*sum of the inputs \n",
    "ṅ₁ = zeros(ℳ);\n",
    "ṅ₂ = zeros(ℳ);\n",
    "\n",
    "# suppose we supply Ax in stream 1, and Bx in stream 2\n",
    "ṅ₁[1] = 50.0; # supply A₁ -\n",
    "ṅ₂[2] = 5.0;  # supply A₂ -\n",
    "\n",
    "# setup -\n",
    "species_bounds_array = [-1*(ṅ₁ .+ ṅ₂) 1000.0*ones(ℳ)];\n",
    "\n",
    "# setup the objective vector -\n",
    "c = zeros(ℛ);\n",
    "c[2] = -1.0; # why is the negative?\n",
    "\n",
    "# Call GLPK -\n",
    "results = compute_optimal_extent(S, flux_bounds_array, species_bounds_array, c);\n",
    "\n",
    "# check: exit_flag = 0 and status_flag = 5 indicate a succesful soln -\n",
    "println(\"Exit flag: $(results.exit_flag) and status flag: $(results.status_flag)\")\n",
    "\n",
    "# get the reaction extent vector -\n",
    "ϵ̇ = results.calculated_flux_array;\n",
    "\n",
    "# compute the output compostion for chip 1\n",
    "ṅ₃_chip_1 = ṅ₂ + ṅ₁ + S*ϵ̇;"
   ]
  },
  {
   "cell_type": "markdown",
   "id": "1d1e31ff-5736-49f5-82ab-f4a8af181b85",
   "metadata": {},
   "source": [
    "### c) Setup and solve the FBA problem for chips $i=2,3,\\dots,N$"
   ]
  },
  {
   "cell_type": "code",
   "execution_count": 7,
   "id": "28ae0fd5-f830-4e63-af14-c389b56817f1",
   "metadata": {},
   "outputs": [],
   "source": [
    "# setup calculation for chips i = 2,....,N\n",
    "N = 10 # number of chips\n",
    "\n",
    "# initialize some space to store the mol flow rates -\n",
    "series_mol_state_array = zeros(ℳ,N)\n",
    "exit_flag_array = Array{Int64,1}()\n",
    "status_flag_array = Array{Int64,1}()\n",
    "\n",
    "# the initial col of this array is the output of from chip 1\n",
    "for species_index = 1:ℳ\n",
    "    series_mol_state_array[species_index,1] = ṅ₃_chip_1[species_index]\n",
    "end\n",
    "\n",
    "# assumption: we *always* feed A₂ into port 2 - so we only need to update the input flow into port 1\n",
    "n_dot_input_stream_2 = ṅ₂;\n",
    "\n",
    "for chip_index = 2:N\n",
    "\n",
    "    # update the input into the chip -\n",
    "    n_dot_input_port_1 = series_mol_state_array[:, chip_index - 1] \t\t# the input to chip j comes from j - 1\n",
    "\n",
    "    # setup the species bounds array -\n",
    "    species_bounds_next_chip = [-1.0*(n_dot_input_port_1.+ n_dot_input_stream_2) 1000.0*ones(ℳ,1)]\n",
    "\n",
    "    # run the optimal calculation -\n",
    "    result_next_chip = compute_optimal_extent(S, flux_bounds_array, species_bounds_next_chip, c);\n",
    "\n",
    "    # grab the status and exit flags ... so we can check all is right with the world ...\n",
    "    push!(exit_flag_array, result_next_chip.exit_flag)\n",
    "    push!(status_flag_array, result_next_chip.status_flag)\n",
    "\n",
    "    # Get the flux from the result object -\n",
    "    ϵ_dot_next_chip = result_next_chip.calculated_flux_array\n",
    "\n",
    "    # compute the output from chip j = chip_index \n",
    "    n_dot_out_next_chip = (n_dot_input_port_1 + n_dot_input_stream_2 + S*ϵ_dot_next_chip);\n",
    "\n",
    "    # copy this state vector into the state array \n",
    "    for species_index = 1:ℳ\n",
    "        series_mol_state_array[species_index, chip_index] = n_dot_out_next_chip[species_index]\n",
    "    end\n",
    "\n",
    "    # go around again ...\n",
    "end"
   ]
  },
  {
   "cell_type": "code",
   "execution_count": 8,
   "id": "30639b59-8d84-48e7-b056-38ddcfde2962",
   "metadata": {
    "jupyter": {
     "source_hidden": true
    },
    "tags": []
   },
   "outputs": [
    {
     "name": "stdout",
     "output_type": "stream",
     "text": [
      "┌─────────┬──────────┬──────────┬──────────┬──────────┬──────────┬──────────┬──────────┬──────────┬──────────┬──────────┬──────────┐\n",
      "│\u001b[1m Species \u001b[0m│\u001b[1m    input \u001b[0m│\u001b[1m   chip-1 \u001b[0m│\u001b[1m   chip-2 \u001b[0m│\u001b[1m   chip-3 \u001b[0m│\u001b[1m   chip-4 \u001b[0m│\u001b[1m   chip-5 \u001b[0m│\u001b[1m   chip-6 \u001b[0m│\u001b[1m   chip-7 \u001b[0m│\u001b[1m   chip-8 \u001b[0m│\u001b[1m   chip-9 \u001b[0m│\u001b[1m  chip-10 \u001b[0m│\n",
      "│\u001b[90m         \u001b[0m│\u001b[90m mol/time \u001b[0m│\u001b[90m mol/time \u001b[0m│\u001b[90m mol/time \u001b[0m│\u001b[90m mol/time \u001b[0m│\u001b[90m mol/time \u001b[0m│\u001b[90m mol/time \u001b[0m│\u001b[90m mol/time \u001b[0m│\u001b[90m mol/time \u001b[0m│\u001b[90m mol/time \u001b[0m│\u001b[90m mol/time \u001b[0m│\u001b[90m mol/time \u001b[0m│\n",
      "├─────────┼──────────┼──────────┼──────────┼──────────┼──────────┼──────────┼──────────┼──────────┼──────────┼──────────┼──────────┤\n",
      "│      A₁ │     50.0 │     45.0 │     40.0 │     35.0 │     30.0 │     25.0 │     20.0 │     15.0 │     10.0 │      5.0 │      0.0 │\n",
      "│      A₂ │      5.0 │      0.0 │      0.0 │      0.0 │      0.0 │      0.0 │      0.0 │      0.0 │      0.0 │      0.0 │      0.0 │\n",
      "│       B │      0.0 │      0.0 │      0.0 │      0.0 │      0.0 │      0.0 │      0.0 │      0.0 │      0.0 │      0.0 │      0.0 │\n",
      "│       C │      0.0 │      5.0 │     10.0 │     15.0 │     20.0 │     25.0 │     30.0 │     35.0 │     40.0 │     45.0 │     50.0 │\n",
      "│       P │      0.0 │      5.0 │     10.0 │     15.0 │     20.0 │     25.0 │     30.0 │     35.0 │     40.0 │     45.0 │     50.0 │\n",
      "│       x │      0.0 │      0.0 │      0.0 │      0.0 │      0.0 │      0.0 │      0.0 │      0.0 │      0.0 │      0.0 │      0.0 │\n",
      "│       y │      0.0 │      0.0 │      0.0 │      0.0 │      0.0 │      0.0 │      0.0 │      0.0 │      0.0 │      0.0 │      0.0 │\n",
      "└─────────┴──────────┴──────────┴──────────┴──────────┴──────────┴──────────┴──────────┴──────────┴──────────┴──────────┴──────────┘\n"
     ]
    }
   ],
   "source": [
    "# build chip table -\n",
    "chip_table_data = Array{Any,2}(undef, ℳ, N+2);\n",
    "\n",
    "# in the first col, put the species labels -\n",
    "for species_index ∈ 1:ℳ\n",
    "    chip_table_data[species_index, 1] = species_name_array[species_index];\n",
    "end\n",
    "\n",
    "# input to chip 1 -\n",
    "for species_index ∈ 1:ℳ\n",
    "    chip_table_data[species_index, 2] = ṅ₁[species_index]+ṅ₂[species_index];\n",
    "end\n",
    "\n",
    "for chip_index ∈ 1:N\n",
    "    for species_index ∈ 1:ℳ\n",
    "        chip_table_data[species_index, chip_index+2] = series_mol_state_array[species_index, chip_index];\n",
    "    end\n",
    "end\n",
    "\n",
    "# build header data -\n",
    "chip_table_header = Array{String,1}();\n",
    "push!(chip_table_header,\"Species\");\n",
    "push!(chip_table_header,\"input\");\n",
    "for chip_index ∈ 1:N\n",
    "    push!(chip_table_header,\"chip-$(chip_index)\");\n",
    "end\n",
    "\n",
    "chip_table_header_units = Array{String,1}();\n",
    "push!(chip_table_header_units,\"\");\n",
    "push!(chip_table_header_units,\"mol/time\");\n",
    "for chip_index ∈ 1:N\n",
    "    push!(chip_table_header_units,\"mol/time\");\n",
    "end\n",
    "\n",
    "# show table -\n",
    "pretty_table(chip_table_data; header = (chip_table_header, chip_table_header_units))"
   ]
  },
  {
   "cell_type": "code",
   "execution_count": null,
   "id": "ba8d43f5-9676-4243-80c8-138ddb81ac6b",
   "metadata": {},
   "outputs": [],
   "source": []
  }
 ],
 "metadata": {
  "kernelspec": {
   "display_name": "Julia 1.8.0",
   "language": "julia",
   "name": "julia-1.8"
  },
  "language_info": {
   "file_extension": ".jl",
   "mimetype": "application/julia",
   "name": "julia",
   "version": "1.8.2"
  }
 },
 "nbformat": 4,
 "nbformat_minor": 5
}
