{
 "cells": [
  {
   "cell_type": "markdown",
   "id": "b7e00ba2-7e37-41bd-8386-20bb82a05fbe",
   "metadata": {},
   "source": [
    "## ENGRI 1120: High-Fructose Corn Syrup (HFCS) Process Simulation"
   ]
  },
  {
   "cell_type": "markdown",
   "id": "17e79243-1794-4c58-b2dd-54c20310dd55",
   "metadata": {},
   "source": [
    "### Introduction\n",
    "\n",
    "[High Fructose Corn Syrup (HFCS)](https://en.wikipedia.org/wiki/High-fructose_corn_syrup) is a common sweetener in many food products. As a sweetener, HFCS is often compared to granulated table sugar (sucrose is made up of one molecule of glucose and one molecule of fructose); HFCS is easier to handle and cheaper than granulated table sugar. HFCS comes in two varieties, HFCS-42 and HFCS-55. HFCS-42 and HFCS-55 refer to dry-weight fructose compositions of 42% and 55%, respectively, the rest being glucose. HFCS-42 is mainly used for processed foods and breakfast cereals, whereas HFCS-55 is used chiefly for producing soft drinks.\n",
    "\n",
    "### Manufacturing Process\n",
    "Corn is milled to extract corn starch, and an \"acid-enzyme\" process is used, in which the corn-starch solution is acidified to break up the existing carbohydrates. High-temperature enzymes are added to metabolize the starch further and convert the resulting sugars to fructose.\n",
    "The first enzyme, alpha-amylase, breaks the long starch chains down into shorter sugar chains (oligosaccharides). \n",
    "Glucoamylase, a second enzyme, converts the oligosaccharides to glucose (a common six-carbon sugar for biotechnology applications). The resulting solution is filtered to remove protein, then using activated carbon, and then demineralized using ion-exchange resins. \n",
    "\n",
    "The purified solution is then run over immobilized xylose isomerase, which converts the sugars to ~50–52% glucose with some unconverted oligosaccharides and 42% fructose (HFCS-42), and again demineralized and again purified using activated carbon. Some is processed into HFCS-90 by liquid chromatography and then mixed with HFCS-42 to form HFCS-55. The enzymes used in the process are made by microbial fermentation. "
   ]
  },
  {
   "cell_type": "markdown",
   "id": "790b2b25-2ef6-4f2b-b39f-258307290a39",
   "metadata": {},
   "source": [
    "<img src=\"figs/Fig-HCFS-Reactor.png\" style=\"width:50%\">"
   ]
  },
  {
   "cell_type": "markdown",
   "id": "2851b4ef-c509-469b-a633-9f46a2823a57",
   "metadata": {},
   "source": [
    "### Model and Assumptions\n",
    "Let's model the immobilized xylose isomerase step of the HCFS-42 process. Consider a reactor in which enzyme $E$ catalyzes the conversion of some substrate $S$ (starting material) to a product $P$ at a rate $\\hat{r}_{1}$ (units: mmol/L-time). Enzyme $E$, which is not stable, degrades in the reactor at rate $r_{2}$ (units: mmol/L-time). Susbtrate $S$ is introduced into the reactor in stream 1, while enzyme $E$ is introduced in stream 2. Lastly, unreacted subrate $S$, enzyme $E$ and product $P$ leave the reactor in stream 3.\n",
    "\n",
    "Let the concentrations of $S$ be given by $C_{1}$ (units: mmol/L), the enzyme $E$ by $C_{2}$ (units: mmol/L) and the product $P$ by $C_{3}$ (units: mmol/L). Then, the kinetic expression for reaction $\\hat{r}_{1}$ is given by:\n",
    "\n",
    "$$\\hat{r}_{1} = k_{cat}E\\left(\\frac{C_{1}}{K+C_{1}}\\right)$$\n",
    "\n",
    "where $k_{cat}$ denotes the turnover number (catalytic rate constant with units 1/time) for the enzyme $E$ and substate $S$, and $K$ denotes the saturation constant for enzyme $E$ and substrate $S$ (units: concentration). The rate of degradation of enzyme $E$ is assumed to be first-order with rate:\n",
    "\n",
    "$$\\hat{r}_{2} = k_{d}E$$\n",
    "\n",
    "where $k_{d}$ denotes the degradation constant for enzyme $E$ (units: 1/time). \n",
    "\n",
    "#### Assumptions\n",
    "\n",
    "* Reactor is at steady-state and well-mixed\n",
    "* Reactor is at a constant T, P and V\n",
    "* Density of stream 1, 2 and 3 is constant and equal to water at T and P. \n",
    "\n",
    "#### Problem setup\n",
    "The volume of the reactor $V$ = 30$\\mu$L. Stream 1 has a volumetric flow rate $F_{1}$ = 10$\\mu$L/h and Stream 2 has a volumetric flow rate $F_{2}$ = 5$\\mu$L/h. The concentration(s) of susbstrate in the stream 1 is $C_{1,1}$ = 10 mmol/L, enzyme $E$ in stream 2 is $C_{2,2}$ = 2.0 mmol/L. The turnover number of enzyme $E$ is give by $k_{cat}$ = 1600.2 h$^{-1}$, the saturation coefficient $K$ = 5 mmol/L and degradation constant $k_{d}$ = 0.1 h$^{-1}$. "
   ]
  },
  {
   "cell_type": "markdown",
   "id": "3b413606-fa88-4715-abff-602a215fc9ff",
   "metadata": {},
   "source": [
    "### Example setup"
   ]
  },
  {
   "cell_type": "code",
   "execution_count": 1,
   "id": "cbec972e-6d10-41ea-96e5-7439d1188b13",
   "metadata": {},
   "outputs": [
    {
     "name": "stderr",
     "output_type": "stream",
     "text": [
      "\u001b[32m\u001b[1m  Activating\u001b[22m\u001b[39m project at `~/Desktop/julia_work/ENGRI-1120-IntroToChemE-Example-Notebooks/notebooks-jupyter/ENGRI-1120-HFCS-Example`\n",
      "\u001b[32m\u001b[1m  No Changes\u001b[22m\u001b[39m to `~/Desktop/julia_work/ENGRI-1120-IntroToChemE-Example-Notebooks/notebooks-jupyter/ENGRI-1120-HFCS-Example/Project.toml`\n",
      "\u001b[32m\u001b[1m  No Changes\u001b[22m\u001b[39m to `~/Desktop/julia_work/ENGRI-1120-IntroToChemE-Example-Notebooks/notebooks-jupyter/ENGRI-1120-HFCS-Example/Manifest.toml`\n"
     ]
    }
   ],
   "source": [
    "import Pkg; Pkg.activate(\".\"); Pkg.resolve(); Pkg.instantiate();"
   ]
  },
  {
   "cell_type": "code",
   "execution_count": 2,
   "id": "e1ff37e9-959b-4b37-8e48-0932f7391953",
   "metadata": {},
   "outputs": [
    {
     "data": {
      "text/plain": [
       "testfunc (generic function with 1 method)"
      ]
     },
     "execution_count": 2,
     "metadata": {},
     "output_type": "execute_result"
    }
   ],
   "source": [
    "include(\"ENGRI-1120-HFCS-CodeLib.jl\")"
   ]
  },
  {
   "cell_type": "code",
   "execution_count": 3,
   "id": "7ed40483-65b5-454d-98fe-2c28f18cdf7e",
   "metadata": {},
   "outputs": [],
   "source": [
    "# load req packages -\n",
    "using PrettyTables\n",
    "using LinearAlgebra\n",
    "using Optim\n",
    "\n",
    "# setup paths -\n",
    "const _ROOT = pwd();\n",
    "const _PATH_TO_DATA = joinpath(_ROOT, \"data\");"
   ]
  },
  {
   "cell_type": "markdown",
   "id": "c34e581b-22fa-40fc-b24a-110ee814ec43",
   "metadata": {},
   "source": [
    "### Set some constants"
   ]
  },
  {
   "cell_type": "code",
   "execution_count": 4,
   "id": "4b2468b0-1be2-423c-b1cc-1659469a615f",
   "metadata": {},
   "outputs": [],
   "source": [
    "# setup model parameters -\n",
    "model = HFCSParameterModel();\n",
    "model.k₁ = 1600.2; # units: 1/h\n",
    "model.k₂ = 0.1; # units: 1/h\n",
    "model.Kₘ = 5.0; # units: mmol/L\n",
    "\n",
    "# Compute the dilution rates \n",
    "# We have three dilution rates Dₛ s = 1,2,3\n",
    "V = 30.0*(1e-6);  # units: L\n",
    "V̇₁ = 10.0*(1e-6); # units: L/h\n",
    "V̇₂ = 5.0*(1e-6); # units: L/h\n",
    "V̇₃ = (V̇₁+ V̇₂);   # units: L/h\n",
    "model.D₁ = (1/V)*V̇₁;   # units: 1/h\n",
    "model.D₂ = (1/V)*V̇₂;   # units: 1/h\n",
    "model.D₃ = (1/V)*V̇₃;   # units: 1/h\n",
    "\n",
    "# Setup the stoichiometric matrix for this system\n",
    "# SM is a 3 x 2 matrix (species = 3, reactions = 2)\n",
    "SM = zeros(3,2);\n",
    "SM[1,1] = -1.0;\n",
    "SM[2,2] = -1.0;\n",
    "SM[3,1] = 1.0;\n",
    "model.SM = SM;\n",
    "\n",
    "# Setup the concentration matrix\n",
    "# CM is a 3 x 3 matrix (species x streams)\n",
    "CM = zeros(3,3);\n",
    "CM[1,1] = 100.0; \n",
    "CM[2,2] = 1.0;\n",
    "model.CM = CM;"
   ]
  },
  {
   "cell_type": "markdown",
   "id": "ac43bcc0-9b0d-4c70-8ccd-0809606e4b77",
   "metadata": {},
   "source": [
    "### Solve steady-state concetration balances for exit composition\n",
    "To estimate the steady-state concentration, we need to solve an `optimization` problem, i.e., we need to `search` for exit concentrations that make our concentration balances zero. We do this via the [Optim.jl](https://julianlsolvers.github.io/Optim.jl/stable/) package. The problem we are solving is to find a concentration vector $x$ that makes the residual $\\epsilon$ small:\n",
    "\n",
    "$$\\min_{x}\\epsilon^{T}\\epsilon$$\n",
    "\n",
    "subject to the constraints on the concentration $0\\leq{x}\\leq\\infty$. We'll use a derivative-free search method called [Nelder-Mead](https://en.wikipedia.org/wiki/Nelder–Mead_method) to generate candidate values for the concentration vector $x$; we'll keep generating guesses and checking their residual values until we find a candidate solution that meets some smallness criteria."
   ]
  },
  {
   "cell_type": "code",
   "execution_count": 5,
   "id": "14fad392-11a9-45c5-a7a8-97237de243cc",
   "metadata": {},
   "outputs": [
    {
     "data": {
      "text/plain": [
       " * Status: success\n",
       "\n",
       " * Candidate solution\n",
       "    Final objective value:     3.796749e-10\n",
       "\n",
       " * Found with\n",
       "    Algorithm:     Fminbox with Nelder-Mead\n",
       "\n",
       " * Convergence measures\n",
       "    |x - x'|               = 0.00e+00 ≤ 0.0e+00\n",
       "    |x - x'|/|x'|          = 0.00e+00 ≤ 0.0e+00\n",
       "    |f(x) - f(x')|         = 0.00e+00 ≤ 0.0e+00\n",
       "    |f(x) - f(x')|/|f(x')| = 0.00e+00 ≤ 0.0e+00\n",
       "    |g(x)|                 = 2.32e+02 ≰ 1.0e-08\n",
       "\n",
       " * Work counters\n",
       "    Seconds run:   0  (vs limit Inf)\n",
       "    Iterations:    6\n",
       "    f(x) calls:    5614\n",
       "    ∇f(x) calls:   1\n"
      ]
     },
     "execution_count": 5,
     "metadata": {},
     "output_type": "execute_result"
    }
   ],
   "source": [
    "# setup calculation -\n",
    "\n",
    "# Use the feed input as a starting point guess for the search \n",
    "xinitial = [CM[1,1]*model.D₁, CM[2,2]*model.D₂, 1e-8]\n",
    "\n",
    "# Setup the objective function (this is the function that we will minimize)\n",
    "OF(x) = objfunc(x, model)\n",
    "\n",
    "# setup bounds -\n",
    "L = [0.0, 0.0, 0.0];  # lower bound is zero (concentration ≥ 0)\n",
    "U = [Inf, Inf, Inf];  # upper bound is Inf (concentration ≤ ∞)\n",
    "    \n",
    "# call the optimizer -\n",
    "opt_result = optimize(OF, L, U, xinitial, Fminbox(NelderMead()))"
   ]
  },
  {
   "cell_type": "code",
   "execution_count": 6,
   "id": "ad0f695c-ff8a-4582-8b7d-3f04c4b345d3",
   "metadata": {},
   "outputs": [
    {
     "data": {
      "text/plain": [
       "3-element Vector{Float64}:\n",
       "  0.40266873284553184\n",
       "  0.27780108252715746\n",
       " 66.264036300956"
      ]
     },
     "execution_count": 6,
     "metadata": {},
     "output_type": "execute_result"
    }
   ],
   "source": [
    "nm_soln = Optim.minimizer(opt_result)"
   ]
  },
  {
   "cell_type": "code",
   "execution_count": 7,
   "id": "f27413f8-7cca-4190-88d3-7a16ebfa8c13",
   "metadata": {},
   "outputs": [
    {
     "data": {
      "text/plain": [
       "3.7967489417089943e-10"
      ]
     },
     "execution_count": 7,
     "metadata": {},
     "output_type": "execute_result"
    }
   ],
   "source": [
    "error_result = objfunc(nm_soln, model)"
   ]
  },
  {
   "cell_type": "code",
   "execution_count": 8,
   "id": "b92f26c3-37ad-485d-86eb-d25d38930c29",
   "metadata": {},
   "outputs": [],
   "source": [
    "# put the answer in the CM -\n",
    "CM[1,3] = nm_soln[1];\n",
    "CM[2,3] = nm_soln[2];\n",
    "CM[3,3] = nm_soln[3];"
   ]
  },
  {
   "cell_type": "code",
   "execution_count": 9,
   "id": "92a2d43c-72ae-4484-b183-691faa8aaf9e",
   "metadata": {},
   "outputs": [],
   "source": [
    "# put the D's in a vector -\n",
    "D_vector = [\n",
    "    model.D₁ ;\n",
    "    model.D₂ ; \n",
    "    model.D₃ ;\n",
    "];"
   ]
  },
  {
   "cell_type": "markdown",
   "id": "8e797fb2-c7d8-4a60-af9b-541d40acc35b",
   "metadata": {},
   "source": [
    "### Stream composition table"
   ]
  },
  {
   "cell_type": "code",
   "execution_count": 10,
   "id": "c22d787f-629d-4511-924c-0360a3df3ad3",
   "metadata": {},
   "outputs": [
    {
     "name": "stdout",
     "output_type": "stream",
     "text": [
      "┌──────────┬─────────────────┬─────────────────┬─────────────────┐\n",
      "│\u001b[1m Stream s \u001b[0m│\u001b[1m ṅₛ,1 (mol/time) \u001b[0m│\u001b[1m ṅₛ,2 (mol/time) \u001b[0m│\u001b[1m ṅₛ,3 (mol/time) \u001b[0m│\n",
      "├──────────┼─────────────────┼─────────────────┼─────────────────┤\n",
      "│        1 │         33.3333 │             0.0 │             0.0 │\n",
      "│        2 │             0.0 │        0.166667 │             0.0 │\n",
      "│        3 │        0.201334 │        0.138901 │          33.132 │\n",
      "│   Change │         -33.132 │      -0.0277661 │          33.132 │\n",
      "└──────────┴─────────────────┴─────────────────┴─────────────────┘\n"
     ]
    }
   ],
   "source": [
    "# setup table -\n",
    "number_of_streams = 3;\n",
    "state_table_data_array = Array{Any,2}(undef, (number_of_streams+1), 4);\n",
    "\n",
    "# populate the table -\n",
    "for s ∈ 1:number_of_streams\n",
    "    \n",
    "    # stream\n",
    "    state_table_data_array[s,1] = s;\n",
    "    state_table_data_array[s,2] = CM[1,s]*D_vector[s];\n",
    "    state_table_data_array[s,3] = CM[2,s]*D_vector[s];\n",
    "    state_table_data_array[s,4] = CM[3,s]*D_vector[s];\n",
    "end\n",
    "\n",
    "# total -\n",
    "state_table_data_array[4,1] = \"Change\"\n",
    "state_table_data_array[4,2] = -1*(CM[1,1]*D_vector[1] - CM[1,3]*D_vector[3])\n",
    "state_table_data_array[4,3] = -1*(CM[2,2]*D_vector[2] - CM[2,3]*D_vector[3])\n",
    "state_table_data_array[4,4] = CM[3,3]*D_vector[3]\n",
    "\n",
    "\n",
    "\n",
    "# setup a header -\n",
    "header_data = ([\"Stream s\", \"ṅₛ,1 (mol/time)\", \"ṅₛ,2 (mol/time)\", \"ṅₛ,3 (mol/time)\"])\n",
    "\n",
    "# draw a table -\n",
    "pretty_table(state_table_data_array; header=header_data)"
   ]
  },
  {
   "cell_type": "code",
   "execution_count": null,
   "id": "cd687463-5b94-4b71-89c3-9202d763c731",
   "metadata": {},
   "outputs": [],
   "source": []
  }
 ],
 "metadata": {
  "kernelspec": {
   "display_name": "Julia 1.8.0",
   "language": "julia",
   "name": "julia-1.8"
  },
  "language_info": {
   "file_extension": ".jl",
   "mimetype": "application/julia",
   "name": "julia",
   "version": "1.8.2"
  }
 },
 "nbformat": 4,
 "nbformat_minor": 5
}
