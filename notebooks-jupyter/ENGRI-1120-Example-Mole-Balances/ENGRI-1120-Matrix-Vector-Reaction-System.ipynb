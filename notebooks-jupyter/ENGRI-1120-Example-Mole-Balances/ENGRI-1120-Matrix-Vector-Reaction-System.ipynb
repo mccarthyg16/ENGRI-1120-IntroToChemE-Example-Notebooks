{
 "cells": [
  {
   "cell_type": "markdown",
   "id": "e90bafd1-2c39-4727-9851-29bac5ab12bd",
   "metadata": {},
   "source": [
    "## Using Flux Balance Analysis to Compute the Open Extent of Reaction and Fractional Conversion"
   ]
  },
  {
   "cell_type": "markdown",
   "id": "09a866bd-c635-4783-adc9-2ce72bf53502",
   "metadata": {},
   "source": [
    "<figure>\n",
    "<img src=\"figs/Fig-FBA-ToyNetwork.pdf\" style=\"width:40%\">\n",
    "</figure>"
   ]
  },
  {
   "cell_type": "markdown",
   "id": "be33fff2-9214-4ee9-80af-3d1c99280ca1",
   "metadata": {},
   "source": [
    "__Fig 1__. The starting compound $A_{1}$ is converted to the desired product $P$ through an intermediate $B$. The conversion of $A_{1}$ to $B$ requires the cofactor $x$. The cofactor $x$ can be recycled by converting $A_{2}$ to the by-product $C$."
   ]
  },
  {
   "cell_type": "markdown",
   "id": "7edc906a-4c53-45ac-aa40-35181e1f1f6a",
   "metadata": {},
   "source": [
    "### Introduction\n",
    "\n",
    "Suppose we want to produce the desired product product _P_ by converting feedstock A₁ using a cell-free biochemical process operating in a well-mixed continuous microfluidic chip with a two input channles and a single output channel, and a liquid reaction volume of V = 100 μL. The reaction network is shown in Fig 1. \n",
    "\n",
    "All the reactions are enzyme-catalyzed and irreversible, where the enzymes are tethered to the chip. The enzymes are present at $E_{\\star}$ = 100.0 $\\mu$mol/L. The $k_{cat}$ values for the enzymes 1, 2 and 3 are 85.7 $\\text{min}^{-1}$, 38.1 $\\text{min}^{-1}$ and 13.7 $\\text{min}^{-1}$, respectively. Stream 1 and 2 are powered by syringe pumps with a maximum volumetric flow rate of volumetric flow rate $F_{\\star}$ = 10$\\mu$L/h. Stream 1 comes from an infinite reservoir containing $A_{1}$ at 1 mmol/L. Likewise, Stream 2 comes from an infinite reservoir containing $A_{2}$ at 0.1 mmol/L.\n",
    "\n",
    "__Assumptions__\n",
    "* Microfluidic chip is well-mixed and operates at steady-state\n",
    "* Constant T, P on the chip and the liquid phase is ideal\n",
    "\n",
    "__Compute__\n",
    "* Compute the optimal open extent of reaction $\\dot{\\epsilon}_{i}$, where that maximizes _P_\n",
    "* Compute the state table for the mol flow rates into and from the chip\n",
    "* Compute the fractional conversion of the feedstock A₁"
   ]
  },
  {
   "cell_type": "code",
   "execution_count": 13,
   "id": "e49926ba-7d46-4e4d-92cb-1c12919dd93d",
   "metadata": {},
   "outputs": [
    {
     "name": "stderr",
     "output_type": "stream",
     "text": [
      "\u001b[32m\u001b[1m  Activating\u001b[22m\u001b[39m project at `~/Desktop/julia_work/ENGRI-1120-IntroToChemE-Example-Notebooks/notebooks-jupyter/ENGRI-1120-Example-Matrix-Vector-System`\n",
      "\u001b[32m\u001b[1m  No Changes\u001b[22m\u001b[39m to `~/Desktop/julia_work/ENGRI-1120-IntroToChemE-Example-Notebooks/notebooks-jupyter/ENGRI-1120-Example-Matrix-Vector-System/Project.toml`\n",
      "\u001b[32m\u001b[1m  No Changes\u001b[22m\u001b[39m to `~/Desktop/julia_work/ENGRI-1120-IntroToChemE-Example-Notebooks/notebooks-jupyter/ENGRI-1120-Example-Matrix-Vector-System/Manifest.toml`\n"
     ]
    }
   ],
   "source": [
    "import Pkg; Pkg.activate(\".\"); Pkg.resolve(); Pkg.instantiate();"
   ]
  },
  {
   "cell_type": "code",
   "execution_count": 15,
   "id": "38a1862d-b59f-4d17-82c4-0f9047677217",
   "metadata": {},
   "outputs": [
    {
     "name": "stderr",
     "output_type": "stream",
     "text": [
      "┌ Info: Precompiling GLPK [60bf3e95-4087-53dc-ae20-288a0d20c6a6]\n",
      "└ @ Base loading.jl:1662\n"
     ]
    }
   ],
   "source": [
    "using PrettyTables\n",
    "using GLPK"
   ]
  },
  {
   "cell_type": "markdown",
   "id": "a117d263-eced-46f9-9e55-e8220377a22b",
   "metadata": {},
   "source": [
    "### Before we do anything: Establish a Consistent Unit System\n",
    "We have different units, let's pick a system and convert the required values to that system. Let's use minutes for time, $\\mu$mol for quantity and L for volume."
   ]
  },
  {
   "cell_type": "code",
   "execution_count": 18,
   "id": "0e8aa513-7ed9-4ef2-a3f2-10ffd730e489",
   "metadata": {},
   "outputs": [],
   "source": [
    "# convert some units -\n",
    "V = 100.0*(1e-6);            # system volume in L\n",
    "F_max = 10.0*(1/60)*(1/1e6); # maximum pump rate in L/min\n",
    "A_1_in = 1.0*(1e6/1e3);      # concentration of A₁ in input tank (μmol/L)\n",
    "A_2_in = 0.1*(1e6/1e3);      # concentration of A₂ in input tank (μmol/L)"
   ]
  },
  {
   "cell_type": "markdown",
   "id": "45391047-c539-443f-9085-5866e03a2fc0",
   "metadata": {},
   "source": [
    "### Compute the optimal open extent of reaction $\\dot{\\epsilon}_{i}$"
   ]
  },
  {
   "cell_type": "markdown",
   "id": "27c9d9a8-f700-4fb5-90f3-a6cc6f6db76c",
   "metadata": {},
   "source": [
    "#### Formulate Species and Reaction Sets\n",
    "Let the species set $\\mathcal{M}=\\left\\{A_{1}, A_{2}, x, y, B, C, P\\right\\}$ and the reaction set $\\mathcal{R}=\\left\\{r_{1}, r_{2}, r_{3}\\right\\}$."
   ]
  },
  {
   "cell_type": "code",
   "execution_count": 22,
   "id": "5c824bb7-b7e1-4f90-b60f-22a96da17891",
   "metadata": {},
   "outputs": [],
   "source": [
    "# Fill me in ... setup the system dimensions\n",
    "M = 7; # number of species M = dim(ℳ)\n",
    "R = 3; # number of reactions R = dim(ℛ)"
   ]
  },
  {
   "cell_type": "markdown",
   "id": "e7ac7d19-9318-4e70-b5c3-7ee1536c2867",
   "metadata": {},
   "source": [
    "#### Formulate the Stoichiometric Matrix"
   ]
  },
  {
   "cell_type": "code",
   "execution_count": 3,
   "id": "80c8bf8c-dc86-4088-b0ee-066ba8a76bed",
   "metadata": {},
   "outputs": [],
   "source": [
    "# Fill me in."
   ]
  },
  {
   "cell_type": "markdown",
   "id": "609894b6-9039-495d-8b12-396baa6afa84",
   "metadata": {},
   "source": [
    "#### Formulate the Reaction Constraints\n",
    "The open extent of reaction $\\dot{\\epsilon}_{i}$ can be written as:\n",
    "\n",
    "$$\\dot{\\epsilon}_{i}=r_{i}V$$\n",
    "\n",
    "where $r_{i}$ is a [kinetic rate law](https://en.wikipedia.org/wiki/Rate_equation) for reaction $i$ and $V$ denotes the reaction volume. The rate law of an enzyme-catalyzed reaction (approximately) follows the [Michaelis-Menton]( https://en.wikipedia.org/wiki/Michaelis–Menten_kinetics) expression:\n",
    "\n",
    "$$v = k_{cat}E\\left(\\frac{S}{K_{m}+S}\\right)$$\n",
    "\n",
    "where $v$ denotes the reaction velocity (or rate, units: mole/L-time), $S$ denotes the substrate of the reaction (units: mole/L), $K_{m}$ denotes the saturation constant (units: mole/L), $k_{cat}$ denotes the catalytic constant (units: 1/time) and $E$ denotes the enzyme concentration (units: mole/L). \n",
    "\n",
    "However, the kinetics of our problem are more advanced, as we have reactions with multiple substrates. Thus, we don't really know the rate, so we can get a nice expression of the open extent. Hmmmm."
   ]
  },
  {
   "cell_type": "code",
   "execution_count": null,
   "id": "8fe405e4-e02f-4e60-91bc-50df4e2aed3d",
   "metadata": {},
   "outputs": [],
   "source": []
  }
 ],
 "metadata": {
  "kernelspec": {
   "display_name": "Julia 1.8.0",
   "language": "julia",
   "name": "julia-1.8"
  },
  "language_info": {
   "file_extension": ".jl",
   "mimetype": "application/julia",
   "name": "julia",
   "version": "1.8.0"
  }
 },
 "nbformat": 4,
 "nbformat_minor": 5
}
