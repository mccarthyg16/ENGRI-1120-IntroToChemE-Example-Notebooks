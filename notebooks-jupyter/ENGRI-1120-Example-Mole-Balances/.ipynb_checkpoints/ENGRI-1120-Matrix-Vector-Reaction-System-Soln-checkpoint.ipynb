{
 "cells": [
  {
   "cell_type": "markdown",
   "id": "e90bafd1-2c39-4727-9851-29bac5ab12bd",
   "metadata": {},
   "source": [
    "## Using Flux Balance Analysis to Compute the Open Extent of Reaction and Fractional Conversion"
   ]
  },
  {
   "cell_type": "markdown",
   "id": "09a866bd-c635-4783-adc9-2ce72bf53502",
   "metadata": {},
   "source": [
    "<figure>\n",
    "<img src=\"figs/Fig-FBA-ToyNetwork.pdf\" style=\"width:40%\">\n",
    "</figure>"
   ]
  },
  {
   "cell_type": "markdown",
   "id": "be33fff2-9214-4ee9-80af-3d1c99280ca1",
   "metadata": {},
   "source": [
    "__Fig 1__. The starting compound $A_{1}$ is converted to the desired product $P$ through an intermediate $B$. The conversion of $A_{1}$ to $B$ requires the cofactor $x$. The cofactor $x$ can be recycled by converting $A_{2}$ to the by-product $C$."
   ]
  },
  {
   "cell_type": "markdown",
   "id": "7edc906a-4c53-45ac-aa40-35181e1f1f6a",
   "metadata": {},
   "source": [
    "### Introduction\n",
    "\n",
    "Suppose we want to produce the desired product _P_ by converting feedstock A₁ using a cell-free biochemical process operating in a well-mixed continuous microfluidic chip with two input channels and a single output channel, and a liquid reaction volume of V = 100 μL. The reaction network is shown in Fig 1. \n",
    "\n",
    "All the reactions are enzyme-catalyzed and irreversible, where the enzymes are tethered to the chip. The enzymes are present at $E_{\\star}$ = 100.0 $\\mu$mol/L. The $k_{cat}$ values for the enzymes 1, 2 and 3 are 85.7 $\\text{min}^{-1}$, 38.1 $\\text{min}^{-1}$ and 13.7 $\\text{min}^{-1}$, respectively. Syringe pumps power stream 1 and 2 with a maximum volumetric flow rate of $F_{\\star}$ = 10 mL/h. Stream 1 comes from an infinite reservoir containing $A_{1}$ at 1 mmol/L. Likewise, Stream 2 comes from an infinite reservoir containing $A_{2}$ at 0.1 mmol/L.\n",
    "\n",
    "__Assumptions__\n",
    "* Microfluidic chip is well-mixed and operates at steady-state\n",
    "* Constant T, P on the chip and the liquid phase is ideal\n",
    "\n",
    "__Compute__\n",
    "* Compute the optimal open extent of reaction $\\dot{\\epsilon}_{i}$, where that maximizes _P_\n",
    "* Compute the state table for the mol flow rates into and from the chip\n",
    "* Compute the fractional conversion of the feedstock A₁"
   ]
  },
  {
   "cell_type": "code",
   "execution_count": 1,
   "id": "e49926ba-7d46-4e4d-92cb-1c12919dd93d",
   "metadata": {},
   "outputs": [
    {
     "name": "stderr",
     "output_type": "stream",
     "text": [
      "\u001b[32m\u001b[1m  Activating\u001b[22m\u001b[39m project at `~/Desktop/julia_work/ENGRI-1120-IntroToChemE-Example-Notebooks/notebooks-jupyter/ENGRI-1120-Example-Matrix-Vector-System`\n",
      "\u001b[32m\u001b[1m  No Changes\u001b[22m\u001b[39m to `~/Desktop/julia_work/ENGRI-1120-IntroToChemE-Example-Notebooks/notebooks-jupyter/ENGRI-1120-Example-Matrix-Vector-System/Project.toml`\n",
      "\u001b[32m\u001b[1m  No Changes\u001b[22m\u001b[39m to `~/Desktop/julia_work/ENGRI-1120-IntroToChemE-Example-Notebooks/notebooks-jupyter/ENGRI-1120-Example-Matrix-Vector-System/Manifest.toml`\n"
     ]
    }
   ],
   "source": [
    "import Pkg; Pkg.activate(\".\"); Pkg.resolve(); Pkg.instantiate();"
   ]
  },
  {
   "cell_type": "code",
   "execution_count": 2,
   "id": "38a1862d-b59f-4d17-82c4-0f9047677217",
   "metadata": {},
   "outputs": [],
   "source": [
    "using PrettyTables\n",
    "using GLPK"
   ]
  },
  {
   "cell_type": "code",
   "execution_count": 3,
   "id": "286c58f6-083f-4a51-aa47-22b7f7d49080",
   "metadata": {},
   "outputs": [],
   "source": [
    "# load my code library -\n",
    "include(\"Include.jl\");"
   ]
  },
  {
   "cell_type": "markdown",
   "id": "a117d263-eced-46f9-9e55-e8220377a22b",
   "metadata": {},
   "source": [
    "### Before we do anything: Establish a Consistent Unit System\n",
    "We have different units, let's pick a system and convert the required values to that system. Let's use minutes for time, $\\mu$mol for quantity and L for volume."
   ]
  },
  {
   "cell_type": "code",
   "execution_count": 4,
   "id": "0e8aa513-7ed9-4ef2-a3f2-10ffd730e489",
   "metadata": {},
   "outputs": [],
   "source": [
    "# convert some units -\n",
    "V = 100.0*(1e-6);            # system volume in L\n",
    "F_max = 10.0*(1/60)*(1/1e3); # maximum pump rate in L/min\n",
    "A_1_in = 1.0*(1e6/1e3);      # concentration of A₁ in input tank (μmol/L)\n",
    "A_2_in = 0.1*(1e6/1e3);      # concentration of A₂ in input tank (μmol/L)"
   ]
  },
  {
   "cell_type": "markdown",
   "id": "45391047-c539-443f-9085-5866e03a2fc0",
   "metadata": {},
   "source": [
    "## a) Compute the optimal open extent of reaction $\\dot{\\epsilon}_{i}$\n",
    "We will use [Linear Programming (LP)](https://en.wikipedia.org/wiki/Linear_programming) to estimate an optimal values for the open extents of reaction. To solve the LP problem, we'll need:\n",
    "\n",
    "* The stoichiometric matrix $S$\n",
    "* The input feed vectors $\\dot{n}_{1}$ and $\\dot{n}_{2}$\n",
    "* Bounds on the permssible values of the reaction rates\n",
    "\n",
    "#### Linear Programming Problem Setup (Advanced topic)\n",
    "We know from class that the open mole balance around component $i$ for the chip (at steady-state) is given by:\n",
    "\n",
    "$$\\sum_{s\\in\\mathcal{S}}\\nu_{s}\\dot{n}_{s,i} + \\sum_{j\\in\\mathcal{R}}\\sigma_{ij}\\dot{\\epsilon}_{j} = 0\\qquad{i=1,2,\\dots,\\dim(\\mathcal{M})}$$\n",
    "\n",
    "The first term is the rate of `transport` into and from the control volume (units: mol $i$/time) from $\\mathcal{S}$ possible `streams`; $v_{s} = 1$ if the stream $s$ enters control volume, $v_{s}=-1$ is stream $s$ exits the control volume. The second summation denotes the reaction terms, where $\\sigma_{ij}$ denote the stoichiometric coefficient describing the connection between metabolite $i$ and reaction $j$ and $\\dot{\\epsilon}_{j}$ denote the open extent of reaction (units: mol/time). For the chip we have two inputs stream entering (s=1 and s=2), and a single stream exiting (s=3) the chip. In this case, the open mole balance becomes:\n",
    "\n",
    "$$\\dot{n}_{3,i} = \\dot{n}_{1,i} + \\dot{n}_{2,i}+ \\sum_{j\\in\\mathcal{R}}\\sigma_{ij}\\dot{\\epsilon}_{j}\\qquad{i=1,2,\\dots,\\dim(\\mathcal{M})}$$\n",
    "\n",
    "These balances can be used as constraints to find the optimal open extent of reaction. In particular, we know that we actually pass $\\alpha\\leq{S\\dot{\\epsilon}}\\leq\\beta$ to the solver. Thus, because $\\dot{n}_{i,3}\\geq{0}$, the linear programming problem is subject to the mol constraints: \n",
    "\n",
    "$$\\dot{n}_{1,i} + \\dot{n}_{2,i} + \\sum_{j\\in\\mathcal{R}}\\sigma_{ij}\\dot{\\epsilon}_{j}\\geq{0}\\qquad\\forall{i}$$\n",
    "\n",
    "In other words, when searching for the optimal set of $\\dot{\\epsilon}_{j}$ we have to select values that give physically realistic answers (we can't have a negative mol flow rate). Next, the $\\dot{\\epsilon}_{j}$ terms (just flux) are bounded from above and below: \n",
    "\n",
    "$$\\mathcal{L}_{j}\\leq\\dot{\\epsilon}_{j}\\leq\\mathcal{U}_{j}\\qquad{j=1,2\\dots,\\dim(\\mathcal{R})}$$\n",
    "\n",
    "where the $\\mathcal{L}_{j}$ and $\\mathcal{U}_{j}$ denote the lower and upper bounds that $\\dot{\\epsilon}_{j}$ can take, remember that the open extents $\\dot{\\epsilon}_{j}$ are just reaction rates times the volume. Thus, the lower and upper bounds describe the permissible range we expect the rate _could_ obtain.  \n",
    "\n",
    "Putting everything together gives a problem formulation to compute the mol/time flux through a reaction network. An objective:\n",
    "\n",
    "$$\\min_{\\dot{\\epsilon}}\\sum_{j\\in\\mathcal{R}}c_{j}\\dot{\\epsilon}_{j}$$\n",
    "\n",
    "is minimized (or maximized) subject to a collection of linear constraints:\n",
    "\n",
    "$$\\begin{eqnarray}\n",
    "\\sum_{j\\in\\mathcal{R}}\\sigma_{ij}\\dot{\\epsilon}_{j}&\\geq&{-\\dot{n}_{1,i}-\\dot{n}_{2,i}}\\qquad\\forall{i}\\\\ \n",
    "\\mathcal{L}_{j}&\\leq\\dot{\\epsilon}_{j}\\leq&\\mathcal{U}_{j}\\qquad{j=1,2\\dots,\\dim(\\mathcal{R})}\n",
    "\\end{eqnarray}$$"
   ]
  },
  {
   "cell_type": "markdown",
   "id": "27c9d9a8-f700-4fb5-90f3-a6cc6f6db76c",
   "metadata": {},
   "source": [
    "#### Formulate Species and Reaction Sets\n",
    "Let the species set $\\mathcal{M}=\\left\\{A_{1}, A_{2}, B, C, P, x, y\\right\\}$ and the reaction set $\\mathcal{R}=\\left\\{r_{1}, r_{2}, r_{3}\\right\\}$."
   ]
  },
  {
   "cell_type": "code",
   "execution_count": 5,
   "id": "5c824bb7-b7e1-4f90-b60f-22a96da17891",
   "metadata": {},
   "outputs": [],
   "source": [
    "# Fill me in ... setup the system dimensions\n",
    "M = 7; # number of species M = dim(ℳ)\n",
    "R = 3; # number of reactions R = dim(ℛ)"
   ]
  },
  {
   "cell_type": "markdown",
   "id": "e7ac7d19-9318-4e70-b5c3-7ee1536c2867",
   "metadata": {},
   "source": [
    "#### Formulate the Stoichiometric Matrix\n",
    "The stoichiometric matrix $S$ holds the stoichiometric coefficients; $S$ is a $\\dim(\\mathcal{M)}\\times\\dim{\\mathcal{R}}$ array where the (i,j) entry, denoted by $\\sigma_{ij}$ follows the rules:\n",
    "\n",
    "* If $\\sigma_{ij}>0$ then species $i$ is _produced_ by reaction $j$, i.e., species $i$ is a product of reaction $j$ \n",
    "* If $\\sigma_{ij}=0$ then species $i$ is _not connected to_ reaction $j$\n",
    "* If $\\sigma_{ij}<0$ then species $i$ is _consumed_ by reaction $j$, i.e., species $i$ is a reactant of reaction $j$."
   ]
  },
  {
   "cell_type": "code",
   "execution_count": 6,
   "id": "80c8bf8c-dc86-4088-b0ee-066ba8a76bed",
   "metadata": {},
   "outputs": [],
   "source": [
    "# Building the stoichiometric matrix is a hassle, so I wrote a routine to do it for us!\n",
    "\n",
    "# build the list of reactions we want in the S -\n",
    "reaction_list = Array{String,1}(undef, R)\n",
    "reaction_list[1] = \"r₁,A₁+x,B+y,false\" # string for r₁\n",
    "reaction_list[2] = \"r₂,B,P,false\"      # string for r₂\n",
    "reaction_list[3] = \"r₃,A₂+y,C+x,false\" # string for r₃\n",
    "\n",
    "# buld the stoichiometric matrix -\n",
    "(SM, SSA, RSA) = build_stoichiometric_matrix(reaction_list);"
   ]
  },
  {
   "cell_type": "markdown",
   "id": "609894b6-9039-495d-8b12-396baa6afa84",
   "metadata": {},
   "source": [
    "#### Formulate the Reaction Constraints\n",
    "The open extent of reaction $\\dot{\\epsilon}_{i}$ can be written as:\n",
    "\n",
    "$$\\dot{\\epsilon}_{i}=r_{i}V$$\n",
    "\n",
    "where $r_{i}$ is a [kinetic rate law](https://en.wikipedia.org/wiki/Rate_equation) for reaction $i$ and $V$ denotes the reaction volume. The rate law of an enzyme-catalyzed reaction (approximately) follows the [Michaelis-Menton]( https://en.wikipedia.org/wiki/Michaelis–Menten_kinetics) expression:\n",
    "\n",
    "$$v = k_{cat}E\\left(\\frac{S}{K_{m}+S}\\right)$$\n",
    "\n",
    "where $v$ denotes the reaction velocity (or rate, units: mole/L-time), $S$ denotes the substrate of the reaction (units: mole/L), $K_{m}$ denotes the saturation constant (units: mole/L), $k_{cat}$ denotes the catalytic constant (units: 1/time) and $E$ denotes the enzyme concentration (units: mole/L). \n",
    "\n",
    "However, our problem is more advanced, as we have reactions with multiple substrates. Thus, we don't know the rate, so we can't get a nice expression of the open extent. Hmmmm."
   ]
  },
  {
   "cell_type": "code",
   "execution_count": 7,
   "id": "8fe405e4-e02f-4e60-91bc-50df4e2aed3d",
   "metadata": {},
   "outputs": [],
   "source": [
    "# setup reaction bounds array -\n",
    "flux_bounds_array = zeros(R,2);\n",
    "\n",
    "# what are my kcats?\n",
    "E = 100.0; # units: μmol/L\n",
    "k₁ = 85.7; # units: min^-1\n",
    "k₂ = 38.1; # units: min^-1\n",
    "k₃ = 13.7; # units: min^-1\n",
    "\n",
    "# set the upper bounds -\n",
    "flux_bounds_array[1,2] = k₁*E*V;\n",
    "flux_bounds_array[2,2] = k₂*E*V;\n",
    "flux_bounds_array[3,2] = k₃*E*V;"
   ]
  },
  {
   "cell_type": "markdown",
   "id": "1fad8a20-df19-4e68-9c36-9de96f39346a",
   "metadata": {},
   "source": [
    "#### Formulate the Species Constraints"
   ]
  },
  {
   "cell_type": "code",
   "execution_count": 9,
   "id": "72c89647-2052-4b1b-a199-eddf96277c5c",
   "metadata": {},
   "outputs": [],
   "source": [
    "# setup stream inputs -\n",
    "F₁ = 1.0*F_max;\n",
    "F₂ = 1.0*F_max;\n",
    "\n",
    "# stream 1 -\n",
    "ṅ_1 = [\n",
    "    F₁*A_1_in ; # 1 A₁\n",
    "    0.0       ; # 2 A₂\n",
    "    0.0       ; # 3 B\n",
    "    0.0       ; # 4 C\n",
    "    0.0       ; # 5 P\n",
    "    0.0       ; # 6 x\n",
    "    0.0       ; # 7 y\n",
    "];\n",
    "\n",
    "# stream 2 -\n",
    "ṅ_2 = [\n",
    "    0.0       ; # 1 A₁\n",
    "    F₂*A_2_in ; # 2 A₂\n",
    "    0.0       ; # 3 B\n",
    "    0.0       ; # 4 C\n",
    "    0.0       ; # 5 P\n",
    "    0.0       ; # 6 x\n",
    "    0.0       ; # 7 y\n",
    "];"
   ]
  },
  {
   "cell_type": "code",
   "execution_count": 10,
   "id": "35e09d43-cd3d-40dc-9663-1306c1582b29",
   "metadata": {},
   "outputs": [],
   "source": [
    "# initialize some space -\n",
    "species_constraint_array = Array{Float64,2}(undef, M, 2)\n",
    "for i ∈ 1:M\n",
    "    species_constraint_array[i,1] = - ṅ_1[i] - ṅ_2[i] # lower bound \n",
    "    species_constraint_array[i,2] = 1000.0            # upper bound\n",
    "end"
   ]
  },
  {
   "cell_type": "code",
   "execution_count": 11,
   "id": "90b39046-bf1e-4188-9557-09261b627d05",
   "metadata": {},
   "outputs": [],
   "source": [
    "objective_coefficient_array = [0.0,-1.0,0.0];"
   ]
  },
  {
   "cell_type": "code",
   "execution_count": 12,
   "id": "e89687e1-adb8-4352-b969-7c4d03710732",
   "metadata": {},
   "outputs": [],
   "source": [
    "# call the flux solver -\n",
    "results_tuple = flux(SM, flux_bounds_array, species_constraint_array, objective_coefficient_array);"
   ]
  },
  {
   "cell_type": "code",
   "execution_count": 13,
   "id": "da763689-c0dd-4ea6-9e8a-13f1dc57b7bd",
   "metadata": {},
   "outputs": [
    {
     "name": "stdout",
     "output_type": "stream",
     "text": [
      "┌────────────────┬───────────┐\n",
      "│\u001b[1m Reaction index \u001b[0m│\u001b[1m        ϵ̇ᵢ \u001b[0m│\n",
      "│\u001b[90m                \u001b[0m│\u001b[90m   mol/min \u001b[0m│\n",
      "├────────────────┼───────────┤\n",
      "│              1 │ 0.0166667 │\n",
      "│              2 │ 0.0166667 │\n",
      "│              3 │ 0.0166667 │\n",
      "└────────────────┴───────────┘\n"
     ]
    }
   ],
   "source": [
    "# what is the optimal extent of reaction\n",
    "ϵ̇ = results_tuple.calculated_flux_array;\n",
    "\n",
    "# setup -\n",
    "extent_table_header = ([\"Reaction index\", \"ϵ̇ᵢ\"], [\"\",\"mol/min\"])\n",
    "extent_data_table = Array{Any,2}(undef,R,2);\n",
    "for i ∈ 1:R\n",
    "    extent_data_table[i,1] = i\n",
    "    extent_data_table[i,2] = ϵ̇[i]\n",
    "end\n",
    "\n",
    "# show -\n",
    "pretty_table(extent_data_table; header=extent_table_header)"
   ]
  },
  {
   "cell_type": "markdown",
   "id": "8820c6fc-d6fe-4c13-a2b5-a134c58de245",
   "metadata": {},
   "source": [
    "## b) Formulate the State Table"
   ]
  },
  {
   "cell_type": "code",
   "execution_count": 14,
   "id": "7a1fb20e-a93c-4cc0-b5ea-d8787e487dd0",
   "metadata": {},
   "outputs": [],
   "source": [
    "# what is ṅ_3?\n",
    "ṅ_3 = ṅ_1 .+ ṅ_2 .+ SM*ϵ̇;"
   ]
  },
  {
   "cell_type": "code",
   "execution_count": 15,
   "id": "9e7c857d-8fa7-4e03-82d9-ece89fc9cc4d",
   "metadata": {},
   "outputs": [
    {
     "name": "stdout",
     "output_type": "stream",
     "text": [
      "┌─────────┬──────────┬───────────┬───────────┐\n",
      "│\u001b[1m Species \u001b[0m│\u001b[1m      ṅ_1 \u001b[0m│\u001b[1m       ṅ_2 \u001b[0m│\u001b[1m       ṅ_3 \u001b[0m│\n",
      "│\u001b[90m         \u001b[0m│\u001b[90m  mol/min \u001b[0m│\u001b[90m   mol/min \u001b[0m│\u001b[90m   mol/min \u001b[0m│\n",
      "├─────────┼──────────┼───────────┼───────────┤\n",
      "│      A₁ │ 0.166667 │       0.0 │      0.15 │\n",
      "│      A₂ │      0.0 │ 0.0166667 │       0.0 │\n",
      "│       B │      0.0 │       0.0 │       0.0 │\n",
      "│       C │      0.0 │       0.0 │ 0.0166667 │\n",
      "│       P │      0.0 │       0.0 │ 0.0166667 │\n",
      "│       x │      0.0 │       0.0 │       0.0 │\n",
      "│       y │      0.0 │       0.0 │       0.0 │\n",
      "└─────────┴──────────┴───────────┴───────────┘\n"
     ]
    }
   ],
   "source": [
    "# setup table -\n",
    "state_table_header = ([\"Species\", \"ṅ_1\", \"ṅ_2\", \"ṅ_3\"], [\"\", \"mol/min\", \"mol/min\", \"mol/min\"])\n",
    "\n",
    "# setup array to hold the state data -\n",
    "state_data_array = Array{Any,2}(undef, M, 4);\n",
    "\n",
    "# populate the data for the table -\n",
    "for i ∈ 1:M\n",
    "    state_data_array[i,1] = SSA[i]\n",
    "    state_data_array[i,2] = ṅ_1[i]\n",
    "    state_data_array[i,3] = ṅ_2[i]\n",
    "    state_data_array[i,4] = ṅ_3[i]\n",
    "end\n",
    "\n",
    "# show -\n",
    "pretty_table(state_data_array; header=state_table_header)"
   ]
  },
  {
   "cell_type": "markdown",
   "id": "d969a833-7509-45b9-acf7-912d07f9d916",
   "metadata": {},
   "source": [
    "## c) Compute the Fraction Conversion of $A_{1}$"
   ]
  },
  {
   "cell_type": "code",
   "execution_count": 16,
   "id": "25a7d230-ebf9-4227-8ca1-7af10a1b6d69",
   "metadata": {},
   "outputs": [
    {
     "data": {
      "text/plain": [
       "0.09999999999999998"
      ]
     },
     "execution_count": 16,
     "metadata": {},
     "output_type": "execute_result"
    }
   ],
   "source": [
    "f₁ = (ṅ_1[1] + ṅ_2[1] - ṅ_3[1])/(ṅ_1[1] + ṅ_2[1])"
   ]
  }
 ],
 "metadata": {
  "kernelspec": {
   "display_name": "Julia 1.8.0",
   "language": "julia",
   "name": "julia-1.8"
  },
  "language_info": {
   "file_extension": ".jl",
   "mimetype": "application/julia",
   "name": "julia",
   "version": "1.8.0"
  }
 },
 "nbformat": 4,
 "nbformat_minor": 5
}
