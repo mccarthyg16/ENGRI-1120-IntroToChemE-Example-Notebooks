{
 "cells": [
  {
   "cell_type": "markdown",
   "id": "3fc7e28f-f82e-49ac-8112-33f1951e59ee",
   "metadata": {},
   "source": [
    "## ENGRI 1120 Example: Rankine Cycle Efficiency Calculation"
   ]
  },
  {
   "cell_type": "markdown",
   "id": "6c5c78ec-3041-46cf-a03a-dc4cbfda3ce3",
   "metadata": {},
   "source": [
    "<img src=\"figs/Fig-RC-Labeled-F22.png\" style=\"width:50%\">"
   ]
  },
  {
   "cell_type": "markdown",
   "id": "992e1cd5-0a5a-44b4-99a5-c2852ed8e7e5",
   "metadata": {},
   "source": [
    "__Fig. 1__: Schematic of the Rankine Cycle for power generation."
   ]
  },
  {
   "cell_type": "markdown",
   "id": "d9f0ac87-4396-49ab-9f0e-e821d8d4e32c",
   "metadata": {},
   "source": [
    "The [Rankine Cycle](https://en.wikipedia.org/wiki/Rankine_cycle) is an open four-step cycle used to produce power (__Fig. 1__). High energy superheated vapor is passed through a turbine, which transforms some of the chemical energy of the working fluid into mechanical energy in terms of shaft work. The remainder of the cycle regenerates the high-energy, super-heated starting state. \n",
    "\n",
    "The steady-state energy and mass balances around each of the four process unit is given by:\n",
    "\n",
    "$$\n",
    "\\begin{eqnarray}\n",
    "\\dot{Q} + \\dot{W} + \\sum_{s\\in\\mathcal{S}}v_{s}\\dot{m}_{s}H_{s} & = & 0\\\\\n",
    "\\sum_{s\\in\\mathcal{S}}v_{s}\\dot{m}_{s} & = & 0\n",
    "\\end{eqnarray}\n",
    "$$\n",
    "\n",
    "where $\\dot{Q}$ denotes the rate of heat transfer to (from) the process unit, $\\dot{W}$ denotes the rate of shaft (mechanical) work done on (or by) the system, and the summation terms denote the rate of energy (or mass) transferred into (or from) the system. Finally, $v_{s}$ denotes the direction parameter; $v_{\\star}$ = +1 input and $v_{\\star}$ = -1 output.\n",
    "\n",
    "For more details on the energy balance and power generation cycles, [consult the ENGRI 1120 course notes](https://varnerlab.github.io/ENGRI-1120-IntroToChemE-Book/chapter-1-dir/energy-balances.html#content-references-rc)."
   ]
  },
  {
   "cell_type": "markdown",
   "id": "02d27a08-fcd1-4e9d-b917-ea8f9af3eecf",
   "metadata": {},
   "source": [
    "### Problem statement"
   ]
  },
  {
   "cell_type": "markdown",
   "id": "cfad7021-985e-4305-9ca8-8a4acf715dbd",
   "metadata": {},
   "source": [
    "The teaching team operates a [Rankine Cycle](https://en.wikipedia.org/wiki/Rankine_cycle) using the refrigerant [R-508B](https://en.wikipedia.org/wiki/List_of_refrigerants); the [R-508B data-sheet is included in the data folder](data/R508B-DataSheet.pdf). The operating table for the cycle is given by:\n",
    "\n",
    "| Operating Point $O_{\\star}$ | Temp ($C^{\\circ}$) | Pressure (MPa) | Enthalpy (kJ/kg) |\n",
    "| :--: | :--: | :--: | :--: |\n",
    "| $O_{1}$    | 20 | 3.00 | 298.1 |\n",
    "| $O_{2}$    | -90 | 0.09 | ??? |\n",
    "| $O_{3}$    | -90 | 0.09 | 86.9 |\n",
    "| $O_{4}$    | -92 | 3.00 | 90.0 |\n",
    "\n",
    "__Parameters and assumptions:__\n",
    "* The cycle operates at a steady state; all operations are assumed ideal\n",
    "* The mass flow of working fluid is $\\dot{m}$ = 5.0 kg/s\n",
    "* The value of entropy at $O_{1}$ is $S_{1}$ = 1.3523 kJ/kg-K\n",
    "\n",
    "__Compute:__\n",
    "1. Fill in the missing value for $H_{2}$ in the state table\n",
    "1. Compute the cycle efficiency $\\eta$ (assuming an ideal cycle)"
   ]
  },
  {
   "cell_type": "code",
   "execution_count": 1,
   "id": "58d92a0f-324a-43f2-b2f1-0e867c5dc6ef",
   "metadata": {},
   "outputs": [],
   "source": [
    "# parameters -\n",
    "ṁ = 5.0; # units: kg/s\n",
    "H₁ = 298.1; # units: kJ/kg\n",
    "H₃ = 86.9;  # units: kJ/kg\n",
    "H₄ = 90.0;  # units: kJ/kg"
   ]
  },
  {
   "cell_type": "markdown",
   "id": "f04964af-5446-4ba6-af76-eed11bafeafa",
   "metadata": {},
   "source": [
    "### a) Fill in the missing values of the state table\n",
    "We compute the quality parameter $\\theta$, and then use linear interpolation to estimate $H_{2}$"
   ]
  },
  {
   "cell_type": "code",
   "execution_count": 2,
   "id": "07a82fd5-5098-477c-891f-1b0b869aec76",
   "metadata": {},
   "outputs": [],
   "source": [
    "# compute θ => so we can calculate \n",
    "\n",
    "# Look up data from the saturated T = -90C\n",
    "S₁ = 1.3523; # units: kJ/kg-K\n",
    "Sᵥ = 1.4150; # units: kJ/kg-K\n",
    "Sₗ = 0.5184; # units: kJ/kg-K\n",
    "\n",
    "# θ -\n",
    "θ = (S₁ - Sₗ)/(Sᵥ - Sₗ);"
   ]
  },
  {
   "cell_type": "code",
   "execution_count": 3,
   "id": "b6e2c013-886f-4813-9c72-c1fbda3c9d1d",
   "metadata": {},
   "outputs": [],
   "source": [
    "# compute H₂ -\n",
    "Hₗ = 86.8;   # units: kJ/kg\n",
    "Hᵥ = 251.1; # units: kK/kg\n",
    "H₂ = θ*Hᵥ + (1-θ)*Hₗ;"
   ]
  },
  {
   "cell_type": "markdown",
   "id": "904b6c8b-715e-4544-ab30-162966b1daa0",
   "metadata": {},
   "source": [
    "### b) Compute the Rankine cycle efficiency $\\eta$\n",
    "The [Rankine Cycle](https://en.wikipedia.org/wiki/Rankine_cycle) efficiency is defined as the net work produced divided by the required heat input into the boiler:\n",
    "\n",
    "$$\\eta = -\\frac{\\dot{W}_{net}}{\\dot{Q}_{B}}$$"
   ]
  },
  {
   "cell_type": "markdown",
   "id": "e4fd6d71-f7ba-4b50-8d26-4fc78df28ce7",
   "metadata": {},
   "source": [
    "##### 1) Compute work coming from the turbine $\\dot{W}_{T}$"
   ]
  },
  {
   "cell_type": "code",
   "execution_count": 4,
   "id": "3ba7b139-7801-42ed-9ec1-2058ea814e67",
   "metadata": {},
   "outputs": [
    {
     "data": {
      "text/plain": [
       "-292.4481931742139"
      ]
     },
     "execution_count": 4,
     "metadata": {},
     "output_type": "execute_result"
    }
   ],
   "source": [
    "# Compute the turbine work -\n",
    "Ẇ_T = ṁ*(H₂ - H₁)"
   ]
  },
  {
   "cell_type": "markdown",
   "id": "3a6d0a35-a52a-4656-b32d-4e059d14f8aa",
   "metadata": {},
   "source": [
    "##### 2) Compute work into the pump $\\dot{W}_{P}$"
   ]
  },
  {
   "cell_type": "code",
   "execution_count": 5,
   "id": "c4304c6a-802c-42d5-a60e-44efef377438",
   "metadata": {},
   "outputs": [
    {
     "data": {
      "text/plain": [
       "15.499999999999972"
      ]
     },
     "execution_count": 5,
     "metadata": {},
     "output_type": "execute_result"
    }
   ],
   "source": [
    "# Compute the pump work -\n",
    "Ẇ_P = ṁ*(H₄ - H₃)"
   ]
  },
  {
   "cell_type": "markdown",
   "id": "cba59f20-dd2d-4b5a-bfd5-7987549404a3",
   "metadata": {},
   "source": [
    "##### 3) Compute heat coming into the boiler $\\dot{Q}_{B}$"
   ]
  },
  {
   "cell_type": "code",
   "execution_count": 6,
   "id": "70efbc6f-f803-488c-8d13-0ab9bc316e0d",
   "metadata": {},
   "outputs": [
    {
     "data": {
      "text/plain": [
       "1040.5"
      ]
     },
     "execution_count": 6,
     "metadata": {},
     "output_type": "execute_result"
    }
   ],
   "source": [
    "# compute the heat -\n",
    "Q̇_B = ṁ*(H₁ - H₄)"
   ]
  },
  {
   "cell_type": "markdown",
   "id": "47640559-c04a-4061-b220-f90c6956246a",
   "metadata": {},
   "source": [
    "##### 4) Compute heat coming from the condenser $\\dot{Q}_{C}$"
   ]
  },
  {
   "cell_type": "code",
   "execution_count": 7,
   "id": "ba8160fb-7009-431f-9406-92641e0af288",
   "metadata": {},
   "outputs": [
    {
     "data": {
      "text/plain": [
       "-763.5518068257862"
      ]
     },
     "execution_count": 7,
     "metadata": {},
     "output_type": "execute_result"
    }
   ],
   "source": [
    "Q̇_C = ṁ*(H₃ - H₂)"
   ]
  },
  {
   "cell_type": "markdown",
   "id": "ca1b2a26-6d6f-4724-85eb-584aab6a68e6",
   "metadata": {},
   "source": [
    "##### Compute the efficiency for the cycle $\\eta$"
   ]
  },
  {
   "cell_type": "code",
   "execution_count": 8,
   "id": "314f2b58-9e53-4000-b714-f7d2627004ca",
   "metadata": {},
   "outputs": [
    {
     "data": {
      "text/plain": [
       "0.29596174259895613"
      ]
     },
     "execution_count": 8,
     "metadata": {},
     "output_type": "execute_result"
    }
   ],
   "source": [
    "η = -(Ẇ_T - Ẇ_P)/(Q̇_B)"
   ]
  }
 ],
 "metadata": {
  "kernelspec": {
   "display_name": "Julia 1.8.0",
   "language": "julia",
   "name": "julia-1.8"
  },
  "language_info": {
   "file_extension": ".jl",
   "mimetype": "application/julia",
   "name": "julia",
   "version": "1.8.0"
  }
 },
 "nbformat": 4,
 "nbformat_minor": 5
}
