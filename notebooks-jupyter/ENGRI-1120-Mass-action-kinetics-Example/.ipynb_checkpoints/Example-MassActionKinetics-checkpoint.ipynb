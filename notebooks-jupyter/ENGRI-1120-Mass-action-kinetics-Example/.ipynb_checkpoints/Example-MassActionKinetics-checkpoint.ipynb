{
 "cells": [
  {
   "cell_type": "code",
   "execution_count": null,
   "id": "5f1787a7-d1d4-4e99-91a3-fd2f0f54a71f",
   "metadata": {},
   "outputs": [],
   "source": []
  },
  {
   "cell_type": "code",
   "execution_count": 1,
   "id": "7c59cff2-e581-4652-b0b3-269cdbe86b88",
   "metadata": {},
   "outputs": [
    {
     "name": "stderr",
     "output_type": "stream",
     "text": [
      "\u001b[32m\u001b[1m  Activating\u001b[22m\u001b[39m project at `~/Desktop/julia_work/ENGRI-1120-IntroToChemE-Example-Notebooks/notebooks-jupyter/example-mass-action-kinetics`\n",
      "\u001b[32m\u001b[1m  No Changes\u001b[22m\u001b[39m to `~/Desktop/julia_work/ENGRI-1120-IntroToChemE-Example-Notebooks/notebooks-jupyter/example-mass-action-kinetics/Project.toml`\n",
      "\u001b[32m\u001b[1m  No Changes\u001b[22m\u001b[39m to `~/Desktop/julia_work/ENGRI-1120-IntroToChemE-Example-Notebooks/notebooks-jupyter/example-mass-action-kinetics/Manifest.toml`\n"
     ]
    }
   ],
   "source": [
    "import Pkg; Pkg.activate(\".\"); Pkg.resolve(); Pkg.instantiate();"
   ]
  },
  {
   "cell_type": "code",
   "execution_count": 2,
   "id": "68dba1fa-3da9-46cb-9822-c16437982a8c",
   "metadata": {},
   "outputs": [],
   "source": [
    "using Plots\n",
    "using Colors\n",
    "using DifferentialEquations"
   ]
  },
  {
   "cell_type": "code",
   "execution_count": 3,
   "id": "ce53b7c1-4e44-4461-b712-94c890a632d8",
   "metadata": {},
   "outputs": [],
   "source": [
    "include(\"ENGRI-1120-Example-CodeLib.jl\");"
   ]
  },
  {
   "cell_type": "code",
   "execution_count": 4,
   "id": "ef1ed90b-dd85-4a72-8182-ca8c3d193efa",
   "metadata": {},
   "outputs": [],
   "source": [
    "# setup the stoichiometric matrix -\n",
    "S = Array{Float64,2}(undef, 3,1);\n",
    "S[1,1] = -1.0;\n",
    "S[2,1] = -1.0;\n",
    "S[3,1] = 1.0;"
   ]
  },
  {
   "cell_type": "code",
   "execution_count": 5,
   "id": "4fdc6515-6b47-48bf-9539-917314653012",
   "metadata": {},
   "outputs": [],
   "source": [
    "# setup the initial condition vector -\n",
    "initial_condition_vector = [2.0, 1.0, 0.0];"
   ]
  },
  {
   "cell_type": "code",
   "execution_count": 6,
   "id": "9d584622-260d-486c-96e8-f2fcd0180cf7",
   "metadata": {},
   "outputs": [
    {
     "ename": "LoadError",
     "evalue": "syntax: unexpected semicolon in array expression around In[6]:2",
     "output_type": "error",
     "traceback": [
      "syntax: unexpected semicolon in array expression around In[6]:2",
      "",
      "Stacktrace:",
      " [1] top-level scope",
      "   @ In[6]:2",
      " [2] eval",
      "   @ ./boot.jl:368 [inlined]",
      " [3] include_string(mapexpr::typeof(REPL.softscope), mod::Module, code::String, filename::String)",
      "   @ Base ./loading.jl:1428"
     ]
    }
   ],
   "source": [
    "# setup rate constant vector -\n",
    "k = Array{Float64,2}(undef,1,2)\n",
    "k[1,1] = 1.0;\n",
    "k[1,2] = 0.01"
   ]
  },
  {
   "cell_type": "code",
   "execution_count": 7,
   "id": "576d0386-fd91-42d7-8ac4-0766d2115af1",
   "metadata": {},
   "outputs": [
    {
     "ename": "LoadError",
     "evalue": "UndefVarError: k not defined",
     "output_type": "error",
     "traceback": [
      "UndefVarError: k not defined",
      "",
      "Stacktrace:",
      " [1] top-level scope",
      "   @ In[7]:4",
      " [2] eval",
      "   @ ./boot.jl:368 [inlined]",
      " [3] include_string(mapexpr::typeof(REPL.softscope), mod::Module, code::String, filename::String)",
      "   @ Base ./loading.jl:1428"
     ]
    }
   ],
   "source": [
    "# setup -\n",
    "model_dictionary = Dict{String,Any}();\n",
    "model_dictionary[\"S\"] = S;\n",
    "model_dictionary[\"k\"] = k;\n",
    "model_dictionary[\"initial_condition_vector\"] = initial_condition_vector;\n",
    "model_dictionary[\"number_of_dynamic_states\"] = 3\n",
    "\n",
    "# solve the model -\n",
    "(T,X) = evaluate(model_dictionary);"
   ]
  },
  {
   "cell_type": "code",
   "execution_count": 8,
   "id": "06161ab0-117a-4ca2-8ef3-8c476080eb31",
   "metadata": {},
   "outputs": [
    {
     "ename": "LoadError",
     "evalue": "UndefVarError: X not defined",
     "output_type": "error",
     "traceback": [
      "UndefVarError: X not defined",
      "",
      "Stacktrace:",
      " [1] top-level scope",
      "   @ In[8]:1",
      " [2] eval",
      "   @ ./boot.jl:368 [inlined]",
      " [3] include_string(mapexpr::typeof(REPL.softscope), mod::Module, code::String, filename::String)",
      "   @ Base ./loading.jl:1428"
     ]
    }
   ],
   "source": [
    "plot(T,X[:,1]);\n",
    "plot!(T,X[:,2]);\n",
    "plot!(T,X[:,3])"
   ]
  },
  {
   "cell_type": "code",
   "execution_count": null,
   "id": "ed90d162-620a-4505-b65d-257adb230850",
   "metadata": {},
   "outputs": [],
   "source": []
  }
 ],
 "metadata": {
  "kernelspec": {
   "display_name": "Julia 1.8.0",
   "language": "julia",
   "name": "julia-1.8"
  },
  "language_info": {
   "file_extension": ".jl",
   "mimetype": "application/julia",
   "name": "julia",
   "version": "1.8.2"
  }
 },
 "nbformat": 4,
 "nbformat_minor": 5
}
