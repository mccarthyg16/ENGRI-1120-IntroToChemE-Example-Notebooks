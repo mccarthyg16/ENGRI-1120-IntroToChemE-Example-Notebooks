{
 "cells": [
  {
   "cell_type": "markdown",
   "id": "14cdc5b2-aa8b-4e87-890a-835b910a602a",
   "metadata": {},
   "source": [
    "## ENGRI 1120: Magical Separation Units (MSU) calculations"
   ]
  },
  {
   "cell_type": "markdown",
   "id": "18efcc92-60df-4c83-8a31-4c287988a7a9",
   "metadata": {},
   "source": [
    "### Introduction\n",
    "Separations are a massive component of any chemical process. It is rarely the case that a reaction of interest goes to completion, and all we are left with is the desired product itself. Thus, we (as chemical engineers) must develop operations to pull apart (or separate) mixtures into streams that contain selected and undesired chemical components. For more on the general area of Separations (and the various types of tools that we can use), check out the [Separations section in the LearnCheme series](https://learncheme.com/screencasts/separations-mass-transfer/).For the project, we will develop a hypothetical downstream separation that illustrates some of the ideas you'll see in your later courses but without the headache that comes along with reality. \n",
    "\n",
    "### Theory\n",
    "Suppose the teaching team invented a magical separation unit or MSU to make this happen. MSUs have one stream in and two streams out (called the top, and bottom, respectively) and a fixed separation ratio for all products (that's what makes them magical), where the desired product is _always_ in the top stream at some ratio $\\theta$.\n",
    "\n",
    "Denote the index for the desired product as $i=\\star$. Then after one pass (stream 1 is the input, stream 2 is the top, and stream 3 is the bottom), we have:\n",
    "\n",
    "$$\\begin{eqnarray}\n",
    "\\dot{n}_{2,\\star} &=& \\theta\\cdot\\dot{n}_{1,\\star}\\\\\n",
    "\\dot{n}_{3,\\star} &=& (1-\\theta)\\cdot\\dot{n}_{1,\\star}\\\\\n",
    "\\end{eqnarray}$$\n",
    "\n",
    "for the product. On the other hand, for _all_ other materials in the input, we have $\\left(1-\\theta_{\\star}\\right)$ in the top, and $\\theta_{\\star}$ in the bottom, i.e.,\n",
    "\n",
    "$$\\begin{eqnarray}\n",
    "\\dot{n}_{2,i} &=& (1-\\theta)\\cdot\\dot{n}_{1,i}\\qquad{\\forall{i}\\neq\\star}\\\\\n",
    "\\dot{n}_{3,i} &=& \\theta\\cdot\\dot{n}_{1,i}\\\\\n",
    "\\end{eqnarray}$$\n",
    "\n",
    "If we chain these units together, we can achieve the desired degree of separation. This arrangement gives rise to a binary separation tree shown in Fig 2. "
   ]
  },
  {
   "cell_type": "markdown",
   "id": "c4a069bc-94fa-420a-b235-5c0582faff98",
   "metadata": {},
   "source": [
    "<center>\n",
    "    <img src=\"figs/Fig-BTree.pdf\" style=\"align:right; width:30%\">\n",
    "</center>"
   ]
  },
  {
   "cell_type": "markdown",
   "id": "f5172244-0653-4f29-b2bc-c494b8be4b7f",
   "metadata": {},
   "source": [
    "Fig 2. [Binary separation tree](https://en.wikipedia.org/wiki/Binary_tree), where a single input stream is fractionated at each tree level at a fixed ratio."
   ]
  },
  {
   "cell_type": "markdown",
   "id": "4e59ed8a-82e9-4da1-8fde-0fa999c58eac",
   "metadata": {},
   "source": [
    "### Example setup"
   ]
  },
  {
   "cell_type": "code",
   "execution_count": 1,
   "id": "2508c45f-8325-4ee1-8def-a066440b12ce",
   "metadata": {},
   "outputs": [
    {
     "name": "stderr",
     "output_type": "stream",
     "text": [
      "\u001b[32m\u001b[1m  Activating\u001b[22m\u001b[39m project at `~/Desktop/julia_work/ENGRI-1120-IntroToChemE-Example-Notebooks/notebooks-jupyter/ENGRI-1120-MSU-Example`\n",
      "\u001b[32m\u001b[1m  No Changes\u001b[22m\u001b[39m to `~/Desktop/julia_work/ENGRI-1120-IntroToChemE-Example-Notebooks/notebooks-jupyter/ENGRI-1120-MSU-Example/Project.toml`\n",
      "\u001b[32m\u001b[1m  No Changes\u001b[22m\u001b[39m to `~/Desktop/julia_work/ENGRI-1120-IntroToChemE-Example-Notebooks/notebooks-jupyter/ENGRI-1120-MSU-Example/Manifest.toml`\n"
     ]
    }
   ],
   "source": [
    "import Pkg; Pkg.activate(\".\"); Pkg.resolve(); Pkg.instantiate();"
   ]
  },
  {
   "cell_type": "code",
   "execution_count": 5,
   "id": "2f832f31-2e27-4d3d-bb0c-c2659f4d9d08",
   "metadata": {},
   "outputs": [],
   "source": [
    "# load reqd packages and set paths -\n",
    "using PrettyTables\n",
    "using GLPK\n",
    "\n",
    "# setup paths -\n",
    "const _ROOT = pwd();"
   ]
  },
  {
   "cell_type": "code",
   "execution_count": 7,
   "id": "1fbdb477-b118-4725-9ff6-bb8f293f4a2d",
   "metadata": {},
   "outputs": [],
   "source": [
    "include(\"ENGRI-1120-Example-CodeLib.jl\");"
   ]
  },
  {
   "cell_type": "code",
   "execution_count": 8,
   "id": "27683af7-6288-46fa-9f01-3ba79bd989d4",
   "metadata": {},
   "outputs": [],
   "source": [
    "# Build network from last time -\n",
    "# Setup a collection of reaction strings -\n",
    "reaction_array = Array{String,1}()\n",
    "\n",
    "# encode the reactions -\n",
    "# internal reactions -\n",
    "push!(reaction_array,\"v₁,A₁+x,B+y,false\")\n",
    "push!(reaction_array,\"v₂,B,P,false\")\n",
    "push!(reaction_array,\"v₃,A₂+y,C+x,false\")\n",
    "\n",
    "# compute the stoichiometric matrix -\n",
    "# the optional expand arguement = should we split reversible reactions? (default: false)\n",
    "(S, species_name_array, reaction_name_array) = build_stoichiometric_matrix(reaction_array; \n",
    "    expand=false);"
   ]
  },
  {
   "cell_type": "code",
   "execution_count": 9,
   "id": "53718840-762c-4c1b-93e4-cace7e253127",
   "metadata": {},
   "outputs": [],
   "source": [
    "(ℳ, ℛ) = size(S);"
   ]
  },
  {
   "cell_type": "code",
   "execution_count": 10,
   "id": "a4be0a26-3145-4987-8903-a6e1ce13745e",
   "metadata": {},
   "outputs": [
    {
     "data": {
      "text/plain": [
       "7-element Vector{String}:\n",
       " \"A₁\"\n",
       " \"A₂\"\n",
       " \"B\"\n",
       " \"C\"\n",
       " \"P\"\n",
       " \"x\"\n",
       " \"y\""
      ]
     },
     "execution_count": 10,
     "metadata": {},
     "output_type": "execute_result"
    }
   ],
   "source": [
    "species_name_array"
   ]
  },
  {
   "cell_type": "code",
   "execution_count": 4,
   "id": "2c703274-5e97-4306-aa06-393b2558ff7d",
   "metadata": {},
   "outputs": [
    {
     "ename": "LoadError",
     "evalue": "UndefVarError: ℳ not defined",
     "output_type": "error",
     "traceback": [
      "UndefVarError: ℳ not defined",
      "",
      "Stacktrace:",
      " [1] top-level scope",
      "   @ In[4]:5",
      " [2] eval",
      "   @ ./boot.jl:368 [inlined]",
      " [3] include_string(mapexpr::typeof(REPL.softscope), mod::Module, code::String, filename::String)",
      "   @ Base ./loading.jl:1428"
     ]
    }
   ],
   "source": [
    "# define the split -\n",
    "θ = 0.75\n",
    "\n",
    "# most of the \"stuff\" has a 1 - θ in the up, and a θ in the down\n",
    "u = (1-θ)*ones(ℳ,1)\n",
    "d = θ*ones(ℳ,1)\n",
    "\n",
    "# However: the desired product has the opposite => correct for my compound of interest -\n",
    "idx_target_compound = 5; # desired product is P -\n",
    "\n",
    "# correct defaults -\n",
    "u[idx_target_compound] = θ\n",
    "d[idx_target_compound] = 1 - θ\n",
    "\n",
    "# let's compute the composition of the *always up* stream -\n",
    "\n",
    "# how many levels are we going to have?\n",
    "number_of_levels = 7\n",
    "\n",
    "# initialize some storage -\n",
    "species_mole_flow_array_top = zeros(ℳ,number_of_levels)\n",
    "species_mole_flow_array_bottom = zeros(ℳ,number_of_levels)\n",
    "\n",
    "for species_index = 1:ℳ\n",
    "    value = mole_dot_output[species_index]\n",
    "    species_mole_flow_array_top[species_index,1] = value\n",
    "    species_mole_flow_array_bottom[species_index,1] = value\n",
    "end\n",
    "\n",
    "for level = 2:number_of_levels\n",
    "\n",
    "    # compute the mass flows coming out of the top -\n",
    "    mole_dot_top = mole_dot_output.*(u.^(level-1))\n",
    "    mole_dot_bottom = mole_dot_output.*(d.^(level-1))\n",
    "\n",
    "    # update my storage array -\n",
    "    for species_index = 1:ℳ\n",
    "        species_mole_flow_array_top[species_index,level] = m_mole_top[species_index]\n",
    "        species_mole_flow_array_bottom[species_index,level] = m_mole_bottom[species_index]\n",
    "    end\n",
    "end\n",
    "\n",
    "# what is the mass fraction in the top stream -\n",
    "species_mole_fraction_array_top = zeros(ℳ,number_of_levels)\n",
    "species_mole_fraction_array_bottom = zeros(ℳ,number_of_levels)\n",
    "\n",
    "# this is a dumb way to do this ... you're better than that JV come on ...\n",
    "T_top = sum(species_mole_flow_array_top,dims=1)\n",
    "T_bottom = sum(species_mole_flow_array_bottom,dims=1)\n",
    "for level = 1:number_of_levels\n",
    "\n",
    "    # get the total for this level -\n",
    "    T_level_top = T_top[level]\n",
    "    T_level_bottom = T_bottom[level]\n",
    "\n",
    "    for species_index = 1:ℳ\n",
    "        species_mole_fraction_array_top[species_index,level] = (1/T_level_top)*(species_mole_flow_array_top[species_index,level])\n",
    "        species_mole_fraction_array_bottom[species_index,level] = (1/T_level_bottom)*(species_mole_flow_array_bottom[species_index,level])\n",
    "    end\n",
    "end"
   ]
  },
  {
   "cell_type": "code",
   "execution_count": null,
   "id": "36280fa7-4412-4b05-9b8a-74c4f2725d2c",
   "metadata": {},
   "outputs": [],
   "source": []
  }
 ],
 "metadata": {
  "kernelspec": {
   "display_name": "Julia 1.8.0",
   "language": "julia",
   "name": "julia-1.8"
  },
  "language_info": {
   "file_extension": ".jl",
   "mimetype": "application/julia",
   "name": "julia",
   "version": "1.8.2"
  }
 },
 "nbformat": 4,
 "nbformat_minor": 5
}
