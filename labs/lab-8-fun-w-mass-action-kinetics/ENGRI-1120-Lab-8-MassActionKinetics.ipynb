{
 "cells": [
  {
   "cell_type": "markdown",
   "id": "c85435da-4113-4dd7-b79f-daf9b19d0a91",
   "metadata": {},
   "source": [
    "# ENGRI 1120 Lab 8: Analysis of continuous stirred tank reactor with a single irreversible chemical reaction"
   ]
  },
  {
   "cell_type": "markdown",
   "id": "6beac8ab-7b74-42f1-b95a-b9e28583cd5e",
   "metadata": {},
   "source": [
    "<img src=\"figs/Fig-Lab-8-Reactor.png\" style=\"width:40%\">"
   ]
  },
  {
   "cell_type": "markdown",
   "id": "4c02b17a-1d8e-4d36-95b5-a13f2fc5f901",
   "metadata": {},
   "source": [
    "##### __Fig. 1__. Chemical reactor schematic. A single liquid phase reaction produces the product $P$ from the precursor molecules $A$ and $B$."
   ]
  },
  {
   "cell_type": "markdown",
   "id": "67200caa-49ae-40c5-b7e7-72433a19f65f",
   "metadata": {},
   "source": [
    "### Introduction\n",
    "Suppose we have a reaction set $\\mathcal{R}$ involving the species set $\\mathcal{M}$ that is occurring in a well-mixed chemical reactor with stream set $\\mathcal{S}$. Then the concentration of component $i\\in\\mathcal{M}$ is given by:\n",
    "\n",
    "$$\\frac{d}{dt}\\left(C_{i}V\\right) = \\sum_{s\\in\\mathcal{S}}v_{s}C_{s,i}\\dot{V}_{s} + \\sum_{r\\in\\mathcal{R}}\\sigma_{ir}\\hat{r}_{r}V\\qquad\\forall{i}\\in\\mathcal{M}$$\n",
    "\n",
    "where $C_{s,i}$ denotes the concentration of component $i\\in\\mathcal{M}$ in stream $s\\in\\mathcal{S}$, $\\sigma_{ir}$ denotes the stoichiometric coefficient for component $i\\in\\mathcal{M}$ in reaction $r\\in\\mathcal{R}$, $\\dot{V}_{s}$ denotes the volumetric flow rate of stream $s\\in\\mathcal{S}$, $V$ denotes the volume of the reaction mixture in the reactor unit, $v_{s}$ denotes the direction parameter for stream $s\\in\\mathcal{S}$ and the quantity $C_{i}$ denotes the concentration of component $i\\in\\mathcal{M}$ in the reaction vessel. Finally, the terms $\\hat{r}_{r}$ denote the _reaction rate per unit volume_ for reaction $r\\in\\mathcal{R}$ that is occurring in the reaction vessel. \n",
    "\n",
    "#### Constant volume, steady-state:\n",
    "When the reaction is at constant volume, we can pull the volume $V$ out of the accumulation term and divide by the volume to give:\n",
    "\n",
    "$$\\frac{dC_{i}}{dt} = \\sum_{s\\in\\mathcal{S}}v_{s}C_{s,i}D_{s} + \\sum_{r\\in\\mathcal{R}}\\sigma_{ir}\\hat{r}_{r}\\qquad\\forall{i}\\in\\mathcal{M}$$\n",
    "\n",
    "where $D_{s}$ is called the _dilution rate_ for stream $s\\in\\mathcal{S}$; the dilution rate has units of inverse time. Finally, at steady-state, all accumulation terms vanish, giving:\n",
    "\n",
    "$$\\sum_{s\\in\\mathcal{S}}v_{s}C_{s,i}D_{s} + \\sum_{r\\in\\mathcal{R}}\\sigma_{ir}\\hat{r}_{r} = 0\\qquad\\forall{i}\\in\\mathcal{M}$$\n",
    "\n",
    "#### Problem setup and assumptions\n",
    "Let's do some calculations for the reactor shown in Fig. 1; an irreversible liquid phase reaction occurs, which converts $A$ and $B$ into product $P$ according to the reaction:\n",
    "\n",
    "$$2A+B\\longrightarrow{P}$$\n",
    "\n",
    "at the rate $\\hat{r}_{1}$ (units: mol/volume-time). The volume of the reaction mixture $V$ = 5L. Stream 1 has a volumetric flow rate $\\dot{V}_{1}$ = 200 mL/h and Stream 2 has a volumetric flow rate $\\dot{V}_{2}$ = 300 mL/h. The concentration(s) of $A$ in the stream 1 is $C_{1,1}$ = 50 mmol/L, there is no $B$ and $C$ in stream $1$. The concentration(s) of $B$ in the stream 2 is $C_{2,2}$ = 75 mmol/L, there is no $A$ or $C$ in stream $2$. The rate constant for rate $1$ is given by: $k_{1}$ = 0.56 units. \n",
    "\n",
    "__Assumptions__:\n",
    "* The reactor is well-mixed\n",
    "* The rate of reaction for $\\hat{r}_{1}$ follows mass action kinetics\n",
    "* Let A = index 1, B = index 2 and C = index 3"
   ]
  },
  {
   "cell_type": "markdown",
   "id": "e1458338-113e-4cd2-a289-d304bbbfbb78",
   "metadata": {},
   "source": [
    "### Lab setup\n",
    "The code block below installs (and loads) [Julia](https://julialang.org) packages that we use to solve the species concentration balance equations."
   ]
  },
  {
   "cell_type": "code",
   "execution_count": 1,
   "id": "38abdb6c-6bbc-4e44-a77e-144ac30ea4b3",
   "metadata": {},
   "outputs": [
    {
     "name": "stderr",
     "output_type": "stream",
     "text": [
      "\u001b[32m\u001b[1m  Activating\u001b[22m\u001b[39m project at `~/Desktop/julia_work/ENGRI-1120-IntroToChemE-Example-Notebooks/labs/lab-8-fun-w-mass-action-kinetics`\n",
      "\u001b[32m\u001b[1m  No Changes\u001b[22m\u001b[39m to `~/Desktop/julia_work/ENGRI-1120-IntroToChemE-Example-Notebooks/labs/lab-8-fun-w-mass-action-kinetics/Project.toml`\n",
      "\u001b[32m\u001b[1m  No Changes\u001b[22m\u001b[39m to `~/Desktop/julia_work/ENGRI-1120-IntroToChemE-Example-Notebooks/labs/lab-8-fun-w-mass-action-kinetics/Manifest.toml`\n"
     ]
    }
   ],
   "source": [
    "import Pkg; Pkg.activate(\".\"); Pkg.resolve(); Pkg.instantiate();"
   ]
  },
  {
   "cell_type": "code",
   "execution_count": 2,
   "id": "46486a93-a535-47f1-81d9-6bdede67d46c",
   "metadata": {},
   "outputs": [],
   "source": [
    "# load required packages \n",
    "using DifferentialEquations\n",
    "using Optim\n",
    "using Plots\n",
    "using Colors\n",
    "\n",
    "# setup paths -\n",
    "const _ROOT = pwd();\n",
    "const _PATH_TO_FIGS = joinpath(_ROOT, \"figs\");"
   ]
  },
  {
   "cell_type": "markdown",
   "id": "63127e70-c0d8-4c48-bb35-4c1a7c19c0d1",
   "metadata": {},
   "source": [
    "#### Load the Lab 8 code library\n",
    "The call to the `include` function loads the `ENGRI-1120-Lab-6-CodeLib.jl` library into the notebook; the library contains functions we can use during the lab. In particular:\n",
    "\n",
    "#### Functions\n",
    "* The `kinetics(x::Array{Float64,1}, k::Float64) -> Float64` function computes the value of reaction rate $\\hat{r}_{1}$ given the concentrations in the `x::Array{Float64,1}` array and the rate constant `k::Float64`.\n",
    "* The `evaluate(model::Dict{String, Any}; tspan::Tuple{Float64, Float64} = (0.0,20.0), Δt::Float64 = 0.01) --> (T,X)` computes the numerical solution of the concentration balances; the time is stored in the `T::Array{Float64,1}` array. The concentrations are stored in the `X::Array{Float64,2}` array; each row of `X::Array{Float64,2}` corresponds to a time point, while each column holds the concentration of a species\n",
    "* The `objfunc(x::Array{Float64,1}, model::Dict{String, Any}) --> Float64` function is called by `Optim` to estimate the `residual` of the concentration balances."
   ]
  },
  {
   "cell_type": "code",
   "execution_count": 3,
   "id": "bc8543bd-a8c1-412a-82e4-ec4a552ad5f1",
   "metadata": {},
   "outputs": [],
   "source": [
    "include(\"ENGRI-1120-Lab-8-CodeLib-Soln.jl\");"
   ]
  },
  {
   "cell_type": "code",
   "execution_count": 4,
   "id": "de1274b4-9066-4281-9c11-430edcb184b4",
   "metadata": {},
   "outputs": [],
   "source": [
    "# setup some constants from the problem -\n",
    "V = 5.0; # units: L\n",
    "V̇₁ = 200.0*(1/1000); # units: L/hr\n",
    "V̇₂ = 300.0*(1/1000); # units: L/hr\n",
    "\n",
    "# rate constant -\n",
    "k₁ = 0.56;\n",
    "\n",
    "# Feed concentrations -\n",
    "A_in = 50.0; # units: mmol/L\n",
    "B_in = 75.0; # units: mmol/L\n",
    "C_in = 0.0;  # units: mmol/L (no product in any feed)\n",
    "\n",
    "# initial condition in the reactor -\n",
    "xₒ = [0.1, 0.1, 1e-6];"
   ]
  },
  {
   "cell_type": "markdown",
   "id": "d1d58ece-ac04-4ba9-9cdb-58ac9112976e",
   "metadata": {},
   "source": [
    "### Setup task: Write the concentration balances for $A$, $B$ and $C$."
   ]
  },
  {
   "cell_type": "code",
   "execution_count": 13,
   "id": "f57a6ad4-9c2e-4a90-8b0e-069996955f95",
   "metadata": {},
   "outputs": [],
   "source": [
    "# use a Markdown cell and write the stready-state concentration balance equations in LaTeX!\n",
    "\n",
    "# new to LaTex?: look at the introduction, and/or check out\n",
    "# link: https://typeset.io/resources/learn-latex-beginners-step-by-step-guide/#what-is-latex"
   ]
  },
  {
   "cell_type": "markdown",
   "id": "70331b96-0354-4077-81eb-b8da4023fbce",
   "metadata": {},
   "source": [
    "### Setup task: Formulate the stoichiometric array, the composition array and the dilution vector"
   ]
  },
  {
   "cell_type": "code",
   "execution_count": 14,
   "id": "8aee4b2a-0802-4448-88ea-a212e302fed9",
   "metadata": {},
   "outputs": [],
   "source": [
    "# setup stoichiometric array -\n",
    "# fill me in ....\n",
    "\n",
    "# setup the dilution rate vector -\n",
    "# fill me in ...\n",
    "\n",
    "# setup concentration array -\n",
    "# the concentration array will be a species x streams array holding concentration values (put all zeros for the exit streams)\n",
    "# fill me in ..."
   ]
  },
  {
   "cell_type": "markdown",
   "id": "2bcd111b-8d47-4bab-86d2-42f7e0d9c199",
   "metadata": {},
   "source": [
    "### Setup task: Put all our data into a `model` dictionary\n",
    "Dictionary is a fantastic data structure [check out the documentation for more information](https://docs.julialang.org/en/v1/base/collections/#Dictionaries). "
   ]
  },
  {
   "cell_type": "code",
   "execution_count": 6,
   "id": "7dad88b5-b909-462b-b06c-6ca0bd57503f",
   "metadata": {},
   "outputs": [],
   "source": [
    "# initialize Dict data structrure -\n",
    "model = Dict{String, Any}();\n",
    "\n",
    "# data set by you in the model dictionary\n",
    "# fill me in ... check the CodeLib to see what the evaluate method is expecting ..."
   ]
  },
  {
   "cell_type": "markdown",
   "id": "b485fc7d-ff01-4f81-a5b9-289e94ce1580",
   "metadata": {
    "tags": []
   },
   "source": [
    "### a) Estimate of the dynamic concentration for a constant feed\n",
    "To estimate the `dynamics` in the reactor, we need to numerically solve the differential concentration balance equations, e.g., using methods such as the [Euler method](https://en.wikipedia.org/wiki/Euler_method). We'll use more sophisticated methods found in [DifferentialEquations.jl](https://diffeq.sciml.ai/stable/). To interface with these solvers, use the `evaluate` function imported from `ENGRI-1120-Lab-8-CodeLib-Soln.jl`.\n",
    "\n",
    "Solve the system for 30 hours of time, with a `saveat` value of 0.01"
   ]
  },
  {
   "cell_type": "code",
   "execution_count": 7,
   "id": "e0c5a854-a94b-46a5-875a-8003cedc6deb",
   "metadata": {},
   "outputs": [],
   "source": [
    "# Call the evalaute method here -\n",
    "# fill me in ...\n",
    "\n",
    "# make a plot of time versus the concentration of A, B and C"
   ]
  },
  {
   "cell_type": "markdown",
   "id": "6b1236ad-31cb-4e25-a827-5fc8747e0439",
   "metadata": {
    "tags": []
   },
   "source": [
    "### b) Estimate the steady state exit composition as an optimization problem\n",
    "To estimate the steady-state concentration, we need to solve an `optimization` problem, i.e., we need to `search` for exit concentrations that make our concentration balances zero. We do this via the [Optim.jl](https://julianlsolvers.github.io/Optim.jl/stable/) package. The problem we are solving is to find a concentration vector $x$ that makes the residual $\\epsilon$ small:\n",
    "\n",
    "$$\\min_{x}\\epsilon^{T}\\epsilon$$\n",
    "\n",
    "subject to the constraints on the concentration $0\\leq{x}\\leq\\infty$. We'll use a derivative-free search method called [Nelder-Mead](https://en.wikipedia.org/wiki/Nelder–Mead_method) to generate candidate values for the concentration vector $x$; we'll keep generating guesses and checking their residual values until we find a candidate solution that meets some smallness criteria."
   ]
  },
  {
   "cell_type": "code",
   "execution_count": 8,
   "id": "ec449925-f4a3-4ed9-b89a-c6ce70075bd0",
   "metadata": {},
   "outputs": [],
   "source": [
    "# Setup and solve the optimization problem. Hint: look at the HFCS example\n",
    "# Fill me in."
   ]
  },
  {
   "cell_type": "code",
   "execution_count": 9,
   "id": "46e50031-a63b-48d3-b116-af19ad89e211",
   "metadata": {},
   "outputs": [],
   "source": [
    "# get the optimal solution from the opt_result object.\n",
    "# fill me in"
   ]
  },
  {
   "cell_type": "markdown",
   "id": "57bc9239-46f4-4c7c-9461-bea6183c49b1",
   "metadata": {},
   "source": [
    "### c) Visualize the dynamic and steady-state solutions"
   ]
  },
  {
   "cell_type": "code",
   "execution_count": 10,
   "id": "3a826c21-14fe-4a2d-8536-720bf1b83844",
   "metadata": {},
   "outputs": [],
   "source": [
    "# On the same axis, plot the steady-state and dynamic solutions for A, B and C\n",
    "# fill me in"
   ]
  },
  {
   "cell_type": "markdown",
   "id": "68f3e54c-7b34-47c9-9410-d8dac65208c8",
   "metadata": {},
   "source": [
    "### d) Wow! This takes a long time to reach steady-state. How can we change this to shorten the time we have to wait?"
   ]
  },
  {
   "cell_type": "code",
   "execution_count": 11,
   "id": "33347478-bce9-4196-911a-92918a16ee1c",
   "metadata": {},
   "outputs": [],
   "source": [
    "# your ideas go here ... check them by running some simulations!"
   ]
  }
 ],
 "metadata": {
  "kernelspec": {
   "display_name": "Julia 1.8.0",
   "language": "julia",
   "name": "julia-1.8"
  },
  "language_info": {
   "file_extension": ".jl",
   "mimetype": "application/julia",
   "name": "julia",
   "version": "1.8.2"
  }
 },
 "nbformat": 4,
 "nbformat_minor": 5
}
