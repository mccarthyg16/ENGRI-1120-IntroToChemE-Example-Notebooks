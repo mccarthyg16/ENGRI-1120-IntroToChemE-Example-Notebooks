{
 "cells": [
  {
   "cell_type": "markdown",
   "metadata": {},
   "source": [
    "# ENGRI 1120 Discussion 3: Fun With Turbines and Compressors"
   ]
  },
  {
   "cell_type": "markdown",
   "metadata": {},
   "source": [
    "Turbines and compressors are key process units in the [Rankine Cycle](https://en.wikipedia.org/wiki/Rankine_cycle), which is used for power generation, and the [vapor-compression refrigeration cycle](https://en.wikipedia.org/wiki/Vapor-compression_refrigeration) which is used for cooling applications. Let's do some calculations with a Turbine."
   ]
  },
  {
   "cell_type": "markdown",
   "metadata": {},
   "source": [
    "#### Theory: Non-ideal Turbine\n",
    "Let's start from the steady-state open energy balance equation:\n",
    "\n",
    "\\begin{equation}\n",
    "\t\\dot{Q}+\\dot{W}^{\\star}_{sh} + \\sum_{s\\in\\mathcal{S}}\\nu_{s}H_{s}\\dot{m}_{s}  =  0\n",
    "\\end{equation}\n",
    "\n",
    "where $\\dot{W}^{\\star}_{s}$ denotes either the real or ideal work. The ideal work for a turbine is the maximum work we can recover, while the actual work is what we get; real work contains process non-idealities or irreversible changes. The turbine is insulated, so $\\dot{Q}_{s}$ = 0; after rearranging, we get an expression for the real work:\n",
    "\n",
    "\\begin{equation}\n",
    "\\dot{W}^{*}_{sh} = \\dot{m}\\Bigl(H^{*}_{3} - H_{2}\\Bigr)_{I}\n",
    "\\end{equation}\n",
    "\n",
    "The superscript $I$ denotes the _irreversible or real_ enthalpy change, and $H_{3}^{*}$ denotes the _actual_ enthalpy at operating point 3. However, we don’t know $H_{3}^{*}$ without running the turbine. But, we know that efficiency is the fraction of the enthalpy we recover:\n",
    "\n",
    "\\begin{equation}\n",
    "\\eta_{T} = \\frac{\\Delta{H}_{I}}{\\Delta{H}_{R}}\n",
    "\\end{equation}\n",
    "\n",
    "where $\\Delta{H}_{I}$ denotes the real enthalpy change (irreversible), and $\\Delta{H}_{R}$ denotes the ideal enthalpy change (no entropy creation). Thus, we can substitute the $\\eta_{T}$ into the work expression to put the work in terms of the ideal enthalpy change that we can look up from a steam table or pressure enthalpy diagram:\n",
    "\n",
    "\\begin{equation}\n",
    "\\dot{W}^{*}_{sh} = \\eta_{T}\\Bigl[\\dot{m}\\bigl(H_{3} - H_{2}\\bigr)_{R}\\Bigr]\n",
    "\\end{equation}\n",
    "\n",
    "where the subscript $R$ denotes the reversible (ideal) enthalpy change."
   ]
  },
  {
   "cell_type": "markdown",
   "metadata": {},
   "source": [
    "### Problems\n",
    "1. Compute the steady-state rate of shaft work (actual) $\\dot{W}^{*}_{sh}$ (units: kW), and the irreversible enthlapy change for an insulated turbine with efficiency of $\\eta$=86\\%. The working fluid is water with a steady-state flow rate of $\\dot{m}$ = 4.0 kg/s. Let the input temperature T$_{2}$ = 500$^{\\circ}$C and pressure P$_{2}$ = 11 MPa. The temperature of the exit stream from the turbine is T$_{3}$ = 100$^{\\circ}$C.\n",
    "1. Compute the fraction of water vapor (quality) at the outlet of the turbine at $O_{3}$ assuming an ideal turbine."
   ]
  },
  {
   "cell_type": "markdown",
   "metadata": {},
   "source": [
    "### Pressure Enthalpy Diagram for Water\n",
    "You can estimate the enthalpy for the turbine problem from a pressure enthalpy diagram, from a steam table or by using the [NIST Chemistry Webbook](https://webbook.nist.gov). "
   ]
  },
  {
   "cell_type": "markdown",
   "metadata": {},
   "source": [
    "<figure>\n",
    "<img src=\"figs/PH-diagram-Water-OPs.pdf\" style=\"width:80%\">\n",
    "</figure>"
   ]
  },
  {
   "cell_type": "markdown",
   "metadata": {},
   "source": [
    "__Fig 1__. Pressure enthalpy diagram for water where we have labeled the two operating points for the Rankine turbine problem. Operating points: $O_{2}$ is the input to the turbine while $O_{3}$ is the turbine outlet."
   ]
  },
  {
   "cell_type": "code",
   "execution_count": 7,
   "metadata": {},
   "outputs": [],
   "source": [
    "# Parameters\n",
    "ṁ = 4.0;  # mass flow rate water units: kg/s\n",
    "η = 0.86; # efficiency of the turbine"
   ]
  },
  {
   "cell_type": "markdown",
   "metadata": {},
   "source": [
    "### Compute steady-state shaft work and the reversible/irreversible enthalpy change"
   ]
  },
  {
   "cell_type": "code",
   "execution_count": 11,
   "metadata": {},
   "outputs": [],
   "source": [
    "# Estimate H₂ and H₃ assuming an ideal turbine using the PH-diagram"
   ]
  },
  {
   "cell_type": "code",
   "execution_count": 17,
   "metadata": {},
   "outputs": [],
   "source": [
    "# Estimate H₂ and H₃ using NIST or the steam table (included in the data folder)"
   ]
  },
  {
   "cell_type": "code",
   "execution_count": 16,
   "metadata": {},
   "outputs": [],
   "source": [
    "# Compute the work recovered from the turbine (using both from the PH-diagram and from the steam table or NIST). \n",
    "# What is the percentange error we can expect by using the PH diagram?"
   ]
  },
  {
   "cell_type": "code",
   "execution_count": 10,
   "metadata": {},
   "outputs": [],
   "source": [
    "# What is the irreversible enthlapy change?"
   ]
  },
  {
   "cell_type": "markdown",
   "metadata": {},
   "source": [
    "### Compute the steam quality at the turbine outlet for an ideal turbine\n",
    "Use the steam table in the data folder (or the [NIST Chemistry Webbook](https://webbook.nist.gov)) to compute the quality of the steam at the turbine outlet where we assume an ideal turbine.\n",
    "\n",
    "#### Theory\n",
    "The quality of the steam, which is denoted as $\\theta$, can be estimated by interpolation:\n",
    "\n",
    "$$H_{3} = {\\theta}H_{v}+\\left(1-\\theta\\right)H_{l}$$\n",
    "\n",
    "where $H_{v}$ and $H_{l}$ denote the saturation enthalpy for the vapor (right side of the dome) and the liquid (left side of the dome)."
   ]
  },
  {
   "cell_type": "code",
   "execution_count": 22,
   "metadata": {},
   "outputs": [],
   "source": [
    "# Look up from steam-table (or from NIST) the saturated enthaply values Hᵥ and Hₗ at operating point O₃ (P₃ = 100 kPa)"
   ]
  },
  {
   "cell_type": "code",
   "execution_count": 20,
   "metadata": {},
   "outputs": [],
   "source": [
    "# Develop an expression for θ, plug numbers in for the ideal case"
   ]
  }
 ],
 "metadata": {
  "kernelspec": {
   "display_name": "Julia 1.8.0",
   "language": "julia",
   "name": "julia-1.8"
  },
  "language_info": {
   "file_extension": ".jl",
   "mimetype": "application/julia",
   "name": "julia",
   "version": "1.8.0"
  }
 },
 "nbformat": 4,
 "nbformat_minor": 4
}
