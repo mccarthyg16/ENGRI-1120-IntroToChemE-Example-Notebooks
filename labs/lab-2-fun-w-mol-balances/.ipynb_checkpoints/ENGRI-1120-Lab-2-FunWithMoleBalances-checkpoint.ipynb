{
 "cells": [
  {
   "cell_type": "markdown",
   "id": "30d08686-3bb8-40c7-afab-d1a3c8dc8d70",
   "metadata": {},
   "source": [
    "# ENGRI 1120 Discussion 2: Fun With Total and Species Mole Balances"
   ]
  },
  {
   "cell_type": "markdown",
   "id": "aed940af-7a03-472a-8087-324e145c5d1c",
   "metadata": {},
   "source": [
    "## Introduction\n",
    "\n",
    "The teaching team built a reactor in the basement of Olin Hall to produce H$_{2}(g)$ continuously by decomposing NH$_{3}(g)$ according to the reaction:\n",
    "\n",
    "$$2NH_{3}~{\\rightleftharpoons}~{N_{2}+3H_{2}}$$\n",
    "\n",
    "The reactor has a single feed stream, and a single outlet stream. The feed stream into the reactor (stream 1) consists of 32.0 mol/s of NH$_{3}$(g) and 0.1 mol/s of H$_{2}$O(g) (a contaminant that does not participate in the reaction).  There are no products in the feed stream. At the outlet (stream 2), the teaching team measured 47.24 mol/s of H$_{2}$ leaving the reactor.\n",
    "\n",
    "__Assumptions__\n",
    "* The gas phase is ideal\n",
    "* The reactor operates at steady-state\n",
    "* The reactor has a constant T, P and V\n",
    "\n",
    "__Compute__\n",
    "* Compute the open extent of reaction $\\dot{\\epsilon}_{1}$ for the decomposition reaction\n",
    "* Compute the missing values in the state table.\n",
    "* Compute the fractional conversion of NH$_{3}$(g)."
   ]
  },
  {
   "cell_type": "code",
   "execution_count": 1,
   "id": "fa08d3f3-9616-4351-9bbf-642bd9c29392",
   "metadata": {},
   "outputs": [
    {
     "name": "stderr",
     "output_type": "stream",
     "text": [
      "\u001b[32m\u001b[1m  Activating\u001b[22m\u001b[39m project at `~/Desktop/julia_work/ENGRI-1120-IntroToChemE-Example-Notebooks/labs/lab-2-fun-w-mol-balances`\n",
      "\u001b[32m\u001b[1m  No Changes\u001b[22m\u001b[39m to `~/Desktop/julia_work/ENGRI-1120-IntroToChemE-Example-Notebooks/labs/lab-2-fun-w-mol-balances/Project.toml`\n",
      "\u001b[32m\u001b[1m  No Changes\u001b[22m\u001b[39m to `~/Desktop/julia_work/ENGRI-1120-IntroToChemE-Example-Notebooks/labs/lab-2-fun-w-mol-balances/Manifest.toml`\n"
     ]
    }
   ],
   "source": [
    "import Pkg; Pkg.activate(\".\"); Pkg.resolve(); Pkg.instantiate();"
   ]
  },
  {
   "cell_type": "code",
   "execution_count": 2,
   "id": "bd8fbe91-588e-405c-9469-5fdcac1db420",
   "metadata": {},
   "outputs": [],
   "source": [
    "using PrettyTables"
   ]
  },
  {
   "cell_type": "markdown",
   "id": "04a4d70d-8f54-4342-bbbc-5090b5dc80e2",
   "metadata": {
    "tags": []
   },
   "source": [
    "#### a) Compute the open extent of reaction $\\dot{\\epsilon}_{1}$ (units: mol/s) for NH$_{3}$(g) decomposition.\n",
    "To compute the open extent of reaction $\\dot{\\epsilon}_{1}$, start by writing down the species mole balances for NH$_{3}$ (1), \n",
    "N$_{2}$ (2), H$_{2}$ (3) and H$_{2}$O (4) at steady-state. Then, substitute what you know from the problem statement. A magical path to $\\dot{\\epsilon}_{1}$ will then appear."
   ]
  },
  {
   "cell_type": "code",
   "execution_count": null,
   "id": "ecf6920b-c870-41c5-a11a-767760a1f1c1",
   "metadata": {},
   "outputs": [],
   "source": [
    "# fill me in."
   ]
  },
  {
   "cell_type": "markdown",
   "id": "63e123d1-1660-42f4-9746-b6f504c61d67",
   "metadata": {},
   "source": [
    "#### b) Complete a state table for the open NH$_{3}$ problem"
   ]
  },
  {
   "cell_type": "code",
   "execution_count": 5,
   "id": "0e371d2f-dcfc-4863-a018-e581c13192a3",
   "metadata": {},
   "outputs": [
    {
     "name": "stdout",
     "output_type": "stream",
     "text": [
      "┌─────────┬────────┬───────────┬────────────┬────────┐\n",
      "│\u001b[1m Species \u001b[0m│\u001b[1m   σ_i1 \u001b[0m│\u001b[1m nᵢ_dot_in \u001b[0m│\u001b[1m nᵢ_dot_out \u001b[0m│\u001b[1m yᵢ_out \u001b[0m│\n",
      "│\u001b[90m         \u001b[0m│\u001b[90m        \u001b[0m│\u001b[90m     mol/s \u001b[0m│\u001b[90m      mol/s \u001b[0m│\u001b[90m        \u001b[0m│\n",
      "├─────────┼────────┼───────────┼────────────┼────────┤\n",
      "│     NH₃ │ #undef │    #undef │     #undef │ #undef │\n",
      "│      N₂ │ #undef │    #undef │     #undef │ #undef │\n",
      "│      H₂ │ #undef │    #undef │     #undef │ #undef │\n",
      "│     H₂O │ #undef │    #undef │     #undef │ #undef │\n",
      "│   Total │ #undef │    #undef │     #undef │ #undef │\n",
      "└─────────┴────────┴───────────┴────────────┴────────┘\n"
     ]
    }
   ],
   "source": [
    "# build a pretty table -\n",
    "# header row -\n",
    "state_table_header_row = ([\"Species\",\"σ_i1\",\"nᵢ_dot_in\",\"nᵢ_dot_out\",\"yᵢ_out\"],[\"\",\"\",\"mol/s\", \"mol/s\", \"\"]);\n",
    "\n",
    "# setup state table data array =\n",
    "state_table_array = Array{Any,2}(undef, 5,5)\n",
    "\n",
    "# add the species to the state table -\n",
    "# row 1\n",
    "state_table_array[1,1] = \"NH₃\"\n",
    "\n",
    "# row 2\n",
    "state_table_array[2,1] = \"N₂\"\n",
    "\n",
    "# row 3\n",
    "state_table_array[3,1] = \"H₂\"\n",
    "\n",
    "# row 4\n",
    "state_table_array[4,1] = \"H₂O\"\n",
    "\n",
    "# row 5\n",
    "state_table_array[5,1] = \"Total\"\n",
    "\n",
    "# Show the table\n",
    "pretty_table(state_table_array; header=state_table_header_row)"
   ]
  },
  {
   "cell_type": "markdown",
   "id": "38b2c307-c9f5-4f2a-8417-ebcaae22f6c8",
   "metadata": {},
   "source": [
    "#### c) Compute the fractional conversion of NH$_{3}$(g)\n",
    "For an open system with a single input and a single output, the fractional conversion $f_{i}$ for reaction $i$ is defined as:\n",
    "\n",
    "$$f_{i} = \\frac{\\dot{n}_{1,i} - \\dot{n}_{2,i}}{\\dot{n}_{1,i}}\\qquad{i=1}$$\n",
    "\n",
    "In the numerator, we are computing the consumption of reactant species $i$ by the reaction in the reactor, and then dividing by the mol flow rate of $i$ entering into the reactor."
   ]
  },
  {
   "cell_type": "code",
   "execution_count": null,
   "id": "c53ffb4d-e672-4a3a-b1c0-31542886e646",
   "metadata": {},
   "outputs": [],
   "source": [
    "# fill me in."
   ]
  }
 ],
 "metadata": {
  "kernelspec": {
   "display_name": "Julia 1.8.0",
   "language": "julia",
   "name": "julia-1.8"
  },
  "language_info": {
   "file_extension": ".jl",
   "mimetype": "application/julia",
   "name": "julia",
   "version": "1.8.1"
  }
 },
 "nbformat": 4,
 "nbformat_minor": 5
}
