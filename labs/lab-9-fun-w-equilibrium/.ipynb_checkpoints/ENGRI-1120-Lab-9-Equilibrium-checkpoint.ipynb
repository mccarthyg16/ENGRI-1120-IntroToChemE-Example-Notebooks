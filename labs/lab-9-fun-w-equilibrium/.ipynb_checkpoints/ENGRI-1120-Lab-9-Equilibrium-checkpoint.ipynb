{
 "cells": [
  {
   "cell_type": "markdown",
   "id": "0522cfbd-0a79-40b9-9715-f6ee89962f37",
   "metadata": {},
   "source": [
    "# ENGRI 1120 Lab 9: Computation of an Equilibrium Constant"
   ]
  },
  {
   "cell_type": "markdown",
   "id": "719caa4c-c199-40d0-a08b-3dd1af33c6cd",
   "metadata": {},
   "source": [
    "### Introduction\n",
    "One potential strategy to generate clean hydrogen gas $H_{2}(g)$ for use in applications such as transportation is to directly decompose ammonia NH$_{3}(g)$ in the gas phase reaction:\n",
    "\n",
    "$$2NH_{3}(g)~{\\rightleftharpoons}~N_{2}(g)+3H_{2}(g)$$\n",
    "\n",
    "Let's explore the equilibrium behavior of this reaction in a constant volume well-mixed _batch_ reactor (no input or output streams) with $V$ = 100 L operating at T = 900$^{\\circ}$C and an unknown pressure (measured in units of MPa). \n",
    "\n",
    "Initially, there are 100 mol of NH$_{3}(g)$ and no products in the reactor. The teaching team measured the equilibrium extent of reaction $\\epsilon_{1}^{\\star}$ = 34.14 mol.\n",
    "\n",
    "__Assumptions__\n",
    "* The gas phase can be treated as ideal\n",
    "* The ideal gas law can be used to describe the conditions in the reactor\n",
    "* The reference pressure is $P^{\\circ}$ = 100 MPa\n",
    "* R = 0.008314 L MPa mol$^{-1}$ K$^{-1}$ and R = 0.008314 kJ mol$^{-1}$ K$^{-1}$ "
   ]
  },
  {
   "cell_type": "markdown",
   "id": "0cc14203-0a58-4bbb-b82c-dbb821321d96",
   "metadata": {},
   "source": [
    "### Lab setup"
   ]
  },
  {
   "cell_type": "code",
   "execution_count": 1,
   "id": "d99ea894-cbdc-431d-8dd9-a60968b0183e",
   "metadata": {},
   "outputs": [
    {
     "name": "stderr",
     "output_type": "stream",
     "text": [
      "\u001b[32m\u001b[1m  Activating\u001b[22m\u001b[39m project at `~/Desktop/julia_work/ENGRI-1120-IntroToChemE-Example-Notebooks/labs/lab-9-fun-w-equilibrium`\n",
      "\u001b[32m\u001b[1m  No Changes\u001b[22m\u001b[39m to `~/Desktop/julia_work/ENGRI-1120-IntroToChemE-Example-Notebooks/labs/lab-9-fun-w-equilibrium/Project.toml`\n",
      "\u001b[32m\u001b[1m  No Changes\u001b[22m\u001b[39m to `~/Desktop/julia_work/ENGRI-1120-IntroToChemE-Example-Notebooks/labs/lab-9-fun-w-equilibrium/Manifest.toml`\n"
     ]
    }
   ],
   "source": [
    "import Pkg; Pkg.activate(\".\"); Pkg.resolve(); Pkg.instantiate();"
   ]
  },
  {
   "cell_type": "code",
   "execution_count": 2,
   "id": "00c10b12-90bf-4762-8928-2b9890b980a1",
   "metadata": {},
   "outputs": [],
   "source": [
    "# load req packages -\n",
    "using PrettyTables"
   ]
  },
  {
   "cell_type": "markdown",
   "id": "cbbb3d73-b492-42ee-a9f4-ec91555aee2f",
   "metadata": {},
   "source": [
    "### a) Compute the system state table\n",
    "To compute the missing values in the state table, use the equilibrium extent $\\epsilon_{1}^{\\star}$ and the mole balances to compute the number of mole of component $i$ at equilibrium:\n",
    "\n",
    "$$n_{i} = n_{i}^{\\circ}+\\sigma_{i1}\\epsilon_{1}^{\\star}\\qquad{i=1,2,\\dots,\\mathcal{M}}$$\n",
    "\n",
    "Then compute the mole fractions that are required to estimate $K$. "
   ]
  },
  {
   "cell_type": "code",
   "execution_count": 9,
   "id": "9f8f6a27-b698-4a83-ba8d-fadda3158ef4",
   "metadata": {},
   "outputs": [
    {
     "name": "stdout",
     "output_type": "stream",
     "text": [
      "┌─────────┬────────┬────────────┬──────────┬──────────┐\n",
      "│\u001b[1m Species \u001b[0m│\u001b[1m   σ_i1 \u001b[0m│\u001b[1m nᵢ_initial \u001b[0m│\u001b[1m nᵢ_final \u001b[0m│\u001b[1m yᵢ_final \u001b[0m│\n",
      "│\u001b[90m         \u001b[0m│\u001b[90m        \u001b[0m│\u001b[90m        mol \u001b[0m│\u001b[90m      mol \u001b[0m│\u001b[90m          \u001b[0m│\n",
      "├─────────┼────────┼────────────┼──────────┼──────────┤\n",
      "│     NH₃ │ #undef │     #undef │   #undef │   #undef │\n",
      "│      N₂ │ #undef │     #undef │   #undef │   #undef │\n",
      "│      H₂ │ #undef │     #undef │   #undef │   #undef │\n",
      "│   Total │ #undef │     #undef │   #undef │   #undef │\n",
      "└─────────┴────────┴────────────┴──────────┴──────────┘\n"
     ]
    }
   ],
   "source": [
    "# setup state table -\n",
    "number_of_species = 3;\n",
    "\n",
    "# header row -\n",
    "state_table_header_row = ([\"Species\",\"σ_i1\",\"nᵢ_initial\",\"nᵢ_final\",\"yᵢ_final\"],[\"\",\"\",\"mol\", \"mol\", \"\"]);\n",
    "\n",
    "# setup state table data array =\n",
    "state_table_array = Array{Any,2}(undef, 4,5);\n",
    "\n",
    "# species -\n",
    "# row 1\n",
    "state_table_array[1,1] = \"NH₃\"\n",
    "\n",
    "# row 2 -\n",
    "state_table_array[2,1] = \"N₂\"\n",
    "\n",
    "# row 3 -\n",
    "state_table_array[3,1] = \"H₂\"\n",
    "\n",
    "# row 4 -\n",
    "state_table_array[4,1] = \"Total\"\n",
    "\n",
    "# write the table -\n",
    "pretty_table(state_table_array; header=state_table_header_row)"
   ]
  },
  {
   "cell_type": "markdown",
   "id": "2f7a97bf-e501-4935-b42f-1e09205c8be0",
   "metadata": {},
   "source": [
    "### b) Compute the missing value for the pressure $P$ in the reactor (units: MPa)"
   ]
  },
  {
   "cell_type": "code",
   "execution_count": 8,
   "id": "9367394f-079a-4439-93d0-18577f00d464",
   "metadata": {},
   "outputs": [],
   "source": [
    "# fill me in ..."
   ]
  },
  {
   "cell_type": "markdown",
   "id": "d46183ab-73c0-49a7-9449-5e6b48ecc6b6",
   "metadata": {},
   "source": [
    "### c) Compute a value for the gas-phase ideal equilibrium constant using your composition and pressure values "
   ]
  },
  {
   "cell_type": "code",
   "execution_count": 6,
   "id": "e856d7f9-966e-425f-8304-aaa82f2d7bba",
   "metadata": {},
   "outputs": [],
   "source": [
    "# fill me in ..."
   ]
  },
  {
   "cell_type": "markdown",
   "id": "0148becf-ae04-4478-b20f-2b99af73029e",
   "metadata": {},
   "source": [
    "### d) Compute the $\\Delta{G}^{\\circ}$ of reaction using your state values for the decomposition of NH$_{3}$(g). Is this reaction energetically favorable (yes -or- no)?"
   ]
  },
  {
   "cell_type": "code",
   "execution_count": 7,
   "id": "83a61b11-344b-44ab-a813-8bd3d9c6a4b1",
   "metadata": {},
   "outputs": [],
   "source": [
    "# fill me in ..."
   ]
  }
 ],
 "metadata": {
  "kernelspec": {
   "display_name": "Julia 1.8.0",
   "language": "julia",
   "name": "julia-1.8"
  },
  "language_info": {
   "file_extension": ".jl",
   "mimetype": "application/julia",
   "name": "julia",
   "version": "1.8.2"
  }
 },
 "nbformat": 4,
 "nbformat_minor": 5
}
