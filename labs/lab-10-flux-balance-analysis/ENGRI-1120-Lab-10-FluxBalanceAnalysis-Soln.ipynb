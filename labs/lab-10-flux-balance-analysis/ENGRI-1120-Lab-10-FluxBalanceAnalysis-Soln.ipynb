{
 "cells": [
  {
   "cell_type": "markdown",
   "id": "7d4d51d4-df61-4c52-b5e9-9450097655ad",
   "metadata": {},
   "source": [
    "## ENGRI 1120 Lab 10 Flux Balance Analysis for the production of the mRNA Vaccine BNT-162b2"
   ]
  },
  {
   "cell_type": "markdown",
   "id": "34409c04-5144-4c99-b291-91a040f75863",
   "metadata": {},
   "source": [
    "### Introduction\n",
    "In this lab, let's compute the optimal production rate for the BNT-162b2 mRNA product using flux balance analysis (FBA). For background reading on flux balance analysis, please check out the [ENGRI 1120 course notes](https://varnerlab.github.io/ENGRI-1120-IntroToChemE-Book/chapter-3-dir/flux-balance-analysis.html). \n",
    "\n",
    "__Assumptions__:\n",
    "* Reactions occur on a well-mixed microfluidic chip with a liquid reaction volume of $V=100\\mu{L}$.\n",
    "* Chips are ideal in every way, isothermal and constant pressure\n",
    "* Each chip has two-input ports and a single output port; we feed the gene for BNT-162b2 (which is a linear piece of DNA) into port one and [PURExpress](https://www.neb.com/products/e6800-purexpress-invitro-protein-synthesis-kit#Product%20Information) into port 2.\n",
    "* The gene and RNAP are stable, but the mRNA product is unstable and degrades; assume at least 10\\% of the mRNA that is produced degrades\n",
    "* Stream 1 and stream 2 have a volumetric flow rate of $\\dot{V}=1000\\mu{L}~min^{-1}$.\n",
    "\n",
    "__Compute__:\n",
    "\n",
    "Compute the output composition from the chip for different assumptions about the stability of the gene, components of [PURExpress](https://www.neb.com/products/e6800-purexpress-invitro-protein-synthesis-kit#Product%20Information) and the mRNA product"
   ]
  },
  {
   "cell_type": "markdown",
   "id": "3fe8f724-88b3-4cb5-842b-250f8e6094e5",
   "metadata": {},
   "source": [
    "### Lab setup"
   ]
  },
  {
   "cell_type": "code",
   "execution_count": 1,
   "id": "af71750b-9ba5-4ddd-86eb-8ec481921571",
   "metadata": {},
   "outputs": [
    {
     "name": "stderr",
     "output_type": "stream",
     "text": [
      "\u001b[32m\u001b[1m  Activating\u001b[22m\u001b[39m project at `~/Desktop/julia_work/ENGRI-1120-IntroToChemE-Example-Notebooks/labs/lab-10-flux-balance-analysis`\n",
      "\u001b[32m\u001b[1m  No Changes\u001b[22m\u001b[39m to `~/Desktop/julia_work/ENGRI-1120-IntroToChemE-Example-Notebooks/labs/lab-10-flux-balance-analysis/Project.toml`\n",
      "\u001b[32m\u001b[1m  No Changes\u001b[22m\u001b[39m to `~/Desktop/julia_work/ENGRI-1120-IntroToChemE-Example-Notebooks/labs/lab-10-flux-balance-analysis/Manifest.toml`\n"
     ]
    }
   ],
   "source": [
    "import Pkg; Pkg.activate(\".\"); Pkg.resolve(); Pkg.instantiate();"
   ]
  },
  {
   "cell_type": "code",
   "execution_count": 2,
   "id": "7e9ed6cc-8d1f-4871-9f95-8cff7ebc8a4e",
   "metadata": {},
   "outputs": [],
   "source": [
    "# load reqd packages and set paths -\n",
    "using JLD2\n",
    "using FileIO\n",
    "using PrettyTables\n",
    "using DataFrames\n",
    "using GLPK\n",
    "\n",
    "# setup paths -\n",
    "const _ROOT = pwd();\n",
    "const _PATH_TO_DATA = joinpath(_ROOT, \"data\");"
   ]
  },
  {
   "cell_type": "markdown",
   "id": "392f81f6-922b-4858-8a13-971efd9c2f5c",
   "metadata": {},
   "source": [
    "#### Load the example code library\n",
    "The call to the `include` function loads the `ENGRI-1120-Example-CodeLib.jl` library into the notebook; the library contains functions that we can use during the example. In particular, it contains the function:\n",
    "\n",
    "* The `compute_optimal_extent(stoichiometric_matrix::Array{Float64,2}, default_bounds_array::Array{Float64,2},\n",
    "    species_bounds_array::Array{Float64,2}, objective_coefficient_array::Array{Float64,1}; min_flag::Bool = true, θ::Float64 = 0.1) -> Tuple` function calls the [GLPK](https://www.gnu.org/software/glpk/) linear program solver. The `results` tuple contains several things, but the important ones are `calculated_flux_array`, `objective_value`, and the status/exit flags `status_flag` and `exit_flag` (which let us know if the solver successfully found a solution."
   ]
  },
  {
   "cell_type": "code",
   "execution_count": 3,
   "id": "5deb8480-13a3-4cb4-b0bc-772c0645eadd",
   "metadata": {},
   "outputs": [],
   "source": [
    "include(\"ENGRI-1120-Lab-10-CodeLib.jl\");"
   ]
  },
  {
   "cell_type": "code",
   "execution_count": 4,
   "id": "7131ac72-aeba-46e4-94d3-313a64216958",
   "metadata": {},
   "outputs": [],
   "source": [
    "# Constants -\n",
    "V = 100.0*(1/1e6); # units: L\n",
    "V̇₁ = 1000.0*(1/1e6); # volumetric flow rate stream 1 units: L/min\n",
    "V̇₂ = 1000.0*(1/1e6); # volumetric flow rate stream 2 units: L/min\n",
    "\n",
    "# what is the T7RNAP concentration in PURE?\n",
    "T7RNAP = 100.0; # units: μmol/L\n",
    "GENE = 1.0;   # gene concentration in stock solution units: μmol/L\n",
    "M_atp_c = 100*(1e6/1e3); # units: μmol/L\n",
    "M_utp_c = 100*(1e6/1e3); # units: μmol/L\n",
    "M_ctp_c = 100*(1e6/1e3); # units: μmol/L\n",
    "M_gtp_c = 100*(1e6/1e3); # units: μmol/L"
   ]
  },
  {
   "cell_type": "code",
   "execution_count": 5,
   "id": "9598d69f-c2bc-445d-acea-52cdc130b28b",
   "metadata": {},
   "outputs": [
    {
     "data": {
      "text/plain": [
       "Dict{String, Any} with 7 entries:\n",
       "  \"stochiometric_matrix\" => [-1.0 0.0 … 0.0 -1.0; -1.0 0.0 … -1.0 0.0; … ; 1.0 …\n",
       "  \"list_of_reactions\"    => [\"TX_BNT_162b2_binding\", \"TX_BNT_162b2_open\", \"BNT_…\n",
       "  \"reaction_table\"       => \u001b[1m6×7 DataFrame\u001b[0m…\n",
       "  \"flux_bounds_array\"    => [-1000.0 1000.0; 0.0 1000.0; … ; 0.0 1000.0; 0.0 10…\n",
       "  \"mRNA_sequence\"        => ['C', 'U', 'C', 'U', 'U', 'A', 'U', 'U', 'U', 'G'  …\n",
       "  \"list_of_species\"      => [\"G_BNT_162b2\", \"T7RNAP\", \"M_atp_c\", \"M_utp_c\", \"M_…\n",
       "  \"gene_sequence\"        => ['G', 'A', 'G', 'A', 'A', 'T', 'A', 'A', 'A', 'C'  …"
      ]
     },
     "execution_count": 5,
     "metadata": {},
     "output_type": "execute_result"
    }
   ],
   "source": [
    "# load the model file -\n",
    "model = load(joinpath(_PATH_TO_DATA, \"ENGRI-1120-BNT162b2-Model.jld2\"))[\"model\"]"
   ]
  },
  {
   "cell_type": "markdown",
   "id": "0fc29721-89ed-4edf-8835-70161d4bf6b7",
   "metadata": {},
   "source": [
    "### What's in the model file?"
   ]
  },
  {
   "cell_type": "code",
   "execution_count": 6,
   "id": "0342d80b-5195-4ca4-a868-ec1514378e87",
   "metadata": {},
   "outputs": [],
   "source": [
    "# get stuff from the model data structure -\n",
    "S = model[\"stochiometric_matrix\"]; # fix the spelling in the model file\n",
    "flux_bounds_array = model[\"flux_bounds_array\"];\n",
    "list_of_species = model[\"list_of_species\"];\n",
    "list_of_reactions = model[\"list_of_reactions\"];\n",
    "reaction_table = model[\"reaction_table\"];\n",
    "gene_sequence = model[\"gene_sequence\"];"
   ]
  },
  {
   "cell_type": "code",
   "execution_count": 7,
   "id": "2684f6a7-1e7f-49ed-a9ee-7ed83843298f",
   "metadata": {},
   "outputs": [
    {
     "data": {
      "text/html": [
       "<div><div style = \"float: left;\"><span>6×7 DataFrame</span></div><div style = \"clear: both;\"></div></div><div class = \"data-frame\" style = \"overflow-x: scroll;\"><table class = \"data-frame\" style = \"margin-bottom: 6px;\"><thead><tr class = \"header\"><th class = \"rowNumber\" style = \"font-weight: bold; text-align: right;\">Row</th><th style = \"text-align: left;\">id</th><th style = \"text-align: left;\">forward</th><th style = \"text-align: left;\">reverse</th><th style = \"text-align: left;\">reversibility</th><th style = \"text-align: left;\">LB</th><th style = \"text-align: left;\">UB</th><th style = \"text-align: left;\">ec</th></tr><tr class = \"subheader headerLastRow\"><th class = \"rowNumber\" style = \"font-weight: bold; text-align: right;\"></th><th title = \"String\" style = \"text-align: left;\">String</th><th title = \"String\" style = \"text-align: left;\">String</th><th title = \"String\" style = \"text-align: left;\">String</th><th title = \"Bool\" style = \"text-align: left;\">Bool</th><th title = \"Union{Missing, Float64}\" style = \"text-align: left;\">Float64?</th><th title = \"Union{Missing, Float64}\" style = \"text-align: left;\">Float64?</th><th title = \"Union{Missing, String}\" style = \"text-align: left;\">String?</th></tr></thead><tbody><tr><td class = \"rowNumber\" style = \"font-weight: bold; text-align: right;\">1</td><td style = \"text-align: left;\">TX_BNT_162b2_binding</td><td style = \"text-align: left;\">G_BNT_162b2+T7RNAP</td><td style = \"text-align: left;\">G_BNT_162b2_T7RNAP_closed</td><td style = \"text-align: right;\">true</td><td style = \"text-align: right;\">-Inf</td><td style = \"text-align: right;\">Inf</td><td style = \"font-style: italic; text-align: left;\">missing</td></tr><tr><td class = \"rowNumber\" style = \"font-weight: bold; text-align: right;\">2</td><td style = \"text-align: left;\">TX_BNT_162b2_open</td><td style = \"text-align: left;\">G_BNT_162b2_T7RNAP_closed</td><td style = \"text-align: left;\">G_BNT_162b2_T7RNAP_open</td><td style = \"text-align: right;\">false</td><td style = \"text-align: right;\">0.0</td><td style = \"text-align: right;\">Inf</td><td style = \"font-style: italic; text-align: left;\">missing</td></tr><tr><td class = \"rowNumber\" style = \"font-weight: bold; text-align: right;\">3</td><td style = \"text-align: left;\">BNT_162b2_transcription</td><td style = \"text-align: left;\">G_BNT_162b2_T7RNAP_open+798*M_atp_c+1004*M_utp_c+1060*M_ctp_c+1312*M_gtp_c</td><td style = \"text-align: left;\">mRNA_BNT_162b2+G_BNT_162b2+T7RNAP+4174*M_ppi_c</td><td style = \"text-align: right;\">false</td><td style = \"text-align: right;\">0.0</td><td style = \"text-align: right;\">Inf</td><td style = \"text-align: left;\">2.7.7.6</td></tr><tr><td class = \"rowNumber\" style = \"font-weight: bold; text-align: right;\">4</td><td style = \"text-align: left;\">mRNA_BNT_162b2_degradation</td><td style = \"text-align: left;\">mRNA_BNT_162b2</td><td style = \"text-align: left;\">798*M_amp_c+1004*M_ump_c+1060*M_cmp_c+1312*M_gmp_c</td><td style = \"text-align: right;\">false</td><td style = \"text-align: right;\">0.0</td><td style = \"text-align: right;\">Inf</td><td style = \"font-style: italic; text-align: left;\">missing</td></tr><tr><td class = \"rowNumber\" style = \"font-weight: bold; text-align: right;\">5</td><td style = \"text-align: left;\">RNAP_deactivation</td><td style = \"text-align: left;\">T7RNAP</td><td style = \"text-align: left;\">T7RNAP_inactive</td><td style = \"text-align: right;\">false</td><td style = \"text-align: right;\">0.0</td><td style = \"text-align: right;\">Inf</td><td style = \"font-style: italic; text-align: left;\">missing</td></tr><tr><td class = \"rowNumber\" style = \"font-weight: bold; text-align: right;\">6</td><td style = \"text-align: left;\">GENE_deactivation</td><td style = \"text-align: left;\">G_BNT_162b2</td><td style = \"text-align: left;\">G_BNT_162b2_inactive</td><td style = \"text-align: right;\">false</td><td style = \"text-align: right;\">0.0</td><td style = \"text-align: right;\">Inf</td><td style = \"font-style: italic; text-align: left;\">missing</td></tr></tbody></table></div>"
      ],
      "text/latex": [
       "\\begin{tabular}{r|ccc}\n",
       "\t& id & forward & \\\\\n",
       "\t\\hline\n",
       "\t& String & String & \\\\\n",
       "\t\\hline\n",
       "\t1 & TX\\_BNT\\_162b2\\_binding & G\\_BNT\\_162b2+T7RNAP & $\\dots$ \\\\\n",
       "\t2 & TX\\_BNT\\_162b2\\_open & G\\_BNT\\_162b2\\_T7RNAP\\_closed & $\\dots$ \\\\\n",
       "\t3 & BNT\\_162b2\\_transcription & G\\_BNT\\_162b2\\_T7RNAP\\_open+798*M\\_atp\\_c+1004*M\\_utp\\_c+1060*M\\_ctp\\_c+1312*M\\_gtp\\_c & $\\dots$ \\\\\n",
       "\t4 & mRNA\\_BNT\\_162b2\\_degradation & mRNA\\_BNT\\_162b2 & $\\dots$ \\\\\n",
       "\t5 & RNAP\\_deactivation & T7RNAP & $\\dots$ \\\\\n",
       "\t6 & GENE\\_deactivation & G\\_BNT\\_162b2 & $\\dots$ \\\\\n",
       "\\end{tabular}\n"
      ],
      "text/plain": [
       "\u001b[1m6×7 DataFrame\u001b[0m\n",
       "\u001b[1m Row \u001b[0m│\u001b[1m id                         \u001b[0m\u001b[1m forward                           \u001b[0m\u001b[1m reverse \u001b[0m ⋯\n",
       "     │\u001b[90m String                     \u001b[0m\u001b[90m String                            \u001b[0m\u001b[90m String  \u001b[0m ⋯\n",
       "─────┼──────────────────────────────────────────────────────────────────────────\n",
       "   1 │ TX_BNT_162b2_binding        G_BNT_162b2+T7RNAP                 G_BNT_16 ⋯\n",
       "   2 │ TX_BNT_162b2_open           G_BNT_162b2_T7RNAP_closed          G_BNT_16\n",
       "   3 │ BNT_162b2_transcription     G_BNT_162b2_T7RNAP_open+798*M_at…  mRNA_BNT\n",
       "   4 │ mRNA_BNT_162b2_degradation  mRNA_BNT_162b2                     798*M_am\n",
       "   5 │ RNAP_deactivation           T7RNAP                             T7RNAP_i ⋯\n",
       "   6 │ GENE_deactivation           G_BNT_162b2                        G_BNT_16\n",
       "\u001b[36m                                                               5 columns omitted\u001b[0m"
      ]
     },
     "execution_count": 7,
     "metadata": {},
     "output_type": "execute_result"
    }
   ],
   "source": [
    "reaction_table"
   ]
  },
  {
   "cell_type": "code",
   "execution_count": 8,
   "id": "9ed2afa0-452f-4327-b9df-68954f6e3a90",
   "metadata": {},
   "outputs": [],
   "source": [
    "# how many species, and reactions do we have?\n",
    "(ℳ, ℛ) = size(S);"
   ]
  },
  {
   "cell_type": "code",
   "execution_count": 9,
   "id": "34552d8c-ed40-4dc1-92f3-a57f8ca1d2d3",
   "metadata": {
    "tags": []
   },
   "outputs": [
    {
     "name": "stdout",
     "output_type": "stream",
     "text": [
      "┌───────┬───────────────────────────┐\n",
      "│\u001b[1m Index \u001b[0m│\u001b[1m                   Species \u001b[0m│\n",
      "├───────┼───────────────────────────┤\n",
      "│     1 │               G_BNT_162b2 │\n",
      "│     2 │                    T7RNAP │\n",
      "│     3 │                   M_atp_c │\n",
      "│     4 │                   M_utp_c │\n",
      "│     5 │                   M_ctp_c │\n",
      "│     6 │                   M_gtp_c │\n",
      "│     7 │            mRNA_BNT_162b2 │\n",
      "│     8 │                   M_ppi_c │\n",
      "│     9 │                   M_amp_c │\n",
      "│    10 │                   M_ump_c │\n",
      "│    11 │                   M_cmp_c │\n",
      "│    12 │                   M_gmp_c │\n",
      "│    13 │           T7RNAP_inactive │\n",
      "│    14 │      G_BNT_162b2_inactive │\n",
      "│    15 │ G_BNT_162b2_T7RNAP_closed │\n",
      "│    16 │   G_BNT_162b2_T7RNAP_open │\n",
      "└───────┴───────────────────────────┘\n"
     ]
    }
   ],
   "source": [
    "# species table -\n",
    "\n",
    "# initialize -\n",
    "species_index_table_data = Array{Any,2}(undef, ℳ, 2);\n",
    "\n",
    "# build table -\n",
    "for i ∈ 1:ℳ\n",
    "    species_index_table_data[i,1] = i;\n",
    "    species_index_table_data[i,2] = list_of_species[i];\n",
    "end\n",
    "\n",
    "# setup header -\n",
    "species_index_header_table = ([\"Index\", \"Species\"]);\n",
    "\n",
    "# build table -\n",
    "pretty_table(species_index_table_data; header=species_index_header_table);"
   ]
  },
  {
   "cell_type": "code",
   "execution_count": 10,
   "id": "e3091925-69cb-4a34-a6df-30e595a3106f",
   "metadata": {},
   "outputs": [],
   "source": [
    "# setup what's comining into the chip -\n",
    "ṅ₁ = zeros(ℳ,1);\n",
    "ṅ₂ = zeros(ℳ,1);\n",
    "\n",
    "# Stream 1: only DNA\n",
    "# let's suppose we put the DNA in stream 1 -\n",
    "ṅ₁[1,1] = GENE*V̇₁; # units: μmol/min\n",
    "ṅ₁[6,1] = 23.75;\n",
    "\n",
    "# Stream 2: the PURExpress mixture\n",
    "# in stream 2, we have the PURExpress components -\n",
    "ṅ₂[2,1] = T7RNAP*V̇₂;   # T7RNAP  units: μmol/min\n",
    "ṅ₂[3,1] = M_atp_c*V̇₂;  # M_atp_c units: μmol/min\n",
    "ṅ₂[4,1] = M_utp_c*V̇₂;  # M_utp_c units: μmol/min\n",
    "ṅ₂[5,1] = M_ctp_c*V̇₂;  # M_ctp_c units: μmol/min\n",
    "ṅ₂[6,1] = M_gtp_c*V̇₂;  # M_gtp_c units: μmol/min\n",
    "\n",
    "# Build the species bounds array -\n",
    "species_bounds_array = [-(ṅ₁ .+ ṅ₂) 10000.0*ones(ℳ,1)];"
   ]
  },
  {
   "cell_type": "code",
   "execution_count": 11,
   "id": "94abd344-dac1-4ea1-afe2-40d450e292f3",
   "metadata": {
    "tags": []
   },
   "outputs": [
    {
     "name": "stdout",
     "output_type": "stream",
     "text": [
      "┌───────────────────────────┬───────┬─────────────────┬─────────────────┐\n",
      "│\u001b[1m                   Species \u001b[0m│\u001b[1m index \u001b[0m│\u001b[1m ṅ₁,ᵢ (μmol/min) \u001b[0m│\u001b[1m ṅ₁,₂ (μmol/min) \u001b[0m│\n",
      "├───────────────────────────┼───────┼─────────────────┼─────────────────┤\n",
      "│               G_BNT_162b2 │     1 │           0.001 │             0.0 │\n",
      "│                    T7RNAP │     2 │             0.0 │             0.1 │\n",
      "│                   M_atp_c │     3 │             0.0 │           100.0 │\n",
      "│                   M_utp_c │     4 │             0.0 │           100.0 │\n",
      "│                   M_ctp_c │     5 │             0.0 │           100.0 │\n",
      "│                   M_gtp_c │     6 │           23.75 │           100.0 │\n",
      "│            mRNA_BNT_162b2 │     7 │             0.0 │             0.0 │\n",
      "│                   M_ppi_c │     8 │             0.0 │             0.0 │\n",
      "│                   M_amp_c │     9 │             0.0 │             0.0 │\n",
      "│                   M_ump_c │    10 │             0.0 │             0.0 │\n",
      "│                   M_cmp_c │    11 │             0.0 │             0.0 │\n",
      "│                   M_gmp_c │    12 │             0.0 │             0.0 │\n",
      "│           T7RNAP_inactive │    13 │             0.0 │             0.0 │\n",
      "│      G_BNT_162b2_inactive │    14 │             0.0 │             0.0 │\n",
      "│ G_BNT_162b2_T7RNAP_closed │    15 │             0.0 │             0.0 │\n",
      "│   G_BNT_162b2_T7RNAP_open │    16 │             0.0 │             0.0 │\n",
      "└───────────────────────────┴───────┴─────────────────┴─────────────────┘\n"
     ]
    }
   ],
   "source": [
    "# build a species input table -\n",
    "species_input_table_data = Array{Any,2}(undef, ℳ, 4);\n",
    "\n",
    "# populate the table -\n",
    "for i ∈ 1:ℳ\n",
    "    species_input_table_data[i,1] = list_of_species[i]\n",
    "    species_input_table_data[i,2] = i\n",
    "    species_input_table_data[i,3] = ṅ₁[i]\n",
    "    species_input_table_data[i,4] = ṅ₂[i]\n",
    "end\n",
    "\n",
    "# header for input composition table -\n",
    "header_input_table = ([\"Species\", \"index\", \"ṅ₁,ᵢ (μmol/min)\", \"ṅ₁,₂ (μmol/min)\"]);\n",
    "\n",
    "# show -\n",
    "pretty_table(species_input_table_data; header=header_input_table)"
   ]
  },
  {
   "cell_type": "markdown",
   "id": "9e45721a-63a0-4ab0-af49-e607b9305c39",
   "metadata": {
    "tags": []
   },
   "source": [
    "### Setup reaction bounds\n",
    "We get default bounds from the model generation system and can update these to model the reactions on the chip. The first reaction we consider is the `BNT_162b2_transcription` reaction; then, we'll set up bounds on the mRNA."
   ]
  },
  {
   "cell_type": "code",
   "execution_count": 12,
   "id": "02f2f208-6417-4648-8b58-4b71695b50f8",
   "metadata": {
    "jupyter": {
     "source_hidden": true
    },
    "tags": []
   },
   "outputs": [
    {
     "name": "stdout",
     "output_type": "stream",
     "text": [
      "┌───────┬────────────────────────────┐\n",
      "│\u001b[1m Index \u001b[0m│\u001b[1m                   Reaction \u001b[0m│\n",
      "├───────┼────────────────────────────┤\n",
      "│     1 │       TX_BNT_162b2_binding │\n",
      "│     2 │          TX_BNT_162b2_open │\n",
      "│     3 │    BNT_162b2_transcription │\n",
      "│     4 │ mRNA_BNT_162b2_degradation │\n",
      "│     5 │          RNAP_deactivation │\n",
      "│     6 │          GENE_deactivation │\n",
      "└───────┴────────────────────────────┘\n"
     ]
    }
   ],
   "source": [
    "# reaction table -\n",
    "\n",
    "# initialize -\n",
    "reaction_index_table_data = Array{Any,2}(undef, ℛ, 2);\n",
    "\n",
    "# build table -\n",
    "for i ∈ 1:ℛ\n",
    "    reaction_index_table_data[i,1] = i;\n",
    "    reaction_index_table_data[i,2] = list_of_reactions[i];\n",
    "end\n",
    "\n",
    "# setup header -\n",
    "reaction_index_header_table = ([\"Index\", \"Reaction\"]);\n",
    "\n",
    "# build table -\n",
    "pretty_table(reaction_index_table_data; header=reaction_index_header_table);"
   ]
  },
  {
   "cell_type": "code",
   "execution_count": 13,
   "id": "ea9786ee-f5e6-45fc-a708-daf420147d2b",
   "metadata": {},
   "outputs": [],
   "source": [
    "# get the default bounds\n",
    "ϵ̇_bounds = flux_bounds_array;"
   ]
  },
  {
   "cell_type": "markdown",
   "id": "bf995bc5-a8ba-47dc-9c40-6479da591f3d",
   "metadata": {},
   "source": [
    "#### Build a model for the transcriptional lower bound\n",
    "Let's assume we have a lower bound on transcription that takes the form:\n",
    "\n",
    "$$L_{3} = \\alpha\\cdot\\left(\\frac{G}{K+G}\\right)V$$\n",
    "\n",
    "The term $\\alpha$ is a pseudo-rate transcriptional rate constant that takes the form:\n",
    "\n",
    "$$\\alpha = R_{T}u\\left(\\frac{\\dot{v}}{L}\\right)$$\n",
    "\n",
    "where: \n",
    "\n",
    "* The term $R_{T}$ is the $\\mu$mols of RNAP polymerase available for reading the DNA\n",
    "* The term $u$ is a promoter activity factor; for this system, $u=0.95$.\n",
    "* The term $\\dot{v}$ is read-speed of the RNAP polymerase on the DNA in nt/s, see [BIND: 111871](https://bionumbers.hms.harvard.edu/bionumber.aspx?id=111871&ver=1&trm=RNAP+transcription+rate&org=)\n",
    "* The term $L$ denotes the length of the gene, for this system $L = 4175$ nt. \n",
    "\n",
    "The ${G}/{(K+G)}$ term is a _dimensionless_ function that captures the gene concentration available for transcription; this is a saturation term similar to the [enzyme_kinetics](https://varnerlab.github.io/ENGRI-1120-IntroToChemE-Book/chapter-3-dir/chemical-kinetics.html#enzyme-catalyzed-reactions) we studied earlier. The [teaching team](https://pubs.acs.org/doi/10.1021/acssynbio.7b00465) estimated the value of the saturation constant to be $K=0.166~\\mu{mol}/L$."
   ]
  },
  {
   "cell_type": "code",
   "execution_count": 14,
   "id": "9e8a2ef0-aa35-4532-92fc-23cd527189b8",
   "metadata": {},
   "outputs": [],
   "source": [
    "# Setup bounds -\n",
    "K = 0.116;\n",
    "L = length(gene_sequence);\n",
    "v̇ₜ = (90.0)*(60);\n",
    "Rₜ = T7RNAP;\n",
    "u = 0.95; # u-factor\n",
    "ϵ̇_bounds[3,1] = Rₜ*(v̇ₜ/L)*u*(GENE/(K+GENE))*V;"
   ]
  },
  {
   "cell_type": "markdown",
   "id": "30eb7783-38f9-49fc-81f0-132c5c923fe3",
   "metadata": {},
   "source": [
    "#### Build a model for the mRNA degradation lower bound"
   ]
  },
  {
   "cell_type": "code",
   "execution_count": 15,
   "id": "d0a6c0e8-9b4f-45cf-9df6-9726b122a768",
   "metadata": {},
   "outputs": [],
   "source": [
    "θ = 0.1;\n",
    "ϵ̇_bounds[4,1] = θ*ϵ̇_bounds[3,1];"
   ]
  },
  {
   "cell_type": "code",
   "execution_count": 16,
   "id": "94ccc007-f2fc-4721-a8a9-13884596e764",
   "metadata": {},
   "outputs": [
    {
     "name": "stdout",
     "output_type": "stream",
     "text": [
      "┌────────────────────────────┬────────────┬──────────┐\n",
      "│\u001b[1m                   Reaction \u001b[0m│\u001b[1m         Lᵢ \u001b[0m│\u001b[1m       Uᵢ \u001b[0m│\n",
      "│\u001b[90m                            \u001b[0m│\u001b[90m   μmol/min \u001b[0m│\u001b[90m μmol/min \u001b[0m│\n",
      "├────────────────────────────┼────────────┼──────────┤\n",
      "│       TX_BNT_162b2_binding │    -1000.0 │   1000.0 │\n",
      "│          TX_BNT_162b2_open │        0.0 │   1000.0 │\n",
      "│    BNT_162b2_transcription │  0.0110102 │   1000.0 │\n",
      "│ mRNA_BNT_162b2_degradation │ 0.00110102 │   1000.0 │\n",
      "│          RNAP_deactivation │        0.0 │   1000.0 │\n",
      "│          GENE_deactivation │        0.0 │   1000.0 │\n",
      "└────────────────────────────┴────────────┴──────────┘\n"
     ]
    }
   ],
   "source": [
    "# show flux bounds table -\n",
    "flux_bounds_table_data = Array{Any,2}(undef, ℛ,3);\n",
    "for i ∈ 1:ℛ\n",
    "    flux_bounds_table_data[i,1] = list_of_reactions[i];\n",
    "    flux_bounds_table_data[i,2] = ϵ̇_bounds[i,1];\n",
    "    flux_bounds_table_data[i,3] = ϵ̇_bounds[i,2];\n",
    "end\n",
    "\n",
    "# flux bounds header -\n",
    "flux_bounds_header = ([\"Reaction\", \"Lᵢ\", \"Uᵢ\"], [\"\", \"μmol/min\", \"μmol/min\"]);\n",
    "\n",
    "# show bounds table -\n",
    "pretty_table(flux_bounds_table_data; header = flux_bounds_header) "
   ]
  },
  {
   "cell_type": "markdown",
   "id": "8408d4ef-79e2-475f-9d9c-f9e5bea40a81",
   "metadata": {},
   "source": [
    "### Setup the objective vector"
   ]
  },
  {
   "cell_type": "code",
   "execution_count": 17,
   "id": "87c5c13f-0077-4c79-b848-ef5d1084a2e7",
   "metadata": {},
   "outputs": [],
   "source": [
    "# setup the objective coefficient array -\n",
    "obj_vector = zeros(ℛ);\n",
    "obj_vector[3] = -1; # maximize BNT_162b2_transcription reaction"
   ]
  },
  {
   "cell_type": "markdown",
   "id": "3cd6d0fd-b987-4b7a-98d9-ce917bb61f49",
   "metadata": {},
   "source": [
    "### Compute the optimal extent of reaction"
   ]
  },
  {
   "cell_type": "code",
   "execution_count": 18,
   "id": "bfe00431-ebf6-4261-888f-8e54b564b45a",
   "metadata": {},
   "outputs": [],
   "source": [
    "# compute the optimal flux, and then estimate the output on the chip\n",
    "result = compute_optimal_extent(S, ϵ̇_bounds, species_bounds_array, obj_vector);\n",
    "\n",
    "# build a system stream table -\n",
    "ϵ̇ = result.calculated_flux_array;\n",
    "\n",
    "# compute the output -\n",
    "ṅ₃ = (ṅ₁ + ṅ₂) + S*ϵ̇;\n",
    "\n",
    "# compute the Δ reaction -\n",
    "Δ = S*ϵ̇;"
   ]
  },
  {
   "cell_type": "code",
   "execution_count": 19,
   "id": "1c24a186-60a5-4a4a-9563-837ce0badb4c",
   "metadata": {},
   "outputs": [
    {
     "name": "stdout",
     "output_type": "stream",
     "text": [
      "Solver returned the exit flag = 0 and status_flag = 5\n"
     ]
    }
   ],
   "source": [
    "# check:\n",
    "status_flag = result.status_flag\n",
    "exit_flag = result.exit_flag\n",
    "println(\"Solver returned the exit flag = $(exit_flag) and status_flag = $(status_flag)\")"
   ]
  },
  {
   "cell_type": "code",
   "execution_count": 20,
   "id": "82fdce10-b768-4874-8229-2d75da123312",
   "metadata": {
    "tags": []
   },
   "outputs": [
    {
     "name": "stdout",
     "output_type": "stream",
     "text": [
      "┌───────────────────────────┬─────────────────┬─────────────────┬─────────────────┬──────────────┐\n",
      "│\u001b[1m                   Species \u001b[0m│\u001b[1m ṅ₁,ᵢ (μmol/min) \u001b[0m│\u001b[1m ṅ₂,ᵢ (μmol/min) \u001b[0m│\u001b[1m ṅ₃,ᵢ (μmol/min) \u001b[0m│\u001b[1m Δ (μmol/min) \u001b[0m│\n",
      "├───────────────────────────┼─────────────────┼─────────────────┼─────────────────┼──────────────┤\n",
      "│               G_BNT_162b2 │           0.001 │             0.0 │           0.001 │          0.0 │\n",
      "│                    T7RNAP │             0.0 │             0.1 │             0.1 │          0.0 │\n",
      "│                   M_atp_c │             0.0 │           100.0 │          24.731 │      -75.269 │\n",
      "│                   M_utp_c │             0.0 │           100.0 │           5.301 │      -94.699 │\n",
      "│                   M_ctp_c │             0.0 │           100.0 │           0.019 │      -99.981 │\n",
      "│                   M_gtp_c │           23.75 │           100.0 │             0.0 │      -123.75 │\n",
      "│            mRNA_BNT_162b2 │             0.0 │             0.0 │           0.093 │        0.093 │\n",
      "│                   M_ppi_c │             0.0 │             0.0 │         393.699 │      393.699 │\n",
      "│                   M_amp_c │             0.0 │             0.0 │           0.879 │        0.879 │\n",
      "│                   M_ump_c │             0.0 │             0.0 │           1.105 │        1.105 │\n",
      "│                   M_cmp_c │             0.0 │             0.0 │           1.167 │        1.167 │\n",
      "│                   M_gmp_c │             0.0 │             0.0 │           1.445 │        1.445 │\n",
      "│           T7RNAP_inactive │             0.0 │             0.0 │             0.0 │          0.0 │\n",
      "│      G_BNT_162b2_inactive │             0.0 │             0.0 │             0.0 │          0.0 │\n",
      "│ G_BNT_162b2_T7RNAP_closed │             0.0 │             0.0 │            -0.0 │         -0.0 │\n",
      "│   G_BNT_162b2_T7RNAP_open │             0.0 │             0.0 │             0.0 │          0.0 │\n",
      "└───────────────────────────┴─────────────────┴─────────────────┴─────────────────┴──────────────┘\n"
     ]
    }
   ],
   "source": [
    "system_flux_table_data = Array{Any,2}(undef, ℳ, 5);\n",
    "\n",
    "# populate the table -\n",
    "for i ∈ 1:ℳ\n",
    "    system_flux_table_data[i,1] = list_of_species[i];\n",
    "    system_flux_table_data[i,2] = ṅ₁[i];\n",
    "    system_flux_table_data[i,3] = ṅ₂[i];\n",
    "    system_flux_table_data[i,4] = round(ṅ₃[i], digits=3);\n",
    "    system_flux_table_data[i,5] = round(Δ[i], digits=3);\n",
    "end\n",
    "\n",
    "# header -\n",
    "state_table_header = ([\"Species\", \"ṅ₁,ᵢ (μmol/min)\", \"ṅ₂,ᵢ (μmol/min)\", \"ṅ₃,ᵢ (μmol/min)\", \"Δ (μmol/min)\"]);\n",
    "\n",
    "# show -\n",
    "pretty_table(system_flux_table_data; header = state_table_header)"
   ]
  },
  {
   "cell_type": "markdown",
   "id": "1d21e3af-6fb7-4940-aec8-89747da2a020",
   "metadata": {},
   "source": [
    "### How large can you make the `mRNA_BNT_162b2` flow rate at the chip exit?"
   ]
  },
  {
   "cell_type": "code",
   "execution_count": null,
   "id": "f02d25fe-b017-487f-b142-0ca20f59955c",
   "metadata": {},
   "outputs": [],
   "source": []
  }
 ],
 "metadata": {
  "kernelspec": {
   "display_name": "Julia 1.8.0",
   "language": "julia",
   "name": "julia-1.8"
  },
  "language_info": {
   "file_extension": ".jl",
   "mimetype": "application/julia",
   "name": "julia",
   "version": "1.8.2"
  }
 },
 "nbformat": 4,
 "nbformat_minor": 5
}
