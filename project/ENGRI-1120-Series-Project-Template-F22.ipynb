{
 "cells": [
  {
   "cell_type": "markdown",
   "id": "23e6742b-9c1b-473a-af2e-40ba90ff883f",
   "metadata": {},
   "source": [
    "# ENGRI 1120: Parallel Cell-free Production and Recovery of the mRNA BNT-162b2 Vaccine"
   ]
  },
  {
   "cell_type": "markdown",
   "id": "dbfbf87e-4766-4f57-884f-4f57c390cd3e",
   "metadata": {},
   "source": [
    "#### Your names and netids go here"
   ]
  },
  {
   "cell_type": "markdown",
   "id": "e2d1b90e-e590-4489-a136-16c74f81ccc5",
   "metadata": {},
   "source": [
    "## Introduction"
   ]
  },
  {
   "cell_type": "markdown",
   "id": "76c3d9a2-9965-4c36-90bd-392230585eca",
   "metadata": {},
   "source": [
    "## Materials and Methods"
   ]
  },
  {
   "cell_type": "markdown",
   "id": "c992adca-0680-42cc-89d5-74b8d9c659b6",
   "metadata": {},
   "source": [
    "### Project Setup"
   ]
  },
  {
   "cell_type": "code",
   "execution_count": 1,
   "id": "9087f9c8-fc35-4c16-9e4d-bd1ac8f71a2f",
   "metadata": {},
   "outputs": [
    {
     "name": "stderr",
     "output_type": "stream",
     "text": [
      "\u001b[32m\u001b[1m  Activating\u001b[22m\u001b[39m project at `~/Desktop/julia_work/ENGRI-1120-IntroToChemE-Example-Notebooks/project`\n",
      "\u001b[32m\u001b[1m  No Changes\u001b[22m\u001b[39m to `~/Desktop/julia_work/ENGRI-1120-IntroToChemE-Example-Notebooks/project/Project.toml`\n",
      "\u001b[32m\u001b[1m  No Changes\u001b[22m\u001b[39m to `~/Desktop/julia_work/ENGRI-1120-IntroToChemE-Example-Notebooks/project/Manifest.toml`\n"
     ]
    }
   ],
   "source": [
    "import Pkg; Pkg.activate(\".\"); Pkg.resolve(); Pkg.instantiate();"
   ]
  },
  {
   "cell_type": "code",
   "execution_count": 2,
   "id": "8b6f5e95-6b27-4294-82a1-0d36c8043946",
   "metadata": {},
   "outputs": [],
   "source": [
    "# load reqd packages and set paths -\n",
    "using JLD2\n",
    "using FileIO\n",
    "using PrettyTables\n",
    "using DataFrames\n",
    "using GLPK\n",
    "\n",
    "# setup paths -\n",
    "const _ROOT = pwd();\n",
    "const _PATH_TO_DATA = joinpath(_ROOT, \"data\");"
   ]
  },
  {
   "cell_type": "markdown",
   "id": "d92ba20b-7096-4cb5-9dcf-4375a8abc3b5",
   "metadata": {},
   "source": [
    "#### Load the project code library\n",
    "The call to the `include` function loads the `ENGRI-1120-Project-CodeLib.jl` library into the notebook; the library contains functions that we can use during the example. In particular, it contains the function:\n",
    "\n",
    "* The `compute_optimal_extent(stoichiometric_matrix::Array{Float64,2}, default_bounds_array::Array{Float64,2},\n",
    "    species_bounds_array::Array{Float64,2}, objective_coefficient_array::Array{Float64,1}; min_flag::Bool = true, θ::Float64 = 0.1) -> Tuple` function calls the [GLPK](https://www.gnu.org/software/glpk/) linear program solver. The `results` tuple contains several things, but the important ones are `calculated_flux_array`, `objective_value`, and the status/exit flags `status_flag` and `exit_flag` (which let us know if the solver successfully found a solution)."
   ]
  },
  {
   "cell_type": "code",
   "execution_count": 3,
   "id": "643bb3f5-8a44-4d10-8aaf-bac7c94ec962",
   "metadata": {},
   "outputs": [],
   "source": [
    "include(\"ENGRI-1120-Project-CodeLib.jl\");"
   ]
  },
  {
   "cell_type": "code",
   "execution_count": 4,
   "id": "a3090808-15ee-44ba-ac55-2097a7a9f9c5",
   "metadata": {},
   "outputs": [
    {
     "data": {
      "text/plain": [
       "Dict{String, Any} with 7 entries:\n",
       "  \"stochiometric_matrix\" => [-1.0 0.0 … 0.0 -1.0; -1.0 0.0 … -1.0 0.0; … ; 1.0 …\n",
       "  \"list_of_reactions\"    => [\"TX_BNT_162b2_binding\", \"TX_BNT_162b2_open\", \"BNT_…\n",
       "  \"reaction_table\"       => \u001b[1m6×7 DataFrame\u001b[0m…\n",
       "  \"flux_bounds_array\"    => [-1000.0 1000.0; 0.0 1000.0; … ; 0.0 1000.0; 0.0 10…\n",
       "  \"mRNA_sequence\"        => ['C', 'U', 'C', 'U', 'U', 'A', 'U', 'U', 'U', 'G'  …\n",
       "  \"list_of_species\"      => [\"G_BNT_162b2\", \"T7RNAP\", \"M_atp_c\", \"M_utp_c\", \"M_…\n",
       "  \"gene_sequence\"        => ['G', 'A', 'G', 'A', 'A', 'T', 'A', 'A', 'A', 'C'  …"
      ]
     },
     "execution_count": 4,
     "metadata": {},
     "output_type": "execute_result"
    }
   ],
   "source": [
    "# load the model file -\n",
    "model = load(joinpath(_PATH_TO_DATA, \"ENGRI-1120-BNT162b2-Model.jld2\"))[\"model\"]"
   ]
  },
  {
   "cell_type": "code",
   "execution_count": 5,
   "id": "a5dcb1bf-32c2-449c-ae06-a55f44ec0994",
   "metadata": {},
   "outputs": [],
   "source": [
    "# get stuff from the model data structure -\n",
    "S = model[\"stochiometric_matrix\"]; # fix the spelling in the model file\n",
    "flux_bounds_array = model[\"flux_bounds_array\"];\n",
    "list_of_species = model[\"list_of_species\"];\n",
    "list_of_reactions = model[\"list_of_reactions\"];\n",
    "reaction_table = model[\"reaction_table\"];\n",
    "gene_sequence = model[\"gene_sequence\"];"
   ]
  },
  {
   "cell_type": "code",
   "execution_count": 6,
   "id": "55db9867-ef5f-415f-908a-4f8be8338f4b",
   "metadata": {},
   "outputs": [
    {
     "data": {
      "text/html": [
       "<div><div style = \"float: left;\"><span>6×7 DataFrame</span></div><div style = \"clear: both;\"></div></div><div class = \"data-frame\" style = \"overflow-x: scroll;\"><table class = \"data-frame\" style = \"margin-bottom: 6px;\"><thead><tr class = \"header\"><th class = \"rowNumber\" style = \"font-weight: bold; text-align: right;\">Row</th><th style = \"text-align: left;\">id</th><th style = \"text-align: left;\">forward</th><th style = \"text-align: left;\">reverse</th><th style = \"text-align: left;\">reversibility</th><th style = \"text-align: left;\">LB</th><th style = \"text-align: left;\">UB</th><th style = \"text-align: left;\">ec</th></tr><tr class = \"subheader headerLastRow\"><th class = \"rowNumber\" style = \"font-weight: bold; text-align: right;\"></th><th title = \"String\" style = \"text-align: left;\">String</th><th title = \"String\" style = \"text-align: left;\">String</th><th title = \"String\" style = \"text-align: left;\">String</th><th title = \"Bool\" style = \"text-align: left;\">Bool</th><th title = \"Union{Missing, Float64}\" style = \"text-align: left;\">Float64?</th><th title = \"Union{Missing, Float64}\" style = \"text-align: left;\">Float64?</th><th title = \"Union{Missing, String}\" style = \"text-align: left;\">String?</th></tr></thead><tbody><tr><td class = \"rowNumber\" style = \"font-weight: bold; text-align: right;\">1</td><td style = \"text-align: left;\">TX_BNT_162b2_binding</td><td style = \"text-align: left;\">G_BNT_162b2+T7RNAP</td><td style = \"text-align: left;\">G_BNT_162b2_T7RNAP_closed</td><td style = \"text-align: right;\">true</td><td style = \"text-align: right;\">-Inf</td><td style = \"text-align: right;\">Inf</td><td style = \"font-style: italic; text-align: left;\">missing</td></tr><tr><td class = \"rowNumber\" style = \"font-weight: bold; text-align: right;\">2</td><td style = \"text-align: left;\">TX_BNT_162b2_open</td><td style = \"text-align: left;\">G_BNT_162b2_T7RNAP_closed</td><td style = \"text-align: left;\">G_BNT_162b2_T7RNAP_open</td><td style = \"text-align: right;\">false</td><td style = \"text-align: right;\">0.0</td><td style = \"text-align: right;\">Inf</td><td style = \"font-style: italic; text-align: left;\">missing</td></tr><tr><td class = \"rowNumber\" style = \"font-weight: bold; text-align: right;\">3</td><td style = \"text-align: left;\">BNT_162b2_transcription</td><td style = \"text-align: left;\">G_BNT_162b2_T7RNAP_open+798*M_atp_c+1004*M_utp_c+1060*M_ctp_c+1312*M_gtp_c</td><td style = \"text-align: left;\">mRNA_BNT_162b2+G_BNT_162b2+T7RNAP+4174*M_ppi_c</td><td style = \"text-align: right;\">false</td><td style = \"text-align: right;\">0.0</td><td style = \"text-align: right;\">Inf</td><td style = \"text-align: left;\">2.7.7.6</td></tr><tr><td class = \"rowNumber\" style = \"font-weight: bold; text-align: right;\">4</td><td style = \"text-align: left;\">mRNA_BNT_162b2_degradation</td><td style = \"text-align: left;\">mRNA_BNT_162b2</td><td style = \"text-align: left;\">798*M_amp_c+1004*M_ump_c+1060*M_cmp_c+1312*M_gmp_c</td><td style = \"text-align: right;\">false</td><td style = \"text-align: right;\">0.0</td><td style = \"text-align: right;\">Inf</td><td style = \"font-style: italic; text-align: left;\">missing</td></tr><tr><td class = \"rowNumber\" style = \"font-weight: bold; text-align: right;\">5</td><td style = \"text-align: left;\">RNAP_deactivation</td><td style = \"text-align: left;\">T7RNAP</td><td style = \"text-align: left;\">T7RNAP_inactive</td><td style = \"text-align: right;\">false</td><td style = \"text-align: right;\">0.0</td><td style = \"text-align: right;\">Inf</td><td style = \"font-style: italic; text-align: left;\">missing</td></tr><tr><td class = \"rowNumber\" style = \"font-weight: bold; text-align: right;\">6</td><td style = \"text-align: left;\">GENE_deactivation</td><td style = \"text-align: left;\">G_BNT_162b2</td><td style = \"text-align: left;\">G_BNT_162b2_inactive</td><td style = \"text-align: right;\">false</td><td style = \"text-align: right;\">0.0</td><td style = \"text-align: right;\">Inf</td><td style = \"font-style: italic; text-align: left;\">missing</td></tr></tbody></table></div>"
      ],
      "text/latex": [
       "\\begin{tabular}{r|ccc}\n",
       "\t& id & forward & \\\\\n",
       "\t\\hline\n",
       "\t& String & String & \\\\\n",
       "\t\\hline\n",
       "\t1 & TX\\_BNT\\_162b2\\_binding & G\\_BNT\\_162b2+T7RNAP & $\\dots$ \\\\\n",
       "\t2 & TX\\_BNT\\_162b2\\_open & G\\_BNT\\_162b2\\_T7RNAP\\_closed & $\\dots$ \\\\\n",
       "\t3 & BNT\\_162b2\\_transcription & G\\_BNT\\_162b2\\_T7RNAP\\_open+798*M\\_atp\\_c+1004*M\\_utp\\_c+1060*M\\_ctp\\_c+1312*M\\_gtp\\_c & $\\dots$ \\\\\n",
       "\t4 & mRNA\\_BNT\\_162b2\\_degradation & mRNA\\_BNT\\_162b2 & $\\dots$ \\\\\n",
       "\t5 & RNAP\\_deactivation & T7RNAP & $\\dots$ \\\\\n",
       "\t6 & GENE\\_deactivation & G\\_BNT\\_162b2 & $\\dots$ \\\\\n",
       "\\end{tabular}\n"
      ],
      "text/plain": [
       "\u001b[1m6×7 DataFrame\u001b[0m\n",
       "\u001b[1m Row \u001b[0m│\u001b[1m id                         \u001b[0m\u001b[1m forward                           \u001b[0m\u001b[1m reverse \u001b[0m ⋯\n",
       "     │\u001b[90m String                     \u001b[0m\u001b[90m String                            \u001b[0m\u001b[90m String  \u001b[0m ⋯\n",
       "─────┼──────────────────────────────────────────────────────────────────────────\n",
       "   1 │ TX_BNT_162b2_binding        G_BNT_162b2+T7RNAP                 G_BNT_16 ⋯\n",
       "   2 │ TX_BNT_162b2_open           G_BNT_162b2_T7RNAP_closed          G_BNT_16\n",
       "   3 │ BNT_162b2_transcription     G_BNT_162b2_T7RNAP_open+798*M_at…  mRNA_BNT\n",
       "   4 │ mRNA_BNT_162b2_degradation  mRNA_BNT_162b2                     798*M_am\n",
       "   5 │ RNAP_deactivation           T7RNAP                             T7RNAP_i ⋯\n",
       "   6 │ GENE_deactivation           G_BNT_162b2                        G_BNT_16\n",
       "\u001b[36m                                                               5 columns omitted\u001b[0m"
      ]
     },
     "execution_count": 6,
     "metadata": {},
     "output_type": "execute_result"
    }
   ],
   "source": [
    "reaction_table"
   ]
  },
  {
   "cell_type": "code",
   "execution_count": 7,
   "id": "117417d4-2690-4a3a-8be5-5404e313fc56",
   "metadata": {},
   "outputs": [],
   "source": [
    "# How many species and reactions?\n",
    "(ℳ, ℛ) = size(S);"
   ]
  },
  {
   "cell_type": "code",
   "execution_count": 8,
   "id": "8208533f-04f4-4039-8a7b-44be76fce2d0",
   "metadata": {
    "jupyter": {
     "source_hidden": true
    },
    "tags": []
   },
   "outputs": [
    {
     "name": "stdout",
     "output_type": "stream",
     "text": [
      "┌───────┬───────────────────────────┐\n",
      "│\u001b[1m Index \u001b[0m│\u001b[1m                   Species \u001b[0m│\n",
      "├───────┼───────────────────────────┤\n",
      "│     1 │               G_BNT_162b2 │\n",
      "│     2 │                    T7RNAP │\n",
      "│     3 │                   M_atp_c │\n",
      "│     4 │                   M_utp_c │\n",
      "│     5 │                   M_ctp_c │\n",
      "│     6 │                   M_gtp_c │\n",
      "│     7 │            mRNA_BNT_162b2 │\n",
      "│     8 │                   M_ppi_c │\n",
      "│     9 │                   M_amp_c │\n",
      "│    10 │                   M_ump_c │\n",
      "│    11 │                   M_cmp_c │\n",
      "│    12 │                   M_gmp_c │\n",
      "│    13 │           T7RNAP_inactive │\n",
      "│    14 │      G_BNT_162b2_inactive │\n",
      "│    15 │ G_BNT_162b2_T7RNAP_closed │\n",
      "│    16 │   G_BNT_162b2_T7RNAP_open │\n",
      "└───────┴───────────────────────────┘\n"
     ]
    }
   ],
   "source": [
    "# initialize -\n",
    "species_index_table_data = Array{Any,2}(undef, ℳ, 2);\n",
    "\n",
    "# build table -\n",
    "for i ∈ 1:ℳ\n",
    "    species_index_table_data[i,1] = i;\n",
    "    species_index_table_data[i,2] = list_of_species[i];\n",
    "end\n",
    "\n",
    "# setup header -\n",
    "species_index_header_table = ([\"Index\", \"Species\"]);\n",
    "\n",
    "# build table -\n",
    "pretty_table(species_index_table_data; header=species_index_header_table);"
   ]
  },
  {
   "cell_type": "markdown",
   "id": "8f4b9bca-9d21-4f12-88fc-9eec06661610",
   "metadata": {},
   "source": [
    "### Setup the constants, feed rates and compositions"
   ]
  },
  {
   "cell_type": "code",
   "execution_count": 9,
   "id": "edb099ea-ee49-4e00-ad7c-9a9b2458a706",
   "metadata": {},
   "outputs": [],
   "source": [
    "# how many chips in parallel?\n",
    "number_of_chips = 20;\n",
    "\n",
    "# what fraction of the mRNA degrades?\n",
    "δ = 0.10;\n",
    "\n",
    "# MSU split ratio -\n",
    "θ = 0.99;\n",
    "\n",
    "# volume -\n",
    "V = 100.0*(1/1e6); # liquid reaction volume on each chip units: L\n",
    "\n",
    "# Stock solution 1: DNA -> feed into splitter (mux) by pump 1\n",
    "# Composition of the DNA source solution (flows into the chip in stream/channel 1)\n",
    "G_BNT_162b2 = 1.0;     # gene concentration in stock solution units: μmol/L\n",
    "\n",
    "# Stock solution 2: PURExpress -> feed into splitter (mux) by pump 2\n",
    "# Composition of PURExpress (flows into the chip in stream/channel 2)\n",
    "T7RNAP = 100.0;          # concentration in PURExpress units: μmol/L\n",
    "M_atp_c = 100*(1e6/1e3); # concentration in PURExpress units: μmol/L\n",
    "M_utp_c = 100*(1e6/1e3); # concentration in PURExpress units: μmol/L\n",
    "M_ctp_c = 100*(1e6/1e3); # concentration in PURExpress units: μmol/L\n",
    "M_gtp_c = 100*(1e6/1e3); # concentration in PURExpress units: μmol/L\n",
    "\n",
    "# Volumetric flow rates from the pump *into* the splitter unit - our base case will 1 ml/min into the chips, thus, we need\n",
    "# to scale by the number of chips\n",
    "V̇₁ = number_of_chips*1000.0*(1/1e6); # volumetric flow rate from pump 1 (this goes into splitter 1) units: L/min\n",
    "V̇₂ = number_of_chips*1000.0*(1/1e6); # volumetric flow rate of pump 2 (this goes into splitter 2) units: L/min\n",
    "\n",
    "# stuff needed for later -\n",
    "F̂₁ = V̇₁/(V̇₁+V̇₂); # do not change\n",
    "F̂₂ = V̇₂/(V̇₁+V̇₂); # do not change"
   ]
  },
  {
   "cell_type": "markdown",
   "id": "d6eba82f-57dd-47ca-a04e-42ca3e2f5dff",
   "metadata": {},
   "source": [
    "### Inputs streams"
   ]
  },
  {
   "cell_type": "markdown",
   "id": "779f9f8b-1a29-4fa6-8d65-6f0913563ced",
   "metadata": {},
   "source": [
    "##### Feed stream 1"
   ]
  },
  {
   "cell_type": "code",
   "execution_count": 10,
   "id": "3f5f3c3d-f73f-4449-87a2-1c0b365a5539",
   "metadata": {},
   "outputs": [],
   "source": [
    "# setup feed compostions for feed stream 1\n",
    "ṅ₁ = zeros(ℳ); # default is zero, correct specific values -\n",
    "ṅ₁[1] = G_BNT_162b2*V̇₁*(1/number_of_chips); # units: μmol/min"
   ]
  },
  {
   "cell_type": "markdown",
   "id": "bf0ded76-4123-4232-9324-6a3528923c74",
   "metadata": {},
   "source": [
    "##### Feed stream 2\n",
    "Feed stream 2 contains [PURExpress](https://www.neb.com/products/e6800-purexpress-invitro-protein-synthesis-kit#Product%20Information) which contains everything we need to make our mRNA product of interest _expect_ the linear DNA. "
   ]
  },
  {
   "cell_type": "code",
   "execution_count": 11,
   "id": "816f2506-48bd-4fae-9396-2e6ea91e085e",
   "metadata": {},
   "outputs": [],
   "source": [
    "# setup feed compostions for feed stream 2\n",
    "ṅ₂ = zeros(ℳ); # default is zero, then correct specific values -\n",
    "ṅ₂[2] = T7RNAP*V̇₂*(1/number_of_chips);  # units: μmol/min\n",
    "ṅ₂[3] = M_atp_c*V̇₂*(1/number_of_chips); # units: μmol/min\n",
    "ṅ₂[4] = M_utp_c*V̇₂*(1/number_of_chips); # units: μmol/min\n",
    "ṅ₂[5] = M_ctp_c*V̇₂*(1/number_of_chips); # units: μmol/min\n",
    "ṅ₂[6] = M_gtp_c*V̇₂*(1/number_of_chips); # units: μmol/min"
   ]
  },
  {
   "cell_type": "markdown",
   "id": "eb2540d8-a0b2-467b-94ed-20df1bbc0e57",
   "metadata": {},
   "source": [
    "### Flux balance analysis setup\n",
    "We get default species and flux bounds from the model generation system. We'll update these to model the feed streams and chemical reactions on the chip. "
   ]
  },
  {
   "cell_type": "code",
   "execution_count": 12,
   "id": "954766fb-ec77-48c6-9ed1-3bf4361ef02a",
   "metadata": {},
   "outputs": [],
   "source": [
    "# species bounds array -\n",
    "species_bounds_array = [-(ṅ₁ .+ ṅ₂) 10000.0*ones(ℳ,1)];"
   ]
  },
  {
   "cell_type": "code",
   "execution_count": 13,
   "id": "05eea225-a5c3-4b96-9f6c-675557dd1d90",
   "metadata": {
    "jupyter": {
     "source_hidden": true
    },
    "tags": []
   },
   "outputs": [
    {
     "name": "stdout",
     "output_type": "stream",
     "text": [
      "┌───────┬────────────────────────────┐\n",
      "│\u001b[1m Index \u001b[0m│\u001b[1m                   Reaction \u001b[0m│\n",
      "├───────┼────────────────────────────┤\n",
      "│     1 │       TX_BNT_162b2_binding │\n",
      "│     2 │          TX_BNT_162b2_open │\n",
      "│     3 │    BNT_162b2_transcription │\n",
      "│     4 │ mRNA_BNT_162b2_degradation │\n",
      "│     5 │          RNAP_deactivation │\n",
      "│     6 │          GENE_deactivation │\n",
      "└───────┴────────────────────────────┘\n"
     ]
    }
   ],
   "source": [
    "# initialize -\n",
    "reaction_index_table_data = Array{Any,2}(undef, ℛ, 2);\n",
    "\n",
    "# build table -\n",
    "for i ∈ 1:ℛ\n",
    "    reaction_index_table_data[i,1] = i;\n",
    "    reaction_index_table_data[i,2] = list_of_reactions[i];\n",
    "end\n",
    "\n",
    "# setup header -\n",
    "reaction_index_header_table = ([\"Index\", \"Reaction\"]);\n",
    "\n",
    "# build table -\n",
    "pretty_table(reaction_index_table_data; header=reaction_index_header_table);"
   ]
  },
  {
   "cell_type": "code",
   "execution_count": 14,
   "id": "b8d99481-c895-48c7-901e-9857415df738",
   "metadata": {},
   "outputs": [],
   "source": [
    "# initialize -\n",
    "flux_bounds_array = zeros(ℛ,2);\n",
    "flux_bounds_array[:,2] .= 1000.0; # large default upper bound\n",
    "\n",
    "# Get the RNAP and GENE concentration -\n",
    "Rₜ = T7RNAP*F̂₂;        # effective RNAP concentratation on the chip for the bounds units: μmol/L\n",
    "GENE = G_BNT_162b2*F̂₁ # effective GENE concentratation on the chip for the bounds units: μmol/L\n",
    "\n",
    "# Setup bounds for transcription -\n",
    "K = 0.116; # saturation constant units: μmol/L \n",
    "L = length(gene_sequence);\n",
    "v̇ₜ = (90.0)*(60);\n",
    "u = 0.95; # u-factor\n",
    "flux_bounds_array[3,:] .= Rₜ*(v̇ₜ/L)*u*(GENE/(K+GENE))*V; # equality constraint\n",
    "\n",
    "# Setup bound for degradation (lower bound)\n",
    "flux_bounds_array[4,1] = δ*flux_bounds_array[3,1];"
   ]
  },
  {
   "cell_type": "markdown",
   "id": "f966f46c-43ff-4476-ba47-341f0ebc3012",
   "metadata": {},
   "source": [
    "### Objective coefficient array"
   ]
  },
  {
   "cell_type": "code",
   "execution_count": 15,
   "id": "0bb000a0-1e21-4a67-ba7b-04e67221fbb3",
   "metadata": {},
   "outputs": [],
   "source": [
    "# setup the objective coefficient array -\n",
    "obj_vector = zeros(ℛ);\n",
    "obj_vector[3] = -1; # maximize BNT_162b2_transcription reaction"
   ]
  },
  {
   "cell_type": "markdown",
   "id": "4faa535b-6df1-4931-b033-0d4e0a165d90",
   "metadata": {},
   "source": [
    "## Results"
   ]
  },
  {
   "cell_type": "markdown",
   "id": "d7d1ae72-a727-496a-a2c7-c54fd9c0f1b2",
   "metadata": {},
   "source": [
    "### Optimal extent of reaction and exit stream composition per chip\n"
   ]
  },
  {
   "cell_type": "code",
   "execution_count": 16,
   "id": "76ee9bc7-4724-40b8-9685-90363ac19e0f",
   "metadata": {},
   "outputs": [],
   "source": [
    "# compute the optimal flux, and then estimate the output on the chip\n",
    "result = compute_optimal_extent(S, flux_bounds_array, species_bounds_array, obj_vector);\n",
    "\n",
    "# build a system stream table -\n",
    "ϵ̇ = result.calculated_flux_array;\n",
    "\n",
    "# compute the output -\n",
    "ṅ₃ = (ṅ₁ + ṅ₂) + S*ϵ̇;\n",
    "\n",
    "# compute the Δ reaction -\n",
    "Δ = S*ϵ̇;"
   ]
  },
  {
   "cell_type": "code",
   "execution_count": 17,
   "id": "dd340c3e-6ea1-4c9c-a0d4-ab99a9a5d276",
   "metadata": {},
   "outputs": [
    {
     "name": "stdout",
     "output_type": "stream",
     "text": [
      "Solver returned the exit flag = 0 and status_flag = 5\n"
     ]
    }
   ],
   "source": [
    "# check:\n",
    "status_flag = result.status_flag\n",
    "exit_flag = result.exit_flag\n",
    "println(\"Solver returned the exit flag = $(exit_flag) and status_flag = $(status_flag)\")"
   ]
  },
  {
   "cell_type": "code",
   "execution_count": 18,
   "id": "aae47456-162f-462b-b7ec-3f264789c815",
   "metadata": {
    "tags": []
   },
   "outputs": [
    {
     "name": "stdout",
     "output_type": "stream",
     "text": [
      "┌───────────────────────────┬─────────┬────────────┬────────────┬────────────┬────────────┐\n",
      "│\u001b[1m                   Species \u001b[0m│\u001b[1m index i \u001b[0m│\u001b[1m       ṅ₁,ᵢ \u001b[0m│\u001b[1m       ṅ₂,ᵢ \u001b[0m│\u001b[1m       ṅ₃,ᵢ \u001b[0m│\u001b[1m          Δ \u001b[0m│\n",
      "│\u001b[90m                           \u001b[0m│\u001b[90m         \u001b[0m│\u001b[90m (μmol/min) \u001b[0m│\u001b[90m (μmol/min) \u001b[0m│\u001b[90m (μmol/min) \u001b[0m│\u001b[90m (μmol/min) \u001b[0m│\n",
      "├───────────────────────────┼─────────┼────────────┼────────────┼────────────┼────────────┤\n",
      "│               G_BNT_162b2 │       1 │        0.0 │        0.0 │        0.0 │        0.0 │\n",
      "│                    T7RNAP │       2 │        0.0 │        0.1 │        0.1 │        0.0 │\n",
      "│                   M_atp_c │       3 │        0.0 │      100.0 │      100.0 │        0.0 │\n",
      "│                   M_utp_c │       4 │        0.0 │      100.0 │      100.0 │        0.0 │\n",
      "│                   M_ctp_c │       5 │        0.0 │      100.0 │      100.0 │        0.0 │\n",
      "│                   M_gtp_c │       6 │        0.0 │      100.0 │      100.0 │        0.0 │\n",
      "│            mRNA_BNT_162b2 │       7 │        0.0 │        0.0 │        0.0 │        0.0 │\n",
      "│                   M_ppi_c │       8 │        0.0 │        0.0 │        0.0 │        0.0 │\n",
      "│                   M_amp_c │       9 │        0.0 │        0.0 │        0.0 │        0.0 │\n",
      "│                   M_ump_c │      10 │        0.0 │        0.0 │        0.0 │        0.0 │\n",
      "│                   M_cmp_c │      11 │        0.0 │        0.0 │        0.0 │        0.0 │\n",
      "│                   M_gmp_c │      12 │        0.0 │        0.0 │        0.0 │        0.0 │\n",
      "│           T7RNAP_inactive │      13 │        0.0 │        0.0 │        0.0 │        0.0 │\n",
      "│      G_BNT_162b2_inactive │      14 │        0.0 │        0.0 │        0.0 │        0.0 │\n",
      "│ G_BNT_162b2_T7RNAP_closed │      15 │        0.0 │        0.0 │        0.0 │        0.0 │\n",
      "│   G_BNT_162b2_T7RNAP_open │      16 │        0.0 │        0.0 │        0.0 │        0.0 │\n",
      "└───────────────────────────┴─────────┴────────────┴────────────┴────────────┴────────────┘\n"
     ]
    }
   ],
   "source": [
    "system_flux_table_data = Array{Any,2}(undef, ℳ, 6);\n",
    "\n",
    "# populate the table -\n",
    "for i ∈ 1:ℳ\n",
    "    system_flux_table_data[i,1] = list_of_species[i];\n",
    "    system_flux_table_data[i,2] = i;\n",
    "    system_flux_table_data[i,3] = ṅ₁[i];\n",
    "    system_flux_table_data[i,4] = ṅ₂[i];\n",
    "    system_flux_table_data[i,5] = round(ṅ₃[i], digits=3);\n",
    "    system_flux_table_data[i,6] = round(Δ[i], digits=3);\n",
    "end\n",
    "\n",
    "# header -\n",
    "state_table_header = (\n",
    "    [\"Species\", \"index i\", \"ṅ₁,ᵢ\", \"ṅ₂,ᵢ\", \"ṅ₃,ᵢ\", \"Δ\"], \n",
    "    [\"\",\"\",\"(μmol/min)\", \"(μmol/min)\", \"(μmol/min)\", \"(μmol/min)\"]\n",
    ");\n",
    "\n",
    "# show -\n",
    "pretty_table(system_flux_table_data; header = state_table_header)"
   ]
  },
  {
   "cell_type": "markdown",
   "id": "e87e7984-92b8-426d-a0b0-56126f75bc1c",
   "metadata": {},
   "source": [
    "### Downstream seperation using Magical Seperator Units (MSU)"
   ]
  },
  {
   "cell_type": "code",
   "execution_count": 19,
   "id": "182cd067-ea09-464b-8aed-2f560622864a",
   "metadata": {},
   "outputs": [],
   "source": [
    "# build a downstream seperation process with this number of levels:\n",
    "number_of_levels = 6; # includes zero"
   ]
  },
  {
   "cell_type": "code",
   "execution_count": 20,
   "id": "f5456b44-0f35-4d9f-b0df-85afc56ecc74",
   "metadata": {
    "jupyter": {
     "source_hidden": true
    },
    "tags": []
   },
   "outputs": [
    {
     "name": "stdout",
     "output_type": "stream",
     "text": [
      "\u001b[1mTable 1: Magical Seperator Unit (MSU) flow table\u001b[0m\n",
      "┌───────────────────────────┬─────────┬────────┬─────────┬─────────┬───────────┬────────────┬───────────┬─────────┐\n",
      "│\u001b[1m                   Species \u001b[0m│\u001b[1m index i \u001b[0m│\u001b[1m     N0 \u001b[0m│\u001b[1m     N16 \u001b[0m│\u001b[1m     N17 \u001b[0m│\u001b[1m       N18 \u001b[0m│\u001b[1m        N19 \u001b[0m│\u001b[1m       N20 \u001b[0m│\u001b[1m     N21 \u001b[0m│\n",
      "├───────────────────────────┼─────────┼────────┼─────────┼─────────┼───────────┼────────────┼───────────┼─────────┤\n",
      "│               G_BNT_162b2 │       1 │    0.0 │     0.0 │     0.0 │       0.0 │        0.0 │       0.0 │     0.0 │\n",
      "│                    T7RNAP │       2 │    2.0 │ 2.0e-10 │ 1.98e-8 │ 1.9602e-6 │ 0.00019406 │ 0.0192119 │ 1.90198 │\n",
      "│                   M_atp_c │       3 │ 2000.0 │  2.0e-7 │ 1.98e-5 │ 0.0019602 │    0.19406 │   19.2119 │ 1901.98 │\n",
      "│                   M_utp_c │       4 │ 2000.0 │  2.0e-7 │ 1.98e-5 │ 0.0019602 │    0.19406 │   19.2119 │ 1901.98 │\n",
      "│                   M_ctp_c │       5 │ 2000.0 │  2.0e-7 │ 1.98e-5 │ 0.0019602 │    0.19406 │   19.2119 │ 1901.98 │\n",
      "│                   M_gtp_c │       6 │ 2000.0 │  2.0e-7 │ 1.98e-5 │ 0.0019602 │    0.19406 │   19.2119 │ 1901.98 │\n",
      "│            mRNA_BNT_162b2 │       7 │    0.0 │     0.0 │     0.0 │       0.0 │        0.0 │       0.0 │     0.0 │\n",
      "│                   M_ppi_c │       8 │    0.0 │     0.0 │     0.0 │       0.0 │        0.0 │       0.0 │     0.0 │\n",
      "│                   M_amp_c │       9 │    0.0 │     0.0 │     0.0 │       0.0 │        0.0 │       0.0 │     0.0 │\n",
      "│                   M_ump_c │      10 │    0.0 │     0.0 │     0.0 │       0.0 │        0.0 │       0.0 │     0.0 │\n",
      "│                   M_cmp_c │      11 │    0.0 │     0.0 │     0.0 │       0.0 │        0.0 │       0.0 │     0.0 │\n",
      "│                   M_gmp_c │      12 │    0.0 │     0.0 │     0.0 │       0.0 │        0.0 │       0.0 │     0.0 │\n",
      "│           T7RNAP_inactive │      13 │    0.0 │     0.0 │     0.0 │       0.0 │        0.0 │       0.0 │     0.0 │\n",
      "│      G_BNT_162b2_inactive │      14 │    0.0 │     0.0 │     0.0 │       0.0 │        0.0 │       0.0 │     0.0 │\n",
      "│ G_BNT_162b2_T7RNAP_closed │      15 │    0.0 │     0.0 │     0.0 │       0.0 │        0.0 │       0.0 │     0.0 │\n",
      "│   G_BNT_162b2_T7RNAP_open │      16 │    0.0 │     0.0 │     0.0 │       0.0 │        0.0 │       0.0 │     0.0 │\n",
      "└───────────────────────────┴─────────┴────────┴─────────┴─────────┴───────────┴────────────┴───────────┴─────────┘\n"
     ]
    }
   ],
   "source": [
    "# initialize -\n",
    "tmp_storage_dict = Dict{Int64, MSULatticeModel}();\n",
    "\n",
    "# is_product_vector -\n",
    "is_product_vector = zeros(ℳ);\n",
    "is_product_vector[7] = 1;\n",
    "\n",
    "# compute the composition array -\n",
    "for i ∈ 1:ℳ\n",
    "\n",
    "    if (is_product_vector[i] == 1)\n",
    "        msu_lattice_model = build(MSULatticeModel; ṅₒ = (number_of_chips)*ṅ₃[i], L = number_of_levels , u = θ, d = (1 - θ));\n",
    "    else\n",
    "        msu_lattice_model = build(MSULatticeModel; ṅₒ = (number_of_chips)*ṅ₃[i], L = number_of_levels , u = (1 - θ), d = θ);\n",
    "    end\n",
    "    \n",
    "    # grab -\n",
    "    tmp_storage_dict[i] = msu_lattice_model;\n",
    "end\n",
    "\n",
    "# grab the leaves -\n",
    "nodes_dict = build_nodes_dictionary(number_of_levels);\n",
    "children_dict = build_children_dictionary(nodes_dict);\n",
    "tree_leaves = nodes_dict[number_of_levels-1];\n",
    "\n",
    "# build a composition array -\n",
    "number_of_nodes = length(tree_leaves);\n",
    "composition_array = Array{Float64,2}(undef, number_of_nodes, ℳ);\n",
    "for i ∈ 1:ℳ\n",
    "    data = tmp_storage_dict[i].data;\n",
    "    for j ∈ 1:number_of_nodes\n",
    "        composition_array[j,i] = data[tree_leaves[j]]\n",
    "    end\n",
    "end\n",
    "\n",
    "# make a pretty table and show the leaves of the tree -\n",
    "\n",
    "# initialize -\n",
    "sep_tree_flow_table_data = Array{Any,2}(undef, ℳ, length(tree_leaves) + 3)\n",
    "for i ∈ 1:ℳ\n",
    "    sep_tree_flow_table_data[i,1] = list_of_species[i];\n",
    "    sep_tree_flow_table_data[i,2] = i;\n",
    "    sep_tree_flow_table_data[i,3] = (number_of_chips)*ṅ₃[i] # put node 0 in table -\n",
    "        \n",
    "    for j ∈ 1:length(tree_leaves)\n",
    "        sep_tree_flow_table_data[i,3+j] = composition_array[j,i]\n",
    "    end\n",
    "end\n",
    "\n",
    "# labels row -\n",
    "label_row = Array{String,1}();\n",
    "push!(label_row,\"Species\");\n",
    "push!(label_row,\"index i\")\n",
    "push!(label_row,\"N0\")\n",
    "for j ∈ 1:length(tree_leaves)\n",
    "    push!(label_row, \"N$(tree_leaves[j])\");\n",
    "end\n",
    "\n",
    "# header -\n",
    "sep_tree_flow_table_header = (label_row);\n",
    "\n",
    "# set title -\n",
    "title = \"Table 1: Magical Seperator Unit (MSU) flow table\"\n",
    "\n",
    "# show -\n",
    "pretty_table(sep_tree_flow_table_data, title=title; header=sep_tree_flow_table_header)"
   ]
  },
  {
   "cell_type": "code",
   "execution_count": 21,
   "id": "3a8b3f45-6f00-4201-9418-407810432f4c",
   "metadata": {
    "jupyter": {
     "source_hidden": true
    },
    "tags": []
   },
   "outputs": [
    {
     "name": "stdout",
     "output_type": "stream",
     "text": [
      "\u001b[1mTable 2: Magical Seperator Unit (MSU) composition table\u001b[0m\n",
      "┌───────────────────────────┬─────────┬───────────┬───────────┬───────────┬───────────┬───────────┬───────────┬───────────┐\n",
      "│\u001b[1m                   Species \u001b[0m│\u001b[1m index i \u001b[0m│\u001b[1m        N0 \u001b[0m│\u001b[1m       N16 \u001b[0m│\u001b[1m       N17 \u001b[0m│\u001b[1m       N18 \u001b[0m│\u001b[1m       N19 \u001b[0m│\u001b[1m       N20 \u001b[0m│\u001b[1m       N21 \u001b[0m│\n",
      "│\u001b[90m                           \u001b[0m│\u001b[90m         \u001b[0m│\u001b[90m mole frac \u001b[0m│\u001b[90m mole frac \u001b[0m│\u001b[90m mole frac \u001b[0m│\u001b[90m mole frac \u001b[0m│\u001b[90m mole frac \u001b[0m│\u001b[90m mole frac \u001b[0m│\u001b[90m mole frac \u001b[0m│\n",
      "├───────────────────────────┼─────────┼───────────┼───────────┼───────────┼───────────┼───────────┼───────────┼───────────┤\n",
      "│               G_BNT_162b2 │       1 │       0.0 │       0.0 │       0.0 │       0.0 │       0.0 │       0.0 │       0.0 │\n",
      "│                    T7RNAP │       2 │    0.0002 │    0.0002 │    0.0002 │    0.0002 │    0.0002 │    0.0002 │    0.0002 │\n",
      "│                   M_atp_c │       3 │    0.2499 │    0.2499 │    0.2499 │    0.2499 │    0.2499 │    0.2499 │    0.2499 │\n",
      "│                   M_utp_c │       4 │    0.2499 │    0.2499 │    0.2499 │    0.2499 │    0.2499 │    0.2499 │    0.2499 │\n",
      "│                   M_ctp_c │       5 │    0.2499 │    0.2499 │    0.2499 │    0.2499 │    0.2499 │    0.2499 │    0.2499 │\n",
      "│                   M_gtp_c │       6 │    0.2499 │    0.2499 │    0.2499 │    0.2499 │    0.2499 │    0.2499 │    0.2499 │\n",
      "│            mRNA_BNT_162b2 │       7 │       0.0 │       0.0 │       0.0 │       0.0 │       0.0 │       0.0 │       0.0 │\n",
      "│                   M_ppi_c │       8 │       0.0 │       0.0 │       0.0 │       0.0 │       0.0 │       0.0 │       0.0 │\n",
      "│                   M_amp_c │       9 │       0.0 │       0.0 │       0.0 │       0.0 │       0.0 │       0.0 │       0.0 │\n",
      "│                   M_ump_c │      10 │       0.0 │       0.0 │       0.0 │       0.0 │       0.0 │       0.0 │       0.0 │\n",
      "│                   M_cmp_c │      11 │       0.0 │       0.0 │       0.0 │       0.0 │       0.0 │       0.0 │       0.0 │\n",
      "│                   M_gmp_c │      12 │       0.0 │       0.0 │       0.0 │       0.0 │       0.0 │       0.0 │       0.0 │\n",
      "│           T7RNAP_inactive │      13 │       0.0 │       0.0 │       0.0 │       0.0 │       0.0 │       0.0 │       0.0 │\n",
      "│      G_BNT_162b2_inactive │      14 │       0.0 │       0.0 │       0.0 │       0.0 │       0.0 │       0.0 │       0.0 │\n",
      "│ G_BNT_162b2_T7RNAP_closed │      15 │       0.0 │       0.0 │       0.0 │       0.0 │       0.0 │       0.0 │       0.0 │\n",
      "│   G_BNT_162b2_T7RNAP_open │      16 │       0.0 │       0.0 │       0.0 │       0.0 │       0.0 │       0.0 │       0.0 │\n",
      "└───────────────────────────┴─────────┴───────────┴───────────┴───────────┴───────────┴───────────┴───────────┴───────────┘\n"
     ]
    }
   ],
   "source": [
    "# build mol frac composition table -\n",
    "\n",
    "# construct mol frac array -\n",
    "mol_frac_array = Array{Float64,2}(undef, ℳ, length(tree_leaves)+1);\n",
    "\n",
    "# node 0 -\n",
    "ṅ₃_total = sum(ṅ₃);\n",
    "for i ∈ 1:ℳ\n",
    "    mol_frac_array[i,1] = ṅ₃[i]*(1/ṅ₃_total);    \n",
    "end\n",
    "\n",
    "# get the sums along rows -\n",
    "ṅ_total = sum(composition_array,dims = 2);\n",
    "for node ∈ 1:length(tree_leaves)\n",
    "    for i ∈ 1:ℳ\n",
    "        mol_frac_array[i,node+1] = composition_array[node,i]*(1/ṅ_total[node]);\n",
    "    end\n",
    "end\n",
    "\n",
    "# initialize -\n",
    "sep_tree_mol_frac_table_data = Array{Any,2}(undef, ℳ, length(tree_leaves) + 3)\n",
    "for i ∈ 1:ℳ\n",
    "    sep_tree_mol_frac_table_data[i,1] = list_of_species[i];\n",
    "    sep_tree_mol_frac_table_data[i,2] = i;\n",
    "    sep_tree_mol_frac_table_data[i,3] = round(mol_frac_array[i,1], digits=4) # put node 0 in table -\n",
    "        \n",
    "    for j ∈ 1:length(tree_leaves)\n",
    "        sep_tree_mol_frac_table_data[i, 3+j] = round(mol_frac_array[i,j+1], digits=4)\n",
    "    end\n",
    "end\n",
    "\n",
    "# labels row -\n",
    "label_mft_row = Array{String,1}();\n",
    "push!(label_mft_row,\"Species\");\n",
    "push!(label_mft_row,\"index i\")\n",
    "push!(label_mft_row,\"N0\")\n",
    "for j ∈ 1:length(tree_leaves)\n",
    "    push!(label_mft_row, \"N$(tree_leaves[j])\");\n",
    "end\n",
    "\n",
    "# units row -\n",
    "units_mft_row = Array{String,1}();\n",
    "push!(units_mft_row, \"\");\n",
    "push!(units_mft_row, \"\");\n",
    "for j ∈ 1:length(tree_leaves)+1\n",
    "    push!(units_mft_row, \"mole frac\");\n",
    "end\n",
    "\n",
    "# header -\n",
    "sep_tree_mft_table_header = (label_mft_row, units_mft_row);\n",
    "\n",
    "# set title -\n",
    "title_mft = \"Table 2: Magical Seperator Unit (MSU) composition table\"\n",
    "\n",
    "# show -\n",
    "pretty_table(sep_tree_mol_frac_table_data, title=title_mft; header=sep_tree_mft_table_header)"
   ]
  },
  {
   "cell_type": "markdown",
   "id": "0ce74f58-3061-4901-b988-0beb2980a20c",
   "metadata": {},
   "source": [
    "## References and Additional Resources"
   ]
  },
  {
   "cell_type": "code",
   "execution_count": null,
   "id": "5fd291f4-fa9e-4b43-beb9-322115828cbe",
   "metadata": {},
   "outputs": [],
   "source": []
  }
 ],
 "metadata": {
  "kernelspec": {
   "display_name": "Julia 1.8.0",
   "language": "julia",
   "name": "julia-1.8"
  },
  "language_info": {
   "file_extension": ".jl",
   "mimetype": "application/julia",
   "name": "julia",
   "version": "1.8.2"
  }
 },
 "nbformat": 4,
 "nbformat_minor": 5
}
